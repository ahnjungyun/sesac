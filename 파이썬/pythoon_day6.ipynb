{
 "cells": [
  {
   "cell_type": "code",
   "execution_count": null,
   "id": "16aa771b",
   "metadata": {},
   "outputs": [],
   "source": []
  },
  {
   "cell_type": "code",
   "execution_count": null,
   "id": "16724b20",
   "metadata": {},
   "outputs": [],
   "source": []
  },
  {
   "cell_type": "code",
   "execution_count": null,
   "id": "a8006fc2",
   "metadata": {},
   "outputs": [],
   "source": []
  },
  {
   "cell_type": "code",
   "execution_count": 2,
   "id": "f7ad72d2",
   "metadata": {},
   "outputs": [
    {
     "name": "stdout",
     "output_type": "stream",
     "text": [
      "Hi\n"
     ]
    }
   ],
   "source": []
  },
  {
   "cell_type": "code",
   "execution_count": 6,
   "id": "b6647e80",
   "metadata": {},
   "outputs": [],
   "source": [
    "def hello():\n",
    "    print(\"Hi\")\n",
    "    s=1+2\n"
   ]
  },
  {
   "cell_type": "code",
   "execution_count": 7,
   "id": "ea6f36af",
   "metadata": {},
   "outputs": [
    {
     "name": "stdout",
     "output_type": "stream",
     "text": [
      "Hi\n"
     ]
    }
   ],
   "source": [
    "hello()"
   ]
  },
  {
   "cell_type": "code",
   "execution_count": 24,
   "id": "8abbe212",
   "metadata": {},
   "outputs": [],
   "source": [
    "def print_coins() :\n",
    "    return \"비트코인\\n\"*100\n",
    "return \"비트코인\\n비트코인\\n비트코인\\n...비트코인\\n\""
   ]
  },
  {
   "cell_type": "code",
   "execution_count": 26,
   "id": "7e8e8472",
   "metadata": {},
   "outputs": [
    {
     "name": "stdout",
     "output_type": "stream",
     "text": [
      "비트코인\n",
      "비트코인\n",
      "비트코인\n",
      "비트코인\n",
      "비트코인\n",
      "비트코인\n",
      "비트코인\n",
      "비트코인\n",
      "비트코인\n",
      "비트코인\n",
      "비트코인\n",
      "비트코인\n",
      "비트코인\n",
      "비트코인\n",
      "비트코인\n",
      "비트코인\n",
      "비트코인\n",
      "비트코인\n",
      "비트코인\n",
      "비트코인\n",
      "비트코인\n",
      "비트코인\n",
      "비트코인\n",
      "비트코인\n",
      "비트코인\n",
      "비트코인\n",
      "비트코인\n",
      "비트코인\n",
      "비트코인\n",
      "비트코인\n",
      "비트코인\n",
      "비트코인\n",
      "비트코인\n",
      "비트코인\n",
      "비트코인\n",
      "비트코인\n",
      "비트코인\n",
      "비트코인\n",
      "비트코인\n",
      "비트코인\n",
      "비트코인\n",
      "비트코인\n",
      "비트코인\n",
      "비트코인\n",
      "비트코인\n",
      "비트코인\n",
      "비트코인\n",
      "비트코인\n",
      "비트코인\n",
      "비트코인\n",
      "비트코인\n",
      "비트코인\n",
      "비트코인\n",
      "비트코인\n",
      "비트코인\n",
      "비트코인\n",
      "비트코인\n",
      "비트코인\n",
      "비트코인\n",
      "비트코인\n",
      "비트코인\n",
      "비트코인\n",
      "비트코인\n",
      "비트코인\n",
      "비트코인\n",
      "비트코인\n",
      "비트코인\n",
      "비트코인\n",
      "비트코인\n",
      "비트코인\n",
      "비트코인\n",
      "비트코인\n",
      "비트코인\n",
      "비트코인\n",
      "비트코인\n",
      "비트코인\n",
      "비트코인\n",
      "비트코인\n",
      "비트코인\n",
      "비트코인\n",
      "비트코인\n",
      "비트코인\n",
      "비트코인\n",
      "비트코인\n",
      "비트코인\n",
      "비트코인\n",
      "비트코인\n",
      "비트코인\n",
      "비트코인\n",
      "비트코인\n",
      "비트코인\n",
      "비트코인\n",
      "비트코인\n",
      "비트코인\n",
      "비트코인\n",
      "비트코인\n",
      "비트코인\n",
      "비트코인\n",
      "비트코인\n",
      "비트코인\n",
      "\n"
     ]
    }
   ],
   "source": [
    "print(\"비트코인\\n비트코인\\n비트코인\\n...비트코인\\n\")"
   ]
  },
  {
   "cell_type": "code",
   "execution_count": 22,
   "id": "c220b55c",
   "metadata": {},
   "outputs": [],
   "source": [
    "def print_coins() :\n",
    "    for i in range(100) :\n",
    "        print(\"비트코인\")"
   ]
  },
  {
   "cell_type": "code",
   "execution_count": 23,
   "id": "11ed0549",
   "metadata": {},
   "outputs": [
    {
     "name": "stdout",
     "output_type": "stream",
     "text": [
      "비트코인\n",
      "비트코인\n",
      "비트코인\n",
      "비트코인\n",
      "비트코인\n",
      "비트코인\n",
      "비트코인\n",
      "비트코인\n",
      "비트코인\n",
      "비트코인\n",
      "비트코인\n",
      "비트코인\n",
      "비트코인\n",
      "비트코인\n",
      "비트코인\n",
      "비트코인\n",
      "비트코인\n",
      "비트코인\n",
      "비트코인\n",
      "비트코인\n",
      "비트코인\n",
      "비트코인\n",
      "비트코인\n",
      "비트코인\n",
      "비트코인\n",
      "비트코인\n",
      "비트코인\n",
      "비트코인\n",
      "비트코인\n",
      "비트코인\n",
      "비트코인\n",
      "비트코인\n",
      "비트코인\n",
      "비트코인\n",
      "비트코인\n",
      "비트코인\n",
      "비트코인\n",
      "비트코인\n",
      "비트코인\n",
      "비트코인\n",
      "비트코인\n",
      "비트코인\n",
      "비트코인\n",
      "비트코인\n",
      "비트코인\n",
      "비트코인\n",
      "비트코인\n",
      "비트코인\n",
      "비트코인\n",
      "비트코인\n",
      "비트코인\n",
      "비트코인\n",
      "비트코인\n",
      "비트코인\n",
      "비트코인\n",
      "비트코인\n",
      "비트코인\n",
      "비트코인\n",
      "비트코인\n",
      "비트코인\n",
      "비트코인\n",
      "비트코인\n",
      "비트코인\n",
      "비트코인\n",
      "비트코인\n",
      "비트코인\n",
      "비트코인\n",
      "비트코인\n",
      "비트코인\n",
      "비트코인\n",
      "비트코인\n",
      "비트코인\n",
      "비트코인\n",
      "비트코인\n",
      "비트코인\n",
      "비트코인\n",
      "비트코인\n",
      "비트코인\n",
      "비트코인\n",
      "비트코인\n",
      "비트코인\n",
      "비트코인\n",
      "비트코인\n",
      "비트코인\n",
      "비트코인\n",
      "비트코인\n",
      "비트코인\n",
      "비트코인\n",
      "비트코인\n",
      "비트코인\n",
      "비트코인\n",
      "비트코인\n",
      "비트코인\n",
      "비트코인\n",
      "비트코인\n",
      "비트코인\n",
      "비트코인\n",
      "비트코인\n",
      "비트코인\n",
      "비트코인\n"
     ]
    }
   ],
   "source": [
    "print_coins()\n",
    "\n",
    "#print()"
   ]
  },
  {
   "cell_type": "code",
   "execution_count": 27,
   "id": "a14eba54",
   "metadata": {},
   "outputs": [],
   "source": [
    "#내장함수:print, input, ...\n",
    "#import 모듈, 패키지\n",
    "# import 모듈1, 모듈2, ...\n",
    "# 모듈1.변수, 모듈1.함수"
   ]
  },
  {
   "cell_type": "code",
   "execution_count": 32,
   "id": "7aae2d42",
   "metadata": {},
   "outputs": [],
   "source": [
    "import math\n",
    "import math as m\n",
    "from math import sqrt as s"
   ]
  },
  {
   "cell_type": "code",
   "execution_count": 31,
   "id": "de0f1b1c",
   "metadata": {},
   "outputs": [
    {
     "data": {
      "text/plain": [
       "3.0"
      ]
     },
     "execution_count": 31,
     "metadata": {},
     "output_type": "execute_result"
    }
   ],
   "source": [
    "math.sqrt(4)\n",
    "m.sqrt(9)"
   ]
  },
  {
   "cell_type": "code",
   "execution_count": 33,
   "id": "ecedc7d2",
   "metadata": {},
   "outputs": [
    {
     "data": {
      "text/plain": [
       "3.0"
      ]
     },
     "execution_count": 33,
     "metadata": {},
     "output_type": "execute_result"
    }
   ],
   "source": [
    "s(9)"
   ]
  },
  {
   "cell_type": "code",
   "execution_count": 35,
   "id": "374e2dd7",
   "metadata": {},
   "outputs": [
    {
     "data": {
      "text/plain": [
       "3.141592653589793"
      ]
     },
     "execution_count": 35,
     "metadata": {},
     "output_type": "execute_result"
    }
   ],
   "source": [
    "#pi\n",
    "math.pi"
   ]
  },
  {
   "cell_type": "code",
   "execution_count": 36,
   "id": "de1327d8",
   "metadata": {},
   "outputs": [
    {
     "data": {
      "text/plain": [
       "3.141592653589793"
      ]
     },
     "execution_count": 36,
     "metadata": {},
     "output_type": "execute_result"
    }
   ],
   "source": [
    "m.pi"
   ]
  },
  {
   "cell_type": "code",
   "execution_count": 37,
   "id": "df59cc4a",
   "metadata": {},
   "outputs": [],
   "source": [
    "from math import pi"
   ]
  },
  {
   "cell_type": "code",
   "execution_count": 38,
   "id": "7fb4bb2e",
   "metadata": {},
   "outputs": [
    {
     "data": {
      "text/plain": [
       "3.141592653589793"
      ]
     },
     "execution_count": 38,
     "metadata": {},
     "output_type": "execute_result"
    }
   ],
   "source": [
    "pi"
   ]
  },
  {
   "cell_type": "code",
   "execution_count": 42,
   "id": "1f78e1f8",
   "metadata": {},
   "outputs": [
    {
     "data": {
      "text/plain": [
       "4.0"
      ]
     },
     "execution_count": 42,
     "metadata": {},
     "output_type": "execute_result"
    }
   ],
   "source": [
    "math.sqrt(16)\n",
    "m.sqrt(16)\n",
    "from math import sqrt\n",
    "sqrt(16)"
   ]
  },
  {
   "cell_type": "code",
   "execution_count": 43,
   "id": "58ac0e9c",
   "metadata": {},
   "outputs": [],
   "source": [
    "from math import *"
   ]
  },
  {
   "cell_type": "code",
   "execution_count": 44,
   "id": "bd95cef5",
   "metadata": {},
   "outputs": [
    {
     "data": {
      "text/plain": [
       "3.872983346207417"
      ]
     },
     "execution_count": 44,
     "metadata": {},
     "output_type": "execute_result"
    }
   ],
   "source": [
    "sqrt(15)"
   ]
  },
  {
   "cell_type": "code",
   "execution_count": 45,
   "id": "4c3467aa",
   "metadata": {},
   "outputs": [],
   "source": [
    "#from 모듈 import 변수/함수/클래스 as 축약형이름\n",
    "#from 모듈 import 변수 as 이름, 함수 as 이름, 클래스 as 이름"
   ]
  },
  {
   "cell_type": "code",
   "execution_count": 46,
   "id": "56525a6d",
   "metadata": {},
   "outputs": [
    {
     "name": "stdout",
     "output_type": "stream",
     "text": [
      "3.141592653589793\n"
     ]
    }
   ],
   "source": [
    "print(math.pi)"
   ]
  },
  {
   "cell_type": "code",
   "execution_count": 47,
   "id": "cb08bb0c",
   "metadata": {},
   "outputs": [],
   "source": [
    "del math"
   ]
  },
  {
   "cell_type": "code",
   "execution_count": 49,
   "id": "c579dc52",
   "metadata": {},
   "outputs": [],
   "source": [
    "import math"
   ]
  },
  {
   "cell_type": "code",
   "execution_count": 50,
   "id": "48f7c73a",
   "metadata": {},
   "outputs": [
    {
     "name": "stdout",
     "output_type": "stream",
     "text": [
      "3.141592653589793\n"
     ]
    }
   ],
   "source": [
    "print(math.pi)"
   ]
  },
  {
   "cell_type": "code",
   "execution_count": 51,
   "id": "08471f57",
   "metadata": {},
   "outputs": [],
   "source": [
    "#패키지(폴더) :모듈(파일) 또는 서브패키지의 모임"
   ]
  },
  {
   "cell_type": "code",
   "execution_count": 54,
   "id": "2c1cb801",
   "metadata": {},
   "outputs": [],
   "source": [
    "import urllib.request as ur\n",
    "#패키지.모듈.변수/함수/클래스"
   ]
  },
  {
   "cell_type": "code",
   "execution_count": 55,
   "id": "bdafeedd",
   "metadata": {},
   "outputs": [],
   "source": [
    "#urllib.request.urlopen()\n",
    "req=ur.urlopen(\"https://weather.naver.com/warning/09545610\")"
   ]
  },
  {
   "cell_type": "code",
   "execution_count": 57,
   "id": "5b27b201",
   "metadata": {},
   "outputs": [
    {
     "data": {
      "text/plain": [
       "200"
      ]
     },
     "execution_count": 57,
     "metadata": {},
     "output_type": "execute_result"
    }
   ],
   "source": [
    "req.status"
   ]
  },
  {
   "cell_type": "code",
   "execution_count": 58,
   "id": "abdc7e27",
   "metadata": {},
   "outputs": [],
   "source": [
    "import re #정규표현식 모듈"
   ]
  },
  {
   "cell_type": "code",
   "execution_count": 60,
   "id": "c2270f38",
   "metadata": {},
   "outputs": [],
   "source": [
    "re.match(\"hi\",\"hihello\") \n",
    "#(\"패턴\",\"문자열\") => 문자열에 패턴이 존재합니까?\n",
    "re.match(\"bye\",\"hihello\") \n"
   ]
  },
  {
   "cell_type": "code",
   "execution_count": 61,
   "id": "12a3a831",
   "metadata": {},
   "outputs": [
    {
     "name": "stdout",
     "output_type": "stream",
     "text": [
      "None\n"
     ]
    }
   ],
   "source": [
    "print(re.match(\"bye\",\"hihello\"))"
   ]
  },
  {
   "cell_type": "code",
   "execution_count": 64,
   "id": "2d0ef57a",
   "metadata": {},
   "outputs": [],
   "source": [
    "re.match(\"hi\",\"hihello\") \n",
    "re.match(\"hi\",\"ahihello\") \n",
    "re.match(\"hi\",\"haihello\") "
   ]
  },
  {
   "cell_type": "code",
   "execution_count": 68,
   "id": "83de8e02",
   "metadata": {},
   "outputs": [
    {
     "data": {
      "text/plain": [
       "<re.Match object; span=(1, 3), match='hi'>"
      ]
     },
     "execution_count": 68,
     "metadata": {},
     "output_type": "execute_result"
    }
   ],
   "source": [
    "re.search(\"hi\",\"hihello\") \n",
    "re.search(\"hi\",\"ahellohi\") \n",
    "re.search(\"hi\",\"ahihellohi\") "
   ]
  },
  {
   "cell_type": "code",
   "execution_count": 69,
   "id": "4b120ced",
   "metadata": {},
   "outputs": [
    {
     "data": {
      "text/plain": [
       "['hi', 'hi']"
      ]
     },
     "execution_count": 69,
     "metadata": {},
     "output_type": "execute_result"
    }
   ],
   "source": [
    "re.findall(\"hi\",\"ahihellohi\") "
   ]
  },
  {
   "cell_type": "code",
   "execution_count": 89,
   "id": "1b5f9389",
   "metadata": {},
   "outputs": [
    {
     "data": {
      "text/plain": [
       "['3', 'B', 'e', 'f', 'o', 'r', 'e']"
      ]
     },
     "execution_count": 89,
     "metadata": {},
     "output_type": "execute_result"
    }
   ],
   "source": [
    "re.search(\"[abc]\",\"before\")\n",
    "re.search(\"[a-zA-Z]\",\"Before\")\n",
    "re.findall(\"[a-zA-Z0-5]\",\"3Be7fore\")"
   ]
  },
  {
   "cell_type": "code",
   "execution_count": 90,
   "id": "1a656fd3",
   "metadata": {},
   "outputs": [],
   "source": [
    "wf=\"\"\"\n",
    "[앵커]\n",
    "\n",
    "폭염주의보가 다시 전국 곳곳으로 확대됐습니다.\n",
    "\n",
    "당분간 한낮에 대부분 지역의 기온이 30도를 웃돌아 덥겠습니다.\n",
    "\n",
    "[리포트]\n",
    "\n",
    "충청과 남부지방에 이어 수도권과 강원도 홍천에도 폭염주의보가 내려졌습니다.\n",
    "\n",
    "다시 전국 곳곳으로 폭염주의보가 확대됐는데요.\n",
    "\n",
    "오늘 서울과 광주, 대구의 낮 최고 기온은 32도까지 오르겠습니다.\n",
    "\n",
    "내일과 모레도 서울의 낮 기온 31도 등 당분간 한낮엔 30도 안팎까지 올라가는 더위가 이어지겠습니다.\n",
    "\n",
    "하지만 아침 기온은 점차 낮아지겠습니다.\n",
    "\n",
    "오늘 아침엔 서울 25도 등 지난 밤에 열대야가 나타났지만 내일 아침엔 23도, 모레 19도 등 아침 기온이 20도 안팎까지 내려가서 아침, 저녁엔 비교적 선선해지겠습니다\n",
    "\n",
    "오늘 오후에도 소나기가 올 가능성이 있습니다.\n",
    "\n",
    "5에서 최대 40밀리미터의 소나기가 오는 곳이 있겠고, 국지적으로 천둥, 번개가 치면서 시간당 30밀리미터 안팎의 강한 소나기가 오는 곳이 있을 것으로 예상됩니다.\n",
    "\n",
    "기상정보였습니다.\n",
    "\n",
    "노은지 기상캐스터/그래픽:강은지\n",
    "\n",
    "■ 제보하기\n",
    "▷ 전화 : 02-781-1234, 4444\n",
    "▷ 이메일 : kbs1234@kbs.co.kr\n",
    "▷ 카카오톡 : 'KBS제보' 검색, 채널 추가\n",
    "▷ 네이버, 유튜브에서 KBS뉴스를 구독해주세요!\n",
    "\"\"\""
   ]
  },
  {
   "cell_type": "code",
   "execution_count": 106,
   "id": "f656e3e1",
   "metadata": {},
   "outputs": [
    {
     "name": "stdout",
     "output_type": "stream",
     "text": [
      "['앵', '커', '폭', '염', '주', '의', '보', '가', '다', '시', '전', '국', '곳', '곳', '으', '로', '확', '대', '됐', '습', '니', '다', '당', '분', '간', '한', '낮', '에', '대', '부', '분', '지', '역', '의', '기', '온', '이', '3', '0', '도', '를', '웃', '돌', '아', '덥', '겠', '습', '니', '다', '리', '포', '트', '충', '청', '과', '남', '부', '지', '방', '에', '이', '어', '수', '도', '권', '과', '강', '원', '도', '홍', '천', '에', '도', '폭', '염', '주', '의', '보', '가', '내', '려', '졌', '습', '니', '다', '다', '시', '전', '국', '곳', '곳', '으', '로', '폭', '염', '주', '의', '보', '가', '확', '대', '됐', '는', '데', '요', '오', '늘', '서', '울', '과', '광', '주', '대', '구', '의', '낮', '최', '고', '기', '온', '은', '3', '2', '도', '까', '지', '오', '르', '겠', '습', '니', '다', '내', '일', '과', '모', '레', '도', '서', '울', '의', '낮', '기', '온', '3', '1', '도', '등', '당', '분', '간', '한', '낮', '엔', '3', '0', '도', '안', '팎', '까', '지', '올', '라', '가', '는', '더', '위', '가', '이', '어', '지', '겠', '습', '니', '다', '하', '지', '만', '아', '침', '기', '온', '은', '점', '차', '낮', '아', '지', '겠', '습', '니', '다', '오', '늘', '아', '침', '엔', '서', '울', '2', '5', '도', '등', '지', '난', '밤', '에', '열', '대', '야', '가', '나', '타', '났', '지', '만', '내', '일', '아', '침', '엔', '2', '3', '도', '모', '레', '1', '9', '도', '등', '아', '침', '기', '온', '이', '2', '0', '도', '안', '팎', '까', '지', '내', '려', '가', '서', '아', '침', '저', '녁', '엔', '비', '교', '적', '선', '선', '해', '지', '겠', '습', '니', '다', '오', '늘', '오', '후', '에', '도', '소', '나', '기', '가', '올', '가', '능', '성', '이', '있', '습', '니', '다', '5', '에', '서', '최', '대', '4', '0', '밀', '리', '미', '터', '의', '소', '나', '기', '가', '오', '는', '곳', '이', '있', '겠', '고', '국', '지', '적', '으', '로', '천', '둥', '번', '개', '가', '치', '면', '서', '시', '간', '당', '3', '0', '밀', '리', '미', '터', '안', '팎', '의', '강', '한', '소', '나', '기', '가', '오', '는', '곳', '이', '있', '을', '것', '으', '로', '예', '상', '됩', '니', '다', '기', '상', '정', '보', '였', '습', '니', '다', '노', '은', '지', '기', '상', '캐', '스', '터', '그', '래', '픽', '강', '은', '지', '제', '보', '하', '기', '전', '화', '0', '2', '7', '8', '1', '1', '2', '3', '4', '4', '4', '4', '4', '이', '메', '일', 'k', 'b', 's', '1', '2', '3', '4', 'k', 'b', 's', 'c', 'o', 'k', 'r', '카', '카', '오', '톡', 'K', 'B', 'S', '제', '보', '검', '색', '채', '널', '추', '가', '네', '이', '버', '유', '튜', '브', '에', '서', 'K', 'B', 'S', '뉴', '스', '를', '구', '독', '해', '주', '세', '요']\n"
     ]
    }
   ],
   "source": [
    "#print(re.findall(\"[^ㄱ-ㅎ가-힣0-9a-zA-Z \\n.,]\",wf))\n",
    "#print(re.findall(\"\\d\",wf))\n",
    "#print(re.findall(\"[0-9]\",wf))\n",
    "#print(re.findall(\"\\D\",wf))\n",
    "#print(re.findall(\"\\S\",wf))\n",
    "\n",
    "print(re.findall(\"\\w\",wf))\n",
    "#[a-zA-Z0-9_]"
   ]
  },
  {
   "cell_type": "code",
   "execution_count": 111,
   "id": "2322b737",
   "metadata": {},
   "outputs": [
    {
     "data": {
      "text/plain": [
       "<re.Match object; span=(3, 8), match='hello'>"
      ]
     },
     "execution_count": 111,
     "metadata": {},
     "output_type": "execute_result"
    }
   ],
   "source": [
    "re.search(\"hello\",\"hi hello\")\n",
    "re.search(\"^hello\",\"hi hello\")\n",
    "#대상 문자열이 hello 문자열로 시작하는지 여부를 판단\n",
    "\n",
    "re.search(\"hello$\",\"hi hello\")\n",
    "#대상 문자열이 hello 문자열로 끝나는지 여부를 판단"
   ]
  },
  {
   "cell_type": "code",
   "execution_count": 115,
   "id": "6543a825",
   "metadata": {},
   "outputs": [
    {
     "data": {
      "text/plain": [
       "<re.Match object; span=(13, 16), match='코리아'>"
      ]
     },
     "execution_count": 115,
     "metadata": {},
     "output_type": "execute_result"
    }
   ],
   "source": [
    "re.search(\"미국|중국|코리아\",\"우리나라 대한민국 한국 코리아\")"
   ]
  },
  {
   "cell_type": "code",
   "execution_count": 126,
   "id": "05f98fba",
   "metadata": {},
   "outputs": [
    {
     "data": {
      "text/plain": [
       "<re.Match object; span=(0, 5), match='12345'>"
      ]
     },
     "execution_count": 126,
     "metadata": {},
     "output_type": "execute_result"
    }
   ],
   "source": [
    "#re.match(\"1|2\",\"2345\")\n",
    "re.match(\"[1-5]\",\"12345\")\n",
    "re.match(\"[1-5]+\",\"12345\") #패턴에 부합되는 문자가 1개\n",
    "#이상있는지 확인"
   ]
  },
  {
   "cell_type": "code",
   "execution_count": 129,
   "id": "1344281b",
   "metadata": {},
   "outputs": [
    {
     "data": {
      "text/plain": [
       "<re.Match object; span=(0, 3), match='312'>"
      ]
     },
     "execution_count": 129,
     "metadata": {},
     "output_type": "execute_result"
    }
   ],
   "source": [
    "re.match(\"[1-5]+\",\"3127345\")\n",
    "re.match(\"[1-5]*\",\"3127345\") #패턴에 부합되는 문자가 0개\n",
    "#이상있는지 확인"
   ]
  },
  {
   "cell_type": "code",
   "execution_count": 132,
   "id": "9ef3d94b",
   "metadata": {},
   "outputs": [
    {
     "data": {
      "text/plain": [
       "<re.Match object; span=(0, 3), match='123'>"
      ]
     },
     "execution_count": 132,
     "metadata": {},
     "output_type": "execute_result"
    }
   ],
   "source": [
    "re.match(\"[0-9]\",\"123\")\n",
    "re.match(\"[0-9]+\",\"123\")\n",
    "re.match(\"[0-9]*\",\"123\")"
   ]
  },
  {
   "cell_type": "code",
   "execution_count": 146,
   "id": "15b09491",
   "metadata": {},
   "outputs": [
    {
     "data": {
      "text/plain": [
       "<re.Match object; span=(0, 8), match='baaaa123'>"
      ]
     },
     "execution_count": 146,
     "metadata": {},
     "output_type": "execute_result"
    }
   ],
   "source": [
    "re.match(\"a\",\"123\")\n",
    "re.match(\"a\",\"a123\")\n",
    "re.match(\"a\",\"aaaa123\")\n",
    "re.match(\"a+\",\"aaaa123\")\n",
    "re.match(\"b+\",\"aaaa123\")\n",
    "re.match(\"a*\",\"aaaa123\")\n",
    "re.match(\"a+\",\"baaaa123\")\n",
    "re.match(\"a*\",\"baaaa123\")\n",
    "\n",
    "re.match(\"ab+\",\"baaaa123\")\n",
    "re.match(\"a*b+\",\"baaaa123\")\n",
    "re.match(\"ba*\",\"baaaa123\")\n",
    "re.match(\"ba*1\",\"baaaa123\")\n",
    "re.match(\"ba*[1-3]\",\"baaaa123\")\n",
    "re.match(\"ba*[1-3]+\",\"baaaa123\")"
   ]
  },
  {
   "cell_type": "code",
   "execution_count": 161,
   "id": "a1585fc9",
   "metadata": {},
   "outputs": [
    {
     "data": {
      "text/plain": [
       "<re.Match object; span=(0, 7), match='hi1234가'>"
      ]
     },
     "execution_count": 161,
     "metadata": {},
     "output_type": "execute_result"
    }
   ],
   "source": [
    "re.match(\"[0-9]\",\"1234\")\n",
    "re.match(\"[0-9a-z]\",\"1234\")\n",
    "re.match(\"[0-9a-z]\",\"hi1234\")\n",
    "re.match(\"[0-9a-z]+\",\"hi1234\")\n",
    "re.match(\"[0-9a-z]*\",\"hi1234\")\n",
    "\n",
    "re.match(\"[0-9a-z]+\",\"Ahi1234\")\n",
    "re.match(\"[0-9a-z]*\",\"Ahi1234\")\n",
    "\n",
    "re.match(\"[0-9a-z]*가\",\"hi1234가나다\")\n",
    "\n",
    "re.match(\"[0-9a-z]+가\",\"hi1234가나다\")"
   ]
  },
  {
   "cell_type": "code",
   "execution_count": 166,
   "id": "a9a61273",
   "metadata": {},
   "outputs": [
    {
     "data": {
      "text/plain": [
       "<re.Match object; span=(0, 14), match='ㅋㅎㅋㅎㅋhi1234가나다'>"
      ]
     },
     "execution_count": 166,
     "metadata": {},
     "output_type": "execute_result"
    }
   ],
   "source": [
    "re.match(\"[0-9a-z가-힣]+\",\"hi1234가나다\")\n",
    "re.match(\"[0-9a-z가-힣ㄱ-ㅎ]+\",\"ㅋㅎㅋㅎㅋhi1234가나다\")"
   ]
  },
  {
   "cell_type": "code",
   "execution_count": 169,
   "id": "f80e1a86",
   "metadata": {},
   "outputs": [],
   "source": [
    "re.match(\"a*b\",\"b\")\n",
    "re.match(\"a+b\",\"b\")\n",
    "re.match(\"a*b\",\"aab\")\n",
    "re.match(\"a*b\",\"aac\")"
   ]
  },
  {
   "cell_type": "code",
   "execution_count": 174,
   "id": "dc5aa2f6",
   "metadata": {},
   "outputs": [
    {
     "data": {
      "text/plain": [
       "<re.Match object; span=(0, 3), match='a$b'>"
      ]
     },
     "execution_count": 174,
     "metadata": {},
     "output_type": "execute_result"
    }
   ],
   "source": [
    "re.match(\"a.b\",\"aab\")\n",
    "re.match(\"a.b\",\"abc\")\n",
    "re.match(\"a.b\",\"abb\")\n",
    "re.match(\"a.b\",\"a$b\")"
   ]
  },
  {
   "cell_type": "code",
   "execution_count": 177,
   "id": "0dd62f8f",
   "metadata": {},
   "outputs": [
    {
     "name": "stdout",
     "output_type": "stream",
     "text": [
      "정상적인 파일명입니다\n"
     ]
    }
   ],
   "source": [
    "#파일명.확장자\n",
    "#\"test.py\"\n",
    "#\"test2\"\n",
    "res=re.match(\"[a-zA-Z0-9]+[.][a-zA-Z]+\", \"test.py\")\n",
    "if res:\n",
    "    print(\"정상적인 파일명입니다\")\n",
    "else:\n",
    "    print(\"비정상적인 파일명입니다\")"
   ]
  },
  {
   "cell_type": "code",
   "execution_count": 178,
   "id": "a641ff3c",
   "metadata": {},
   "outputs": [
    {
     "name": "stdout",
     "output_type": "stream",
     "text": [
      "비정상적인 파일명입니다\n"
     ]
    }
   ],
   "source": [
    "res=re.match(\"[a-zA-Z0-9]+[.][a-zA-Z]+\", \"test2\")\n",
    "#res=re.match(\"[a-zA-Z0-9]+[.][a-zA-Z]+\", \"test.py\")\n",
    "if res:\n",
    "    print(\"정상적인 파일명입니다\")\n",
    "else:\n",
    "    print(\"비정상적인 파일명입니다\")"
   ]
  },
  {
   "cell_type": "code",
   "execution_count": null,
   "id": "a2e77d75",
   "metadata": {},
   "outputs": [],
   "source": [
    "#? 앞의 문자(범위)가 0개 또는 1개인지 판단\n",
    "문자?\n",
    "[범위]?"
   ]
  },
  {
   "cell_type": "code",
   "execution_count": 182,
   "id": "e39c7322",
   "metadata": {},
   "outputs": [],
   "source": [
    "re.match(\"abc?d\",\"abd\")\n",
    "re.match(\"ab[0-9]?d\",\"abd\")\n",
    "re.match(\"ab[0-9]?d\",\"ab7d\")\n",
    "re.match(\"ab[0-9]?d\",\"ab79d\")"
   ]
  },
  {
   "cell_type": "code",
   "execution_count": 190,
   "id": "71a22b05",
   "metadata": {},
   "outputs": [
    {
     "data": {
      "text/plain": [
       "<re.Match object; span=(0, 7), match='hhhheee'>"
      ]
     },
     "execution_count": 190,
     "metadata": {},
     "output_type": "execute_result"
    }
   ],
   "source": [
    "re.match(\"h\",\"hhheee\")\n",
    "re.match(\"h{3}\",\"hhheee\")\n",
    "re.match(\"h{3}\",\"hhhheee\")\n",
    "re.match(\"h{5}\",\"hhhheee\")\n",
    "re.match(\"h{4}e\",\"hhhheee\")\n",
    "re.match(\"h{4}ee\",\"hhhheee\")\n",
    "re.match(\"h{4}e{3}\",\"hhhheee\")"
   ]
  },
  {
   "cell_type": "code",
   "execution_count": 199,
   "id": "1532bf5b",
   "metadata": {},
   "outputs": [
    {
     "data": {
      "text/plain": [
       "<re.Match object; span=(0, 8), match='hihihihi'>"
      ]
     },
     "execution_count": 199,
     "metadata": {},
     "output_type": "execute_result"
    }
   ],
   "source": [
    "re.match(\"hi\",\"hihi\")\n",
    "re.match(\"(hi)\",\"hihi\")\n",
    "re.match(\"(hi){2}\",\"hihi\")\n",
    "re.match(\"(hi){3}\",\"hihi\")\n",
    "re.match(\"(hi){3}\",\"hihihihihi\")\n",
    "re.match(\"(hi){3}h\",\"hihihihihi\")\n",
    "re.match(\"(hi){3}hi\",\"hihihihihi\")\n",
    "re.match(\"(hi){3}hi[0-9]\",\"hihihihihi\")\n",
    "re.match(\"(hi){3}hi[0-9]*\",\"hihihihihi\")"
   ]
  },
  {
   "cell_type": "code",
   "execution_count": 205,
   "id": "9fff8c0a",
   "metadata": {},
   "outputs": [],
   "source": [
    "re.match(\"[0-9]{3}\",\"123\")\n",
    "re.match(\"[0-9]{3}\",\"12\")\n",
    "re.match(\"[0-9]{2,3}\",\"12\")\n",
    "re.match(\"[0-9]{2,6}\",\"12345\")\n",
    "re.match(\"[0-9]{2,6}\",\"1\")"
   ]
  },
  {
   "cell_type": "code",
   "execution_count": null,
   "id": "ce92b67b",
   "metadata": {},
   "outputs": [],
   "source": [
    "\"\"\"\n",
    "전화번호 검증 패턴식 정의\n",
    "1) 지역번호-국번호-전화번호\n",
    "2) 2 or 3 - 3 or 4 - 4\n",
    "3) 모두 숫자\n",
    "02-123-1234\n",
    "010-1234-567\n",
    "010-123567-89\n",
    "\"\"\""
   ]
  },
  {
   "cell_type": "code",
   "execution_count": null,
   "id": "fc15d212",
   "metadata": {},
   "outputs": [],
   "source": [
    "re.match(\"[0-9]{2,3}-[0-9]{3,4}-[0-9]{4}\", \"010-7458-8871\")"
   ]
  },
  {
   "cell_type": "code",
   "execution_count": null,
   "id": "e8f08fac",
   "metadata": {},
   "outputs": [],
   "source": []
  },
  {
   "cell_type": "code",
   "execution_count": 206,
   "id": "51b685cd",
   "metadata": {},
   "outputs": [],
   "source": [
    "p = re.compile('ab*')"
   ]
  },
  {
   "cell_type": "code",
   "execution_count": 207,
   "id": "7bd017e1",
   "metadata": {},
   "outputs": [
    {
     "name": "stdout",
     "output_type": "stream",
     "text": [
      "<re.Match object; span=(0, 2), match='ab'>\n"
     ]
    }
   ],
   "source": [
    "print(re.match(p, \"ab\"))"
   ]
  },
  {
   "cell_type": "code",
   "execution_count": null,
   "id": "7dc180d0",
   "metadata": {},
   "outputs": [],
   "source": []
  },
  {
   "cell_type": "code",
   "execution_count": 210,
   "id": "12bf2f0b",
   "metadata": {},
   "outputs": [
    {
     "data": {
      "text/plain": [
       "<re.Match object; span=(0, 3), match='홍길동'>"
      ]
     },
     "execution_count": 210,
     "metadata": {},
     "output_type": "execute_result"
    }
   ],
   "source": [
    "re.match(\"[가-힣]\", \"홍길동\")\n",
    "re.match(\"[가-힣]*\", \"홍길동\")\n",
    "re.match(\"[가-힣]+\", \"홍길동\")"
   ]
  },
  {
   "cell_type": "code",
   "execution_count": 212,
   "id": "509a5468",
   "metadata": {},
   "outputs": [],
   "source": [
    "re.match(\"[A-Z]+\",\"Hello\")\n",
    "re.match(\"[^A-Z]+\",\"Hello\")"
   ]
  },
  {
   "cell_type": "code",
   "execution_count": 214,
   "id": "433becc9",
   "metadata": {},
   "outputs": [
    {
     "data": {
      "text/plain": [
       "<re.Match object; span=(0, 1), match='H'>"
      ]
     },
     "execution_count": 214,
     "metadata": {},
     "output_type": "execute_result"
    }
   ],
   "source": [
    "re.match(\"^[A-Z]+\",\"Hello\")\n",
    "re.match(\"^[A-Z]\",\"Hello\")"
   ]
  },
  {
   "cell_type": "code",
   "execution_count": 219,
   "id": "feeef240",
   "metadata": {},
   "outputs": [
    {
     "data": {
      "text/plain": [
       "<re.Match object; span=(2, 4), match='**'>"
      ]
     },
     "execution_count": 219,
     "metadata": {},
     "output_type": "execute_result"
    }
   ],
   "source": [
    "re.search(\"\\*+\",\"2 ** 3\")"
   ]
  },
  {
   "cell_type": "code",
   "execution_count": 221,
   "id": "f744bfca",
   "metadata": {},
   "outputs": [
    {
     "data": {
      "text/plain": [
       "<re.Match object; span=(0, 7), match='$(Doc9)'>"
      ]
     },
     "execution_count": 221,
     "metadata": {},
     "output_type": "execute_result"
    }
   ],
   "source": [
    "re.match(\"[a-zA-Z0-9()$]+\",\"$(Doc9)\")"
   ]
  },
  {
   "cell_type": "code",
   "execution_count": 225,
   "id": "9576f1b5",
   "metadata": {},
   "outputs": [
    {
     "data": {
      "text/plain": [
       "<re.Match object; span=(2, 4), match='**'>"
      ]
     },
     "execution_count": 225,
     "metadata": {},
     "output_type": "execute_result"
    }
   ],
   "source": [
    "re.search(\"[0-9 *]+\",\"2 ** 3\")\n",
    "re.search(\"[*]+\",\"2 ** 3\")"
   ]
  },
  {
   "cell_type": "code",
   "execution_count": 230,
   "id": "f7a9c8e8",
   "metadata": {},
   "outputs": [],
   "source": [
    "res=re.match(\"([0-9]+) ([0-9]+)\",\"123 45\")"
   ]
  },
  {
   "cell_type": "code",
   "execution_count": 232,
   "id": "23bd93c8",
   "metadata": {},
   "outputs": [
    {
     "data": {
      "text/plain": [
       "'123'"
      ]
     },
     "execution_count": 232,
     "metadata": {},
     "output_type": "execute_result"
    }
   ],
   "source": [
    "res.group()\n",
    "res.group(1)"
   ]
  },
  {
   "cell_type": "code",
   "execution_count": 235,
   "id": "ca74b066",
   "metadata": {},
   "outputs": [
    {
     "data": {
      "text/plain": [
       "'123 45'"
      ]
     },
     "execution_count": 235,
     "metadata": {},
     "output_type": "execute_result"
    }
   ],
   "source": [
    "res.group(2)\n",
    "res.group(0)"
   ]
  },
  {
   "cell_type": "code",
   "execution_count": 236,
   "id": "a71542cb",
   "metadata": {},
   "outputs": [
    {
     "data": {
      "text/plain": [
       "('123', '45')"
      ]
     },
     "execution_count": 236,
     "metadata": {},
     "output_type": "execute_result"
    }
   ],
   "source": [
    "res.groups()"
   ]
  },
  {
   "cell_type": "code",
   "execution_count": null,
   "id": "6820d7c2",
   "metadata": {},
   "outputs": [],
   "source": [
    "문자열 : \"print(123)\"\n",
    "문자열에서 함수명과 인수를 각각의 그룹으로 나누어 출력\n",
    "res.group(0) => print\n",
    "res.group(1) => 123"
   ]
  },
  {
   "cell_type": "code",
   "execution_count": null,
   "id": "8da8d387",
   "metadata": {},
   "outputs": [],
   "source": [
    "res=re.match(\"([0-9]+) ([0-9]+)\",\"123 45\")"
   ]
  },
  {
   "cell_type": "code",
   "execution_count": 237,
   "id": "27a16f00",
   "metadata": {},
   "outputs": [
    {
     "name": "stdout",
     "output_type": "stream",
     "text": [
      "print\n",
      "123\n"
     ]
    }
   ],
   "source": [
    "res=re.match(\"([a-z]+)[(]([0-9]+)[)]\",\"print(123)\")\n",
    "print(res.group(1))\n",
    "print(res.group(2))"
   ]
  },
  {
   "cell_type": "code",
   "execution_count": 246,
   "id": "17c9fc73",
   "metadata": {},
   "outputs": [],
   "source": [
    "res=re.match(\"(?P<fn>[a-zA-Z_][a-zA-Z_0-9]+)\\((?P<arg>\\w+)\\)\",\"print(123)\")"
   ]
  },
  {
   "cell_type": "code",
   "execution_count": 247,
   "id": "06b15aaa",
   "metadata": {},
   "outputs": [
    {
     "data": {
      "text/plain": [
       "<re.Match object; span=(0, 10), match='print(123)'>"
      ]
     },
     "execution_count": 247,
     "metadata": {},
     "output_type": "execute_result"
    }
   ],
   "source": [
    "res"
   ]
  },
  {
   "cell_type": "code",
   "execution_count": 250,
   "id": "cdeb8eea",
   "metadata": {},
   "outputs": [
    {
     "data": {
      "text/plain": [
       "'123'"
      ]
     },
     "execution_count": 250,
     "metadata": {},
     "output_type": "execute_result"
    }
   ],
   "source": [
    "res.group('fn')\n",
    "res.group('arg')"
   ]
  },
  {
   "cell_type": "code",
   "execution_count": 248,
   "id": "bb47a2ef",
   "metadata": {},
   "outputs": [
    {
     "data": {
      "text/plain": [
       "'123'"
      ]
     },
     "execution_count": 248,
     "metadata": {},
     "output_type": "execute_result"
    }
   ],
   "source": [
    "res.group(0)\n",
    "res.group(1)\n",
    "res.group(2)"
   ]
  },
  {
   "cell_type": "code",
   "execution_count": null,
   "id": "d379cb6d",
   "metadata": {},
   "outputs": [],
   "source": []
  },
  {
   "cell_type": "code",
   "execution_count": null,
   "id": "375001cd",
   "metadata": {},
   "outputs": [],
   "source": []
  },
  {
   "cell_type": "code",
   "execution_count": null,
   "id": "8f2cdbed",
   "metadata": {},
   "outputs": [],
   "source": []
  },
  {
   "cell_type": "code",
   "execution_count": null,
   "id": "e80c25fe",
   "metadata": {},
   "outputs": [],
   "source": []
  }
 ],
 "metadata": {
  "kernelspec": {
   "display_name": "Python 3 (ipykernel)",
   "language": "python",
   "name": "python3"
  },
  "language_info": {
   "codemirror_mode": {
    "name": "ipython",
    "version": 3
   },
   "file_extension": ".py",
   "mimetype": "text/x-python",
   "name": "python",
   "nbconvert_exporter": "python",
   "pygments_lexer": "ipython3",
   "version": "3.11.4"
  }
 },
 "nbformat": 4,
 "nbformat_minor": 5
}
