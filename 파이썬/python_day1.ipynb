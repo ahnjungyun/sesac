{
 "cells": [
  {
   "cell_type": "code",
   "execution_count": 1,
   "id": "5dd67877",
   "metadata": {},
   "outputs": [
    {
     "data": {
      "text/plain": [
       "'\\n쉽고, 유지보수 용이\\n개발 시간이 짧다, 무료, 간결함\\n웹사이트, 데이터베이스, 유틸리티, 사물인터넷 등\\n머신러닝, 딥러닝, 데이터사이언스\\n'"
      ]
     },
     "execution_count": 1,
     "metadata": {},
     "output_type": "execute_result"
    }
   ],
   "source": [
    "\"\"\"\n",
    "쉽고, 유지보수 용이\n",
    "개발 시간이 짧다, 무료, 간결함\n",
    "웹사이트, 데이터베이스, 유틸리티, 사물인터넷 등\n",
    "머신러닝, 딥러닝, 데이터사이언스\n",
    "\"\"\""
   ]
  },
  {
   "cell_type": "code",
   "execution_count": 8,
   "id": "42cc0fad",
   "metadata": {},
   "outputs": [
    {
     "name": "stdout",
     "output_type": "stream",
     "text": [
      "hello sesac\n",
      "hello sesac\n"
     ]
    }
   ],
   "source": [
    "print('hello sesac')#셀실행 : shift+enter\n",
    "print('hello sesac')"
   ]
  },
  {
   "cell_type": "code",
   "execution_count": null,
   "id": "aa90fd0d",
   "metadata": {},
   "outputs": [],
   "source": []
  },
  {
   "cell_type": "code",
   "execution_count": 8,
   "id": "12bee3f2",
   "metadata": {},
   "outputs": [
    {
     "name": "stdout",
     "output_type": "stream",
     "text": [
      "hello sesac\n",
      "hello sesac\n"
     ]
    }
   ],
   "source": [
    "print('hello sesac')#셀실행 : shift+enter\n",
    "print('hello sesac')"
   ]
  },
  {
   "cell_type": "code",
   "execution_count": 3,
   "id": "d508a2e5",
   "metadata": {},
   "outputs": [],
   "source": [
    "#입력모드(녹색), 셀편집모드(파랑색)\n",
    "#셀실행 : shift+enter"
   ]
  },
  {
   "cell_type": "code",
   "execution_count": 8,
   "id": "3c2facc3",
   "metadata": {},
   "outputs": [
    {
     "name": "stdout",
     "output_type": "stream",
     "text": [
      "hello sesac\n",
      "hello sesac\n"
     ]
    }
   ],
   "source": [
    "print('hello sesac')#셀실행 : shift+enter\n",
    "print('hello sesac')"
   ]
  },
  {
   "cell_type": "code",
   "execution_count": 11,
   "id": "e0106c36",
   "metadata": {},
   "outputs": [
    {
     "data": {
      "text/plain": [
       "'hello sesac'"
      ]
     },
     "execution_count": 11,
     "metadata": {},
     "output_type": "execute_result"
    }
   ],
   "source": [
    "\"hello sesac\"\n",
    "\"hello sesac\""
   ]
  },
  {
   "cell_type": "code",
   "execution_count": 14,
   "id": "891c62bc",
   "metadata": {},
   "outputs": [
    {
     "name": "stdout",
     "output_type": "stream",
     "text": [
      "3\n",
      "2\n"
     ]
    }
   ],
   "source": [
    "x=3\n",
    "y=2\n",
    "print(x)\n",
    "print(y)"
   ]
  },
  {
   "cell_type": "code",
   "execution_count": 15,
   "id": "bf7e4bc9",
   "metadata": {},
   "outputs": [
    {
     "data": {
      "text/plain": [
       "3"
      ]
     },
     "execution_count": 15,
     "metadata": {},
     "output_type": "execute_result"
    }
   ],
   "source": [
    "1+2"
   ]
  },
  {
   "cell_type": "code",
   "execution_count": 17,
   "id": "fa9cb810",
   "metadata": {},
   "outputs": [
    {
     "data": {
      "text/plain": [
       "26061216091430628149912003918482974691369154964454850329232923384404851135179661422058726948027037326"
      ]
     },
     "execution_count": 17,
     "metadata": {},
     "output_type": "execute_result"
    }
   ],
   "source": [
    "8729487289748937425892374895732485789*2985423453452345452345234523452345234523452345234523452345234534"
   ]
  },
  {
   "cell_type": "code",
   "execution_count": 18,
   "id": "c0233499",
   "metadata": {},
   "outputs": [
    {
     "data": {
      "text/plain": [
       "3"
      ]
     },
     "execution_count": 18,
     "metadata": {},
     "output_type": "execute_result"
    }
   ],
   "source": [
    "x=1\n",
    "y=2\n",
    "x+y"
   ]
  },
  {
   "cell_type": "code",
   "execution_count": 23,
   "id": "4843beaf",
   "metadata": {},
   "outputs": [
    {
     "name": "stdout",
     "output_type": "stream",
     "text": [
      "13\n",
      "239\n"
     ]
    }
   ],
   "source": [
    "x=1\n",
    "a=1.5\n",
    "b=3.1e10 #3.1 * 10의 10승\n",
    "c=0o15\n",
    "d=0xef\n",
    "print(c)\n",
    "print(d)"
   ]
  },
  {
   "cell_type": "code",
   "execution_count": 20,
   "id": "775483d6",
   "metadata": {},
   "outputs": [
    {
     "data": {
      "text/plain": [
       "31000000000.0"
      ]
     },
     "execution_count": 20,
     "metadata": {},
     "output_type": "execute_result"
    }
   ],
   "source": [
    "b"
   ]
  },
  {
   "cell_type": "code",
   "execution_count": 26,
   "id": "97a27cf2",
   "metadata": {},
   "outputs": [
    {
     "data": {
      "text/plain": [
       "1"
      ]
     },
     "execution_count": 26,
     "metadata": {},
     "output_type": "execute_result"
    }
   ],
   "source": [
    "3 ** 4\n",
    "4 % 3\n",
    "4 // 3"
   ]
  },
  {
   "cell_type": "code",
   "execution_count": 27,
   "id": "9cba13b2",
   "metadata": {},
   "outputs": [
    {
     "data": {
      "text/plain": [
       "'\\nhi\\nhello\\nhi\\nhello\\n'"
      ]
     },
     "execution_count": 27,
     "metadata": {},
     "output_type": "execute_result"
    }
   ],
   "source": [
    "\"hello\"\n",
    "'hello'\n",
    "\"\"\"\n",
    "hi\n",
    "hello\n",
    "\"\"\"\n",
    "\n",
    "'''\n",
    "hi\n",
    "hello\n",
    "hi\n",
    "hello\n",
    "'''"
   ]
  },
  {
   "cell_type": "code",
   "execution_count": 28,
   "id": "31760752",
   "metadata": {},
   "outputs": [
    {
     "data": {
      "text/plain": [
       "\"Kim's\""
      ]
     },
     "execution_count": 28,
     "metadata": {},
     "output_type": "execute_result"
    }
   ],
   "source": [
    "n=\"Kim's\"\n",
    "n"
   ]
  },
  {
   "cell_type": "code",
   "execution_count": 29,
   "id": "86a21979",
   "metadata": {},
   "outputs": [
    {
     "ename": "SyntaxError",
     "evalue": "unterminated string literal (detected at line 1) (2905398816.py, line 1)",
     "output_type": "error",
     "traceback": [
      "\u001b[1;36m  Cell \u001b[1;32mIn[29], line 1\u001b[1;36m\u001b[0m\n\u001b[1;33m    n='Kim's'\u001b[0m\n\u001b[1;37m            ^\u001b[0m\n\u001b[1;31mSyntaxError\u001b[0m\u001b[1;31m:\u001b[0m unterminated string literal (detected at line 1)\n"
     ]
    }
   ],
   "source": [
    "n='Kim's'\n",
    "n"
   ]
  },
  {
   "cell_type": "code",
   "execution_count": 30,
   "id": "7ad21e9d",
   "metadata": {},
   "outputs": [
    {
     "data": {
      "text/plain": [
       "\"Kim's\""
      ]
     },
     "execution_count": 30,
     "metadata": {},
     "output_type": "execute_result"
    }
   ],
   "source": [
    "n='Kim\\'s'\n",
    "n"
   ]
  },
  {
   "cell_type": "code",
   "execution_count": 33,
   "id": "f949cd42",
   "metadata": {},
   "outputs": [
    {
     "name": "stdout",
     "output_type": "stream",
     "text": [
      "he\tllo\n",
      "hi\n"
     ]
    }
   ],
   "source": [
    "msg=\"he\\tllo\\nhi\"\n",
    "msg\n",
    "print(msg)"
   ]
  },
  {
   "cell_type": "code",
   "execution_count": 34,
   "id": "568ae31d",
   "metadata": {},
   "outputs": [
    {
     "data": {
      "text/plain": [
       "'hihello'"
      ]
     },
     "execution_count": 34,
     "metadata": {},
     "output_type": "execute_result"
    }
   ],
   "source": [
    "\"hi\" + \"hello\""
   ]
  },
  {
   "cell_type": "code",
   "execution_count": 36,
   "id": "a1d30df8",
   "metadata": {},
   "outputs": [
    {
     "data": {
      "text/plain": [
       "'=================================================='"
      ]
     },
     "execution_count": 36,
     "metadata": {},
     "output_type": "execute_result"
    }
   ],
   "source": [
    "\"hi\"*100\n",
    "\"=\"*50"
   ]
  },
  {
   "cell_type": "code",
   "execution_count": 38,
   "id": "225a950f",
   "metadata": {},
   "outputs": [
    {
     "data": {
      "text/plain": [
       "6"
      ]
     },
     "execution_count": 38,
     "metadata": {},
     "output_type": "execute_result"
    }
   ],
   "source": [
    "len(\"hello\")\n",
    "len(\"h ello\")"
   ]
  },
  {
   "cell_type": "code",
   "execution_count": 39,
   "id": "180080cc",
   "metadata": {},
   "outputs": [
    {
     "data": {
      "text/plain": [
       "'hello'"
      ]
     },
     "execution_count": 39,
     "metadata": {},
     "output_type": "execute_result"
    }
   ],
   "source": [
    "a=\"hello\"\n",
    "a"
   ]
  },
  {
   "cell_type": "code",
   "execution_count": 41,
   "id": "742152fb",
   "metadata": {},
   "outputs": [
    {
     "data": {
      "text/plain": [
       "'o'"
      ]
     },
     "execution_count": 41,
     "metadata": {},
     "output_type": "execute_result"
    }
   ],
   "source": [
    "a[0]\n",
    "a[4] #문자열의 마지막 문자 위치 = len() -1\n"
   ]
  },
  {
   "cell_type": "code",
   "execution_count": 42,
   "id": "764b152c",
   "metadata": {},
   "outputs": [
    {
     "data": {
      "text/plain": [
       "'hello'"
      ]
     },
     "execution_count": 42,
     "metadata": {},
     "output_type": "execute_result"
    }
   ],
   "source": [
    "a"
   ]
  },
  {
   "cell_type": "code",
   "execution_count": 44,
   "id": "623fc522",
   "metadata": {},
   "outputs": [
    {
     "data": {
      "text/plain": [
       "'e'"
      ]
     },
     "execution_count": 44,
     "metadata": {},
     "output_type": "execute_result"
    }
   ],
   "source": [
    "a[-1]\n",
    "a[-4]"
   ]
  },
  {
   "cell_type": "code",
   "execution_count": 46,
   "id": "247d70dd",
   "metadata": {},
   "outputs": [
    {
     "data": {
      "text/plain": [
       "'hell'"
      ]
     },
     "execution_count": 46,
     "metadata": {},
     "output_type": "execute_result"
    }
   ],
   "source": [
    "b=\"hello world\"\n",
    "b[0:4] # [포함:불포함]"
   ]
  },
  {
   "cell_type": "code",
   "execution_count": 47,
   "id": "c678de7d",
   "metadata": {},
   "outputs": [
    {
     "data": {
      "text/plain": [
       "'hel'"
      ]
     },
     "execution_count": 47,
     "metadata": {},
     "output_type": "execute_result"
    }
   ],
   "source": [
    "b[:3]"
   ]
  },
  {
   "cell_type": "code",
   "execution_count": 48,
   "id": "6a7adba4",
   "metadata": {},
   "outputs": [
    {
     "data": {
      "text/plain": [
       "'lo world'"
      ]
     },
     "execution_count": 48,
     "metadata": {},
     "output_type": "execute_result"
    }
   ],
   "source": [
    "b[3:]"
   ]
  },
  {
   "cell_type": "code",
   "execution_count": 51,
   "id": "3f2076bf",
   "metadata": {},
   "outputs": [
    {
     "data": {
      "text/plain": [
       "'오늘은 교육 이틀째 입니다.'"
      ]
     },
     "execution_count": 51,
     "metadata": {},
     "output_type": "execute_result"
    }
   ],
   "source": [
    "\"오늘은 교육 %d일째 입니다.\" % 2\n",
    "\"오늘은 교육 %s째 입니다.\" % \"이틀\""
   ]
  },
  {
   "cell_type": "code",
   "execution_count": 53,
   "id": "54fb17cb",
   "metadata": {},
   "outputs": [
    {
     "data": {
      "text/plain": [
       "'오늘은 교육 2일째 5번째 실습입니다.'"
      ]
     },
     "execution_count": 53,
     "metadata": {},
     "output_type": "execute_result"
    }
   ],
   "source": [
    "\"오늘은 교육 %d일째 %d번째 %s입니다.\" % (2, 5, \"실습\")\n"
   ]
  },
  {
   "cell_type": "code",
   "execution_count": 55,
   "id": "a21e8331",
   "metadata": {},
   "outputs": [
    {
     "data": {
      "text/plain": [
       "'모델의 정확도가 90%입니다'"
      ]
     },
     "execution_count": 55,
     "metadata": {},
     "output_type": "execute_result"
    }
   ],
   "source": [
    "\"모델의 정확도가 %d%%입니다\" % 90"
   ]
  },
  {
   "cell_type": "code",
   "execution_count": 58,
   "id": "57b27e3c",
   "metadata": {},
   "outputs": [
    {
     "name": "stdout",
     "output_type": "stream",
     "text": [
      "hi\n",
      "          hi\n"
     ]
    }
   ],
   "source": [
    "print(\"hi\")\n",
    "print(\"          hi\")"
   ]
  },
  {
   "cell_type": "code",
   "execution_count": 60,
   "id": "4063e8ce",
   "metadata": {},
   "outputs": [
    {
     "name": "stdout",
     "output_type": "stream",
     "text": [
      "        hi\n",
      "   hellohi\n"
     ]
    }
   ],
   "source": [
    "print(\"%10s\" % \"hi\")\n",
    "print(\"%10s\" % \"hellohi\")\n"
   ]
  },
  {
   "cell_type": "code",
   "execution_count": 62,
   "id": "fa88c770",
   "metadata": {},
   "outputs": [
    {
     "name": "stdout",
     "output_type": "stream",
     "text": [
      "3.141592\n",
      "2.718\n"
     ]
    }
   ],
   "source": [
    "print(\"3.141592\")\n",
    "print(\"2.718\")"
   ]
  },
  {
   "cell_type": "code",
   "execution_count": 64,
   "id": "c37b2fbf",
   "metadata": {},
   "outputs": [
    {
     "name": "stdout",
     "output_type": "stream",
     "text": [
      "      3.14\n",
      "      2.72\n"
     ]
    }
   ],
   "source": [
    "print(\"%10.2f\" % 3.141592)\n",
    "print(\"%10.2f\" % 2.718)"
   ]
  },
  {
   "cell_type": "code",
   "execution_count": 70,
   "id": "61b99ba8",
   "metadata": {},
   "outputs": [
    {
     "data": {
      "text/plain": [
       "'5일 동안 훈련한 모델의 acc가 90%입니다'"
      ]
     },
     "execution_count": 70,
     "metadata": {},
     "output_type": "execute_result"
    }
   ],
   "source": [
    "\"모델의 {1}가 {0}%입니다\".format(\"acc\",90)\n",
    "\"{2}일 동안 훈련한 모델의 {0}가 {1}%입니다\".format(\"acc\",90, 5)"
   ]
  },
  {
   "cell_type": "code",
   "execution_count": 75,
   "id": "c9040315",
   "metadata": {},
   "outputs": [
    {
     "data": {
      "text/plain": [
       "2"
      ]
     },
     "execution_count": 75,
     "metadata": {},
     "output_type": "execute_result"
    }
   ],
   "source": [
    "x=\"머신러닝딥러닝\"\n",
    "x.count(\"러\")\n",
    "x.find(\"라\") #-1\n",
    "x.find(\"러\")\n",
    "\n",
    "#x.index(\"라\") #eror\n",
    "x.index(\"러\")"
   ]
  },
  {
   "cell_type": "code",
   "execution_count": 76,
   "id": "59d45c07",
   "metadata": {},
   "outputs": [
    {
     "data": {
      "text/plain": [
       "'머신학습딥학습'"
      ]
     },
     "execution_count": 76,
     "metadata": {},
     "output_type": "execute_result"
    }
   ],
   "source": [
    "x=\"머신러닝딥러닝\"\n",
    "x.replace(\"러닝\",\"학습\")"
   ]
  },
  {
   "cell_type": "code",
   "execution_count": 77,
   "id": "0e0c0964",
   "metadata": {},
   "outputs": [],
   "source": [
    "trule=str.maketrans(\"러\",\"런\" )"
   ]
  },
  {
   "cell_type": "code",
   "execution_count": 78,
   "id": "35fa7f19",
   "metadata": {},
   "outputs": [
    {
     "data": {
      "text/plain": [
       "'머신런닝딥런닝'"
      ]
     },
     "execution_count": 78,
     "metadata": {},
     "output_type": "execute_result"
    }
   ],
   "source": [
    "x.translate(trule)"
   ]
  },
  {
   "cell_type": "code",
   "execution_count": 79,
   "id": "17a53fa0",
   "metadata": {},
   "outputs": [],
   "source": [
    "trule2=str.maketrans(\"러닝\",\"런닝\" )"
   ]
  },
  {
   "cell_type": "code",
   "execution_count": 80,
   "id": "932502ab",
   "metadata": {},
   "outputs": [
    {
     "data": {
      "text/plain": [
       "'머신런닝딥런닝'"
      ]
     },
     "execution_count": 80,
     "metadata": {},
     "output_type": "execute_result"
    }
   ],
   "source": [
    "x.translate(trule2)"
   ]
  },
  {
   "cell_type": "code",
   "execution_count": 81,
   "id": "a83963b9",
   "metadata": {},
   "outputs": [
    {
     "data": {
      "text/plain": [
       "['머신', '러닝', '딥', '러닝']"
      ]
     },
     "execution_count": 81,
     "metadata": {},
     "output_type": "execute_result"
    }
   ],
   "source": [
    "\"머신 러닝 딥 러닝\".split()"
   ]
  },
  {
   "cell_type": "code",
   "execution_count": 82,
   "id": "e44654c6",
   "metadata": {},
   "outputs": [
    {
     "data": {
      "text/plain": [
       "['머신', '러닝@딥', '러닝']"
      ]
     },
     "execution_count": 82,
     "metadata": {},
     "output_type": "execute_result"
    }
   ],
   "source": [
    "\"머신 러닝@딥 러닝\".split()"
   ]
  },
  {
   "cell_type": "code",
   "execution_count": 83,
   "id": "8d6fb892",
   "metadata": {},
   "outputs": [
    {
     "data": {
      "text/plain": [
       "['머신 러닝', '딥 러닝']"
      ]
     },
     "execution_count": 83,
     "metadata": {},
     "output_type": "execute_result"
    }
   ],
   "source": [
    "\"머신 러닝@딥 러닝\".split(\"@\")"
   ]
  },
  {
   "cell_type": "code",
   "execution_count": 84,
   "id": "5cd8e1c3",
   "metadata": {},
   "outputs": [],
   "source": [
    "content=\"모레까지 200㎜ 폭우…주말 태풍 하이쿠이 영향 비\""
   ]
  },
  {
   "cell_type": "code",
   "execution_count": 86,
   "id": "b77049fa",
   "metadata": {},
   "outputs": [
    {
     "data": {
      "text/plain": [
       "'x,y,z'"
      ]
     },
     "execution_count": 86,
     "metadata": {},
     "output_type": "execute_result"
    }
   ],
   "source": [
    "res=\",\".join(\"xyz\")\n",
    "res"
   ]
  },
  {
   "cell_type": "code",
   "execution_count": 87,
   "id": "50a88864",
   "metadata": {},
   "outputs": [
    {
     "data": {
      "text/plain": [
       "['x', 'y', 'z']"
      ]
     },
     "execution_count": 87,
     "metadata": {},
     "output_type": "execute_result"
    }
   ],
   "source": [
    "res.split(\",\")"
   ]
  },
  {
   "cell_type": "code",
   "execution_count": 88,
   "id": "3f2d7ecf",
   "metadata": {},
   "outputs": [
    {
     "data": {
      "text/plain": [
       "'HELLO'"
      ]
     },
     "execution_count": 88,
     "metadata": {},
     "output_type": "execute_result"
    }
   ],
   "source": [
    "\"hello\".upper()"
   ]
  },
  {
   "cell_type": "code",
   "execution_count": 89,
   "id": "09e960f5",
   "metadata": {},
   "outputs": [
    {
     "data": {
      "text/plain": [
       "'hello'"
      ]
     },
     "execution_count": 89,
     "metadata": {},
     "output_type": "execute_result"
    }
   ],
   "source": [
    "'HELLO'.lower()"
   ]
  },
  {
   "cell_type": "code",
   "execution_count": 91,
   "id": "287e736e",
   "metadata": {},
   "outputs": [
    {
     "name": "stdout",
     "output_type": "stream",
     "text": [
      "python\n",
      "    python\n",
      "python    \n"
     ]
    }
   ],
   "source": [
    "print(\"    python    \".strip())\n",
    "print(\"    python    \".rstrip())\n",
    "print(\"    python    \".lstrip())"
   ]
  },
  {
   "cell_type": "code",
   "execution_count": 97,
   "id": "3bb9ae56",
   "metadata": {},
   "outputs": [
    {
     "name": "stdout",
     "output_type": "stream",
     "text": [
      ",   python\n",
      "python\n",
      "python.\n",
      "python\n"
     ]
    }
   ],
   "source": [
    "print(\" ,   python    \".strip())#양쪽 공백 제거\n",
    "print(\" ,   python    \".strip(\", \")) #양쪽 공백 또는 컴마 제거\n",
    "print(\" ,   python.    \".strip(\", \")) #양쪽 공백 또는 컴마 제거\n",
    "print(\" ,   python.    \".strip(\"., \")) #양쪽 공백 또는 컴마 제거\n",
    "\n"
   ]
  },
  {
   "cell_type": "code",
   "execution_count": 100,
   "id": "22b53734",
   "metadata": {},
   "outputs": [
    {
     "data": {
      "text/plain": [
       "'000hi'"
      ]
     },
     "execution_count": 100,
     "metadata": {},
     "output_type": "execute_result"
    }
   ],
   "source": [
    "\"123\".zfill(5)\n",
    "\"hi\".zfill(5)"
   ]
  },
  {
   "cell_type": "code",
   "execution_count": 101,
   "id": "51ae76d2",
   "metadata": {},
   "outputs": [
    {
     "data": {
      "text/plain": [
       "-1"
      ]
     },
     "execution_count": 101,
     "metadata": {},
     "output_type": "execute_result"
    }
   ],
   "source": [
    "\"apple pineapple\".find(\"ap\")\n",
    "\"apple pineapple\".find(\"xy\")"
   ]
  },
  {
   "cell_type": "code",
   "execution_count": null,
   "id": "ad5657d4",
   "metadata": {},
   "outputs": [],
   "source": [
    "\"\"\"\n",
    "자료구조?자료를 저장 및 관리하는 방법\n",
    "알고리즘?문제를 해결하는 (좋은)방법\n",
    "\"\"\""
   ]
  },
  {
   "cell_type": "code",
   "execution_count": null,
   "id": "f3b792d9",
   "metadata": {},
   "outputs": [],
   "source": [
    "\"\"\"\n",
    "파이썬 자료구조 : 리스트, 딕셔너리, 집합, 튜플\n",
    "=> 리스트, 딕셔너리\n",
    "프로그래밍 언어 알고리즘 : \n",
    "검색 : 순차, 이진, ..., DFS, BFS ...\n",
    "정렬 : 선택, 버블, 퀵, 계수, ..\n",
    "...\n",
    "\n",
    "예측/분류 모델(머신러닝, 딥러닝) : 의사결정트리, 랜덤포레스트, 신경망,...\n",
    "\n",
    "https://wikidocs.net/\n",
    "\"\"\""
   ]
  },
  {
   "cell_type": "code",
   "execution_count": null,
   "id": "7cb0ce91",
   "metadata": {},
   "outputs": [],
   "source": [
    "\"\"\"\n",
    "[서울=뉴시스]이인준 기자 = 챗GPT 같은 생성형 AI를 통해 한국의 기업 생산량이 최대 620조원(4763억달러) 증가할 수 있다는 분석이 제기됐다.\n",
    "대한상공회의소가 28일 마이크로소프트, 영국 컨설팅그룹 엑세스파트너십과 함께 발간한 '생성형 AI가 한국경제에 미치는 영향 보고서'에 따르면 생성형 AI 적용에 따른 한국 경제의 잠재적 생산역량(productive capacity)은 지난해 국내총생산(GDP) 2150조6000억원(명목) 대비 29%에 달한다.\n",
    "\"\"\"\n",
    "\"\"\"리스트 자료 참조하는 방법\"\"\"\n",
    "\"\"\"\n",
    "이인준 추출\n",
    "620 추출\n",
    "29% 추출\n",
    "\"\"\"\n",
    "\n"
   ]
  }
 ],
 "metadata": {
  "kernelspec": {
   "display_name": "Python 3 (ipykernel)",
   "language": "python",
   "name": "python3"
  },
  "language_info": {
   "codemirror_mode": {
    "name": "ipython",
    "version": 3
   },
   "file_extension": ".py",
   "mimetype": "text/x-python",
   "name": "python",
   "nbconvert_exporter": "python",
   "pygments_lexer": "ipython3",
   "version": "3.11.4"
  }
 },
 "nbformat": 4,
 "nbformat_minor": 5
}
