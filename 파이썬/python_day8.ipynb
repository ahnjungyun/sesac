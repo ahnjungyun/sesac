{
 "cells": [
  {
   "cell_type": "code",
   "execution_count": 1,
   "id": "f77da972",
   "metadata": {},
   "outputs": [],
   "source": [
    "gravity=[7,4,2,0,0,6,0,7,0]\n",
    "gravity.reverse()"
   ]
  },
  {
   "cell_type": "code",
   "execution_count": 2,
   "id": "a52b189f",
   "metadata": {},
   "outputs": [
    {
     "data": {
      "text/plain": [
       "[0, 7, 0, 6, 0, 0, 2, 4, 7]"
      ]
     },
     "execution_count": 2,
     "metadata": {},
     "output_type": "execute_result"
    }
   ],
   "source": [
    "gravity"
   ]
  },
  {
   "cell_type": "code",
   "execution_count": 3,
   "id": "23a3688e",
   "metadata": {},
   "outputs": [
    {
     "data": {
      "text/plain": [
       "[['0000000'],\n",
       " ['1111111'],\n",
       " ['0000000'],\n",
       " ['1111110'],\n",
       " ['0000000'],\n",
       " ['0000000'],\n",
       " ['1100000'],\n",
       " ['1111000'],\n",
       " ['1111111']]"
      ]
     },
     "execution_count": 3,
     "metadata": {},
     "output_type": "execute_result"
    }
   ],
   "source": [
    "\n",
    "num=max(gravity)\n",
    "list1=[]\n",
    "for i in gravity:\n",
    "    if i==0:\n",
    "        list1.append([str(i)*num])\n",
    "    else:\n",
    "        list1.append([(\"1\"*i)+(\"0\"*(num-i))])\n",
    "list1 # 1차 결과값, 0과 1로 수치변환"
   ]
  },
  {
   "cell_type": "code",
   "execution_count": 5,
   "id": "ada75e22",
   "metadata": {},
   "outputs": [],
   "source": [
    "column_sums = [0] * len(list1[0][0])  \n",
    "for row in list1:\n",
    "    for i, digit in enumerate(row[0]):\n",
    "        column_sums[i] += int(digit)"
   ]
  },
  {
   "cell_type": "code",
   "execution_count": 6,
   "id": "270149e3",
   "metadata": {},
   "outputs": [
    {
     "data": {
      "text/plain": [
       "[5, 5, 4, 4, 3, 3, 2]"
      ]
     },
     "execution_count": 6,
     "metadata": {},
     "output_type": "execute_result"
    }
   ],
   "source": [
    "column_sums"
   ]
  },
  {
   "cell_type": "code",
   "execution_count": 7,
   "id": "ec582789",
   "metadata": {},
   "outputs": [
    {
     "name": "stdout",
     "output_type": "stream",
     "text": [
      "4\n",
      "4\n",
      "5\n",
      "5\n",
      "6\n",
      "6\n",
      "7\n"
     ]
    }
   ],
   "source": [
    "\n",
    "\n",
    "\n",
    "\n",
    "# 결과 출력: 각 행의 열에서 0(낙차)의 갯수 구하기\n",
    "for column_sum in column_sums:\n",
    "    print(len(gravity)-column_sum)"
   ]
  },
  {
   "cell_type": "code",
   "execution_count": 8,
   "id": "64db8445",
   "metadata": {},
   "outputs": [
    {
     "name": "stdout",
     "output_type": "stream",
     "text": [
      "낙하거리 7\n"
     ]
    }
   ],
   "source": [
    "gravity=[7,4,2,0,0,6,0,7,0]\n",
    "# 인덱스 0번의 낙하 거리를 구하는 경우\n",
    "fall_n = 1\n",
    "for i in range(1, len(gravity) - 1):\n",
    "    if gravity[i - 1] > gravity[i]:\n",
    "        gravity[i - 1], gravity[i] = gravity[i], gravity[i - 1]\n",
    "        fall_n += 1\n",
    "    elif gravity[i - 1] <= gravity[i]:\n",
    "        break\n",
    "print(f\"낙하거리 {fall_n}\")"
   ]
  },
  {
   "cell_type": "code",
   "execution_count": 11,
   "id": "f05fff2d",
   "metadata": {},
   "outputs": [],
   "source": [
    "gravity=[7,4,2,0,0,6,0,7,0]\n",
    "max_cnt=0"
   ]
  },
  {
   "cell_type": "code",
   "execution_count": 12,
   "id": "e492d16f",
   "metadata": {},
   "outputs": [],
   "source": [
    "for i in range(len(gravity)-1): #0~7\n",
    "    cnt=0\n",
    "    for j in range(i+1, len(gravity)): #i+1 ~ 8\n",
    "        if gravity[i] > gravity[j]:\n",
    "            cnt+=1\n",
    "    if max_cnt < cnt:\n",
    "        max_cnt=cnt"
   ]
  },
  {
   "cell_type": "code",
   "execution_count": 13,
   "id": "deaa560f",
   "metadata": {},
   "outputs": [
    {
     "name": "stdout",
     "output_type": "stream",
     "text": [
      "7\n"
     ]
    }
   ],
   "source": [
    "print(max_cnt)"
   ]
  },
  {
   "cell_type": "code",
   "execution_count": 16,
   "id": "ebe23f3e",
   "metadata": {},
   "outputs": [
    {
     "name": "stdout",
     "output_type": "stream",
     "text": [
      "5\n"
     ]
    }
   ],
   "source": [
    "import random\n",
    "print(random.randint(1,10))\n",
    "\n",
    "def make_lotto():\n",
    "    result = []\n",
    "    for i in range(6):\n",
    "        while True:\n",
    "            num = random.randint(1,46)\n",
    "            if num not in result:\n",
    "                result.append(num)\n",
    "                break\n",
    "    return result"
   ]
  },
  {
   "cell_type": "code",
   "execution_count": 17,
   "id": "8d819518",
   "metadata": {},
   "outputs": [
    {
     "name": "stdout",
     "output_type": "stream",
     "text": [
      "[42, 39, 38, 23, 31, 30]\n"
     ]
    }
   ],
   "source": [
    "print(make_lotto())"
   ]
  },
  {
   "cell_type": "code",
   "execution_count": 19,
   "id": "887724d6",
   "metadata": {},
   "outputs": [],
   "source": [
    "import numpy as np"
   ]
  },
  {
   "cell_type": "code",
   "execution_count": 20,
   "id": "2e2a9eed",
   "metadata": {},
   "outputs": [
    {
     "data": {
      "text/plain": [
       "array([[ 0,  1,  0],\n",
       "       [ 1,  2, -2],\n",
       "       [ 6,  3,  2],\n",
       "       [-1,  0, -1],\n",
       "       [ 1,  0,  1]])"
      ]
     },
     "execution_count": 20,
     "metadata": {},
     "output_type": "execute_result"
    }
   ],
   "source": [
    "arr = np.array([[0, 1, 0], [1, 2, -2], [6, 3, 2], [-1, 0, -1], [1, 0, 1]])\n",
    "arr"
   ]
  },
  {
   "cell_type": "code",
   "execution_count": 21,
   "id": "9a444297",
   "metadata": {},
   "outputs": [
    {
     "data": {
      "text/plain": [
       "array([[ 0,  1,  6, -1,  1],\n",
       "       [ 1,  2,  3,  0,  0],\n",
       "       [ 0, -2,  2, -1,  1]])"
      ]
     },
     "execution_count": 21,
     "metadata": {},
     "output_type": "execute_result"
    }
   ],
   "source": [
    "arr.T # 전치행렬"
   ]
  },
  {
   "cell_type": "code",
   "execution_count": 22,
   "id": "79e6815c",
   "metadata": {},
   "outputs": [
    {
     "data": {
      "text/plain": [
       "array([[ 1,  2,  3,  0,  0],\n",
       "       [ 2,  9,  8,  1, -1],\n",
       "       [ 3,  8, 49, -8,  8],\n",
       "       [ 0,  1, -8,  2, -2],\n",
       "       [ 0, -1,  8, -2,  2]])"
      ]
     },
     "execution_count": 22,
     "metadata": {},
     "output_type": "execute_result"
    }
   ],
   "source": [
    "np.dot(arr, arr.T)"
   ]
  },
  {
   "cell_type": "code",
   "execution_count": 23,
   "id": "7229c6d4",
   "metadata": {},
   "outputs": [
    {
     "data": {
      "text/plain": [
       "array([[ 1,  2,  3,  0,  0],\n",
       "       [ 2,  9,  8,  1, -1],\n",
       "       [ 3,  8, 49, -8,  8],\n",
       "       [ 0,  1, -8,  2, -2],\n",
       "       [ 0, -1,  8, -2,  2]])"
      ]
     },
     "execution_count": 23,
     "metadata": {},
     "output_type": "execute_result"
    }
   ],
   "source": [
    "arr @ arr.T"
   ]
  },
  {
   "cell_type": "code",
   "execution_count": null,
   "id": "33a8d33e",
   "metadata": {},
   "outputs": [],
   "source": [
    "#3행2열 행렬, 2행 4열 행렬 생성(난수:1~10)\n",
    "#행렬 곱셈 출력"
   ]
  },
  {
   "cell_type": "code",
   "execution_count": 37,
   "id": "8d8139c0",
   "metadata": {},
   "outputs": [],
   "source": [
    "arr1=np.random.randint(1,11, size=(3, 2))\n",
    "arr2=np.random.randint(1,11, size=(2, 4))"
   ]
  },
  {
   "cell_type": "code",
   "execution_count": 38,
   "id": "b66db879",
   "metadata": {},
   "outputs": [
    {
     "data": {
      "text/plain": [
       "array([[ 3,  2],\n",
       "       [ 6, 10],\n",
       "       [ 7,  5]])"
      ]
     },
     "execution_count": 38,
     "metadata": {},
     "output_type": "execute_result"
    }
   ],
   "source": [
    "arr1"
   ]
  },
  {
   "cell_type": "code",
   "execution_count": 39,
   "id": "464f6ad1",
   "metadata": {},
   "outputs": [
    {
     "data": {
      "text/plain": [
       "array([[ 2, 10,  3,  2],\n",
       "       [ 3,  3,  5,  4]])"
      ]
     },
     "execution_count": 39,
     "metadata": {},
     "output_type": "execute_result"
    }
   ],
   "source": [
    "arr2"
   ]
  },
  {
   "cell_type": "code",
   "execution_count": 40,
   "id": "043413a0",
   "metadata": {},
   "outputs": [
    {
     "data": {
      "text/plain": [
       "array([[12, 36, 19, 14],\n",
       "       [42, 90, 68, 52],\n",
       "       [29, 85, 46, 34]])"
      ]
     },
     "execution_count": 40,
     "metadata": {},
     "output_type": "execute_result"
    }
   ],
   "source": [
    "arr1 @ arr2"
   ]
  },
  {
   "cell_type": "code",
   "execution_count": 41,
   "id": "f21538fb",
   "metadata": {},
   "outputs": [
    {
     "data": {
      "text/plain": [
       "array([[12, 36, 19, 14],\n",
       "       [42, 90, 68, 52],\n",
       "       [29, 85, 46, 34]])"
      ]
     },
     "execution_count": 41,
     "metadata": {},
     "output_type": "execute_result"
    }
   ],
   "source": [
    "np.dot(arr1,arr2)"
   ]
  },
  {
   "cell_type": "code",
   "execution_count": null,
   "id": "e6a1c769",
   "metadata": {},
   "outputs": [],
   "source": [
    "\"\"\"\n",
    "선형대수학\n",
    "\n",
    "벡터\n",
    "9/6 : 사과-5, 배-2, 딸기-1\n",
    "9/7 : 바나나-3, 딸기-2, 배-1\n",
    "...\n",
    "\n",
    " 사과(200)   배(100)    딸기(300)    바나나(500)\n",
    "9/6     5     2       1       0\n",
    "9/7     0     1       2        3\n",
    "\n",
    "(5,2,1,0)     200    = 5*200+2*100+1*300+0*500=1500\n",
    "(0,1,2,3)     100\n",
    "...        @  300\n",
    "(2,3,1,0)     500\n",
    "\n",
    "...\n",
    "\n",
    "\"\"\"\n",
    "\n",
    "0 0 0... 200 210 255 ...\n",
    "0 255 210 ...  \n",
    "...\n",
    "...\n",
    "....\n",
    "\n",
    "\n",
    "\n",
    "\n"
   ]
  },
  {
   "cell_type": "code",
   "execution_count": 42,
   "id": "5acc62ae",
   "metadata": {},
   "outputs": [
    {
     "data": {
      "text/plain": [
       "array([[-0.68569271, -0.5244936 ,  1.07177248, -0.61941968],\n",
       "       [-0.28699581, -0.70804169,  0.98225531,  0.31658021],\n",
       "       [ 0.11090721, -0.33893423,  1.33990698, -1.01119048],\n",
       "       [-0.0212079 ,  0.15308405, -0.85443257,  0.18779838]])"
      ]
     },
     "execution_count": 42,
     "metadata": {},
     "output_type": "execute_result"
    }
   ],
   "source": [
    "samples=np.random.standard_normal(size=(4,4))\n",
    "samples"
   ]
  },
  {
   "cell_type": "code",
   "execution_count": 43,
   "id": "12b9ad7f",
   "metadata": {},
   "outputs": [
    {
     "data": {
      "text/plain": [
       "-0.05550650371709762"
      ]
     },
     "execution_count": 43,
     "metadata": {},
     "output_type": "execute_result"
    }
   ],
   "source": [
    "np.mean(samples)"
   ]
  },
  {
   "cell_type": "code",
   "execution_count": 44,
   "id": "944d452c",
   "metadata": {},
   "outputs": [
    {
     "data": {
      "text/plain": [
       "0.6897159340579999"
      ]
     },
     "execution_count": 44,
     "metadata": {},
     "output_type": "execute_result"
    }
   ],
   "source": [
    "np.std(samples)"
   ]
  },
  {
   "cell_type": "code",
   "execution_count": 45,
   "id": "373965ba",
   "metadata": {},
   "outputs": [],
   "source": [
    "xarr = np.array([1.1, 1.2, 1.3, 1.4, 1.5])\n",
    "yarr = np.array([2.1, 2.2, 2.3, 2.4, 2.5])\n",
    "cond = np.array([True, False, True, True, False])"
   ]
  },
  {
   "cell_type": "code",
   "execution_count": null,
   "id": "93f9746d",
   "metadata": {},
   "outputs": [],
   "source": [
    "# [1.1, 2.2, 1.3, 1.4, 2.5]"
   ]
  },
  {
   "cell_type": "code",
   "execution_count": 49,
   "id": "d82dede3",
   "metadata": {},
   "outputs": [
    {
     "data": {
      "text/plain": [
       "[1.1, 2.2, 1.3, 1.4, 2.5]"
      ]
     },
     "execution_count": 49,
     "metadata": {},
     "output_type": "execute_result"
    }
   ],
   "source": [
    "[(x if c else y) for x, y, c in zip(xarr, yarr, cond)]"
   ]
  },
  {
   "cell_type": "code",
   "execution_count": 46,
   "id": "96f4dda3",
   "metadata": {},
   "outputs": [
    {
     "data": {
      "text/plain": [
       "array([1.1, 2.2, 1.3, 1.4, 2.5])"
      ]
     },
     "execution_count": 46,
     "metadata": {},
     "output_type": "execute_result"
    }
   ],
   "source": [
    "(xarr * cond) + (yarr * ~cond)"
   ]
  },
  {
   "cell_type": "code",
   "execution_count": 47,
   "id": "a71f98d7",
   "metadata": {},
   "outputs": [
    {
     "data": {
      "text/plain": [
       "array([1.1, 0. , 1.3, 1.4, 0. ])"
      ]
     },
     "execution_count": 47,
     "metadata": {},
     "output_type": "execute_result"
    }
   ],
   "source": [
    "(xarr * cond) "
   ]
  },
  {
   "cell_type": "code",
   "execution_count": 48,
   "id": "f77f03b1",
   "metadata": {},
   "outputs": [
    {
     "data": {
      "text/plain": [
       "array([0. , 2.2, 0. , 0. , 2.5])"
      ]
     },
     "execution_count": 48,
     "metadata": {},
     "output_type": "execute_result"
    }
   ],
   "source": [
    "(yarr * ~cond)"
   ]
  },
  {
   "cell_type": "code",
   "execution_count": null,
   "id": "a656aaea",
   "metadata": {},
   "outputs": [],
   "source": [
    "(xarr * cond) + (yarr * ~cond)"
   ]
  },
  {
   "cell_type": "code",
   "execution_count": null,
   "id": "443997cd",
   "metadata": {},
   "outputs": [],
   "source": [
    "xarr = np.array([1.1, 1.2, 1.3, 1.4, 1.5])\n",
    "yarr = np.array([2.1, 2.2, 2.3, 2.4, 2.5])\n",
    "cond = np.array([True, False, True, True, False])"
   ]
  },
  {
   "cell_type": "code",
   "execution_count": 50,
   "id": "a6755961",
   "metadata": {},
   "outputs": [
    {
     "data": {
      "text/plain": [
       "array('참입니다', dtype='<U5')"
      ]
     },
     "execution_count": 50,
     "metadata": {},
     "output_type": "execute_result"
    }
   ],
   "source": [
    "#np.where(조건, 참, 거짓)\n",
    "np.where(True, \"참입니다\", \"거짓입니다\")"
   ]
  },
  {
   "cell_type": "code",
   "execution_count": 51,
   "id": "1ec3412f",
   "metadata": {},
   "outputs": [
    {
     "data": {
      "text/plain": [
       "array([1.1, 2.2, 1.3, 1.4, 2.5])"
      ]
     },
     "execution_count": 51,
     "metadata": {},
     "output_type": "execute_result"
    }
   ],
   "source": [
    "np.where(cond, xarr, yarr)"
   ]
  },
  {
   "cell_type": "code",
   "execution_count": 52,
   "id": "464413f1",
   "metadata": {},
   "outputs": [
    {
     "data": {
      "text/plain": [
       "array([[ 4.00357348e-01, -1.46777231e+00,  7.62335489e-01,\n",
       "        -3.87355826e-01],\n",
       "       [-8.26343309e-01,  3.14096322e-01,  6.75579448e-04,\n",
       "         8.12270130e-01],\n",
       "       [ 7.74050498e-01,  9.17772791e-02, -2.70364661e+00,\n",
       "         6.34177084e-01],\n",
       "       [-2.47140423e-01, -1.01365201e+00, -9.97148491e-02,\n",
       "        -1.65591442e+00]])"
      ]
     },
     "execution_count": 52,
     "metadata": {},
     "output_type": "execute_result"
    }
   ],
   "source": [
    "arr=np.random.standard_normal((4,4))\n",
    "arr\n",
    "#음수 ->0, 양수 ->그대로"
   ]
  },
  {
   "cell_type": "code",
   "execution_count": null,
   "id": "32545d7e",
   "metadata": {},
   "outputs": [],
   "source": []
  },
  {
   "cell_type": "code",
   "execution_count": 54,
   "id": "854595ae",
   "metadata": {},
   "outputs": [
    {
     "data": {
      "text/plain": [
       "array([[4.00357348e-01, 0.00000000e+00, 7.62335489e-01, 0.00000000e+00],\n",
       "       [0.00000000e+00, 3.14096322e-01, 6.75579448e-04, 8.12270130e-01],\n",
       "       [7.74050498e-01, 9.17772791e-02, 0.00000000e+00, 6.34177084e-01],\n",
       "       [0.00000000e+00, 0.00000000e+00, 0.00000000e+00, 0.00000000e+00]])"
      ]
     },
     "execution_count": 54,
     "metadata": {},
     "output_type": "execute_result"
    }
   ],
   "source": [
    "np.where(arr<0, 0, arr)"
   ]
  },
  {
   "cell_type": "code",
   "execution_count": null,
   "id": "774a90c1",
   "metadata": {},
   "outputs": [],
   "source": []
  },
  {
   "cell_type": "code",
   "execution_count": 57,
   "id": "828f2209",
   "metadata": {},
   "outputs": [
    {
     "data": {
      "text/html": [
       "<div>\n",
       "<style scoped>\n",
       "    .dataframe tbody tr th:only-of-type {\n",
       "        vertical-align: middle;\n",
       "    }\n",
       "\n",
       "    .dataframe tbody tr th {\n",
       "        vertical-align: top;\n",
       "    }\n",
       "\n",
       "    .dataframe thead th {\n",
       "        text-align: right;\n",
       "    }\n",
       "</style>\n",
       "<table border=\"1\" class=\"dataframe\">\n",
       "  <thead>\n",
       "    <tr style=\"text-align: right;\">\n",
       "      <th></th>\n",
       "      <th>제품</th>\n",
       "      <th>수량</th>\n",
       "      <th>제조일시</th>\n",
       "    </tr>\n",
       "  </thead>\n",
       "  <tbody>\n",
       "    <tr>\n",
       "      <th>0</th>\n",
       "      <td>milk</td>\n",
       "      <td>3</td>\n",
       "      <td>2020-01-01 01:00:00</td>\n",
       "    </tr>\n",
       "    <tr>\n",
       "      <th>1</th>\n",
       "      <td>juice</td>\n",
       "      <td>5</td>\n",
       "      <td>2019-12-20 15:01:00</td>\n",
       "    </tr>\n",
       "    <tr>\n",
       "      <th>2</th>\n",
       "      <td>bread</td>\n",
       "      <td>10</td>\n",
       "      <td>2019-12-31 00:00:00</td>\n",
       "    </tr>\n",
       "    <tr>\n",
       "      <th>3</th>\n",
       "      <td>icecream</td>\n",
       "      <td>2</td>\n",
       "      <td>2020-01-02 02:03:01</td>\n",
       "    </tr>\n",
       "  </tbody>\n",
       "</table>\n",
       "</div>"
      ],
      "text/plain": [
       "         제품  수량                제조일시\n",
       "0      milk   3 2020-01-01 01:00:00\n",
       "1     juice   5 2019-12-20 15:01:00\n",
       "2     bread  10 2019-12-31 00:00:00\n",
       "3  icecream   2 2020-01-02 02:03:01"
      ]
     },
     "execution_count": 57,
     "metadata": {},
     "output_type": "execute_result"
    }
   ],
   "source": [
    "import pandas as pd\n",
    "import numpy as np\n",
    "\n",
    "lst_A = {'제품':['milk','juice','bread','icecream'],\n",
    "         '수량':[3,5,10,2],\n",
    "         '제조일시':['2020-01-01 01:00:00','2019-12-20 15:01:00','2019-12-31 00:00:00','2020-01-02 02:03:01']}\n",
    "\n",
    "df = pd.DataFrame(lst_A)\n",
    "df\n",
    "df['제조일시'] = pd.to_datetime(df['제조일시'])\n",
    "df"
   ]
  },
  {
   "cell_type": "code",
   "execution_count": null,
   "id": "d4543a96",
   "metadata": {},
   "outputs": [],
   "source": [
    "#수량이 5미만 -> 적정, 그렇지 않으면 -> 초과\n",
    "#'초과여부' 열에 추가"
   ]
  },
  {
   "cell_type": "code",
   "execution_count": 60,
   "id": "81055dfe",
   "metadata": {},
   "outputs": [],
   "source": [
    "df['초과여부']=np.where(df['수량']<5, '적정', '초과')"
   ]
  },
  {
   "cell_type": "code",
   "execution_count": 61,
   "id": "2f974f71",
   "metadata": {},
   "outputs": [
    {
     "data": {
      "text/html": [
       "<div>\n",
       "<style scoped>\n",
       "    .dataframe tbody tr th:only-of-type {\n",
       "        vertical-align: middle;\n",
       "    }\n",
       "\n",
       "    .dataframe tbody tr th {\n",
       "        vertical-align: top;\n",
       "    }\n",
       "\n",
       "    .dataframe thead th {\n",
       "        text-align: right;\n",
       "    }\n",
       "</style>\n",
       "<table border=\"1\" class=\"dataframe\">\n",
       "  <thead>\n",
       "    <tr style=\"text-align: right;\">\n",
       "      <th></th>\n",
       "      <th>제품</th>\n",
       "      <th>수량</th>\n",
       "      <th>제조일시</th>\n",
       "      <th>초과여부</th>\n",
       "    </tr>\n",
       "  </thead>\n",
       "  <tbody>\n",
       "    <tr>\n",
       "      <th>0</th>\n",
       "      <td>milk</td>\n",
       "      <td>3</td>\n",
       "      <td>2020-01-01 01:00:00</td>\n",
       "      <td>적정</td>\n",
       "    </tr>\n",
       "    <tr>\n",
       "      <th>1</th>\n",
       "      <td>juice</td>\n",
       "      <td>5</td>\n",
       "      <td>2019-12-20 15:01:00</td>\n",
       "      <td>초과</td>\n",
       "    </tr>\n",
       "    <tr>\n",
       "      <th>2</th>\n",
       "      <td>bread</td>\n",
       "      <td>10</td>\n",
       "      <td>2019-12-31 00:00:00</td>\n",
       "      <td>초과</td>\n",
       "    </tr>\n",
       "    <tr>\n",
       "      <th>3</th>\n",
       "      <td>icecream</td>\n",
       "      <td>2</td>\n",
       "      <td>2020-01-02 02:03:01</td>\n",
       "      <td>적정</td>\n",
       "    </tr>\n",
       "  </tbody>\n",
       "</table>\n",
       "</div>"
      ],
      "text/plain": [
       "         제품  수량                제조일시 초과여부\n",
       "0      milk   3 2020-01-01 01:00:00   적정\n",
       "1     juice   5 2019-12-20 15:01:00   초과\n",
       "2     bread  10 2019-12-31 00:00:00   초과\n",
       "3  icecream   2 2020-01-02 02:03:01   적정"
      ]
     },
     "execution_count": 61,
     "metadata": {},
     "output_type": "execute_result"
    }
   ],
   "source": [
    "#df['수량']<5\n",
    "df"
   ]
  },
  {
   "cell_type": "code",
   "execution_count": null,
   "id": "7cbb371a",
   "metadata": {},
   "outputs": [],
   "source": [
    "#'제품종류'열 추가\n",
    "#'제품' 열 값이 'juice' 또는 'milk' ->음료, 아니면 -> 간식"
   ]
  },
  {
   "cell_type": "code",
   "execution_count": 64,
   "id": "2d570bd2",
   "metadata": {},
   "outputs": [],
   "source": [
    "df['제품종류']=np.where((df['제품']=='juice') | (df['제품']=='milk'), '음료', '간식')"
   ]
  },
  {
   "cell_type": "code",
   "execution_count": 65,
   "id": "c8a9df26",
   "metadata": {},
   "outputs": [
    {
     "data": {
      "text/html": [
       "<div>\n",
       "<style scoped>\n",
       "    .dataframe tbody tr th:only-of-type {\n",
       "        vertical-align: middle;\n",
       "    }\n",
       "\n",
       "    .dataframe tbody tr th {\n",
       "        vertical-align: top;\n",
       "    }\n",
       "\n",
       "    .dataframe thead th {\n",
       "        text-align: right;\n",
       "    }\n",
       "</style>\n",
       "<table border=\"1\" class=\"dataframe\">\n",
       "  <thead>\n",
       "    <tr style=\"text-align: right;\">\n",
       "      <th></th>\n",
       "      <th>제품</th>\n",
       "      <th>수량</th>\n",
       "      <th>제조일시</th>\n",
       "      <th>초과여부</th>\n",
       "      <th>제품종류</th>\n",
       "    </tr>\n",
       "  </thead>\n",
       "  <tbody>\n",
       "    <tr>\n",
       "      <th>0</th>\n",
       "      <td>milk</td>\n",
       "      <td>3</td>\n",
       "      <td>2020-01-01 01:00:00</td>\n",
       "      <td>적정</td>\n",
       "      <td>음료</td>\n",
       "    </tr>\n",
       "    <tr>\n",
       "      <th>1</th>\n",
       "      <td>juice</td>\n",
       "      <td>5</td>\n",
       "      <td>2019-12-20 15:01:00</td>\n",
       "      <td>초과</td>\n",
       "      <td>음료</td>\n",
       "    </tr>\n",
       "    <tr>\n",
       "      <th>2</th>\n",
       "      <td>bread</td>\n",
       "      <td>10</td>\n",
       "      <td>2019-12-31 00:00:00</td>\n",
       "      <td>초과</td>\n",
       "      <td>간식</td>\n",
       "    </tr>\n",
       "    <tr>\n",
       "      <th>3</th>\n",
       "      <td>icecream</td>\n",
       "      <td>2</td>\n",
       "      <td>2020-01-02 02:03:01</td>\n",
       "      <td>적정</td>\n",
       "      <td>간식</td>\n",
       "    </tr>\n",
       "  </tbody>\n",
       "</table>\n",
       "</div>"
      ],
      "text/plain": [
       "         제품  수량                제조일시 초과여부 제품종류\n",
       "0      milk   3 2020-01-01 01:00:00   적정   음료\n",
       "1     juice   5 2019-12-20 15:01:00   초과   음료\n",
       "2     bread  10 2019-12-31 00:00:00   초과   간식\n",
       "3  icecream   2 2020-01-02 02:03:01   적정   간식"
      ]
     },
     "execution_count": 65,
     "metadata": {},
     "output_type": "execute_result"
    }
   ],
   "source": [
    "df"
   ]
  },
  {
   "cell_type": "code",
   "execution_count": 66,
   "id": "01169e13",
   "metadata": {},
   "outputs": [
    {
     "data": {
      "text/plain": [
       "array([[ 4.00357348e-01, -1.46777231e+00,  7.62335489e-01,\n",
       "        -3.87355826e-01],\n",
       "       [-8.26343309e-01,  3.14096322e-01,  6.75579448e-04,\n",
       "         8.12270130e-01],\n",
       "       [ 7.74050498e-01,  9.17772791e-02, -2.70364661e+00,\n",
       "         6.34177084e-01],\n",
       "       [-2.47140423e-01, -1.01365201e+00, -9.97148491e-02,\n",
       "        -1.65591442e+00]])"
      ]
     },
     "execution_count": 66,
     "metadata": {},
     "output_type": "execute_result"
    }
   ],
   "source": [
    "arr"
   ]
  },
  {
   "cell_type": "code",
   "execution_count": 67,
   "id": "60b1c086",
   "metadata": {},
   "outputs": [
    {
     "data": {
      "text/plain": [
       "-0.288237501647907"
      ]
     },
     "execution_count": 67,
     "metadata": {},
     "output_type": "execute_result"
    }
   ],
   "source": [
    "np.mean(arr)"
   ]
  },
  {
   "cell_type": "code",
   "execution_count": 68,
   "id": "455ec8d0",
   "metadata": {},
   "outputs": [
    {
     "data": {
      "text/plain": [
       "-0.288237501647907"
      ]
     },
     "execution_count": 68,
     "metadata": {},
     "output_type": "execute_result"
    }
   ],
   "source": [
    "arr.mean()"
   ]
  },
  {
   "cell_type": "code",
   "execution_count": 69,
   "id": "fe44877b",
   "metadata": {},
   "outputs": [
    {
     "data": {
      "text/plain": [
       "-4.611800026366512"
      ]
     },
     "execution_count": 69,
     "metadata": {},
     "output_type": "execute_result"
    }
   ],
   "source": [
    "np.sum(arr)"
   ]
  },
  {
   "cell_type": "code",
   "execution_count": 70,
   "id": "226337bf",
   "metadata": {},
   "outputs": [
    {
     "data": {
      "text/plain": [
       "-4.611800026366512"
      ]
     },
     "execution_count": 70,
     "metadata": {},
     "output_type": "execute_result"
    }
   ],
   "source": [
    "arr.sum()"
   ]
  },
  {
   "cell_type": "code",
   "execution_count": 71,
   "id": "734f9942",
   "metadata": {},
   "outputs": [
    {
     "data": {
      "text/plain": [
       "array([[ 4.00357348e-01, -1.46777231e+00,  7.62335489e-01,\n",
       "        -3.87355826e-01],\n",
       "       [-8.26343309e-01,  3.14096322e-01,  6.75579448e-04,\n",
       "         8.12270130e-01],\n",
       "       [ 7.74050498e-01,  9.17772791e-02, -2.70364661e+00,\n",
       "         6.34177084e-01],\n",
       "       [-2.47140423e-01, -1.01365201e+00, -9.97148491e-02,\n",
       "        -1.65591442e+00]])"
      ]
     },
     "execution_count": 71,
     "metadata": {},
     "output_type": "execute_result"
    }
   ],
   "source": [
    "arr"
   ]
  },
  {
   "cell_type": "code",
   "execution_count": 73,
   "id": "9220e913",
   "metadata": {},
   "outputs": [
    {
     "data": {
      "text/plain": [
       "array([10, 21, 33, 46, 60])"
      ]
     },
     "execution_count": 73,
     "metadata": {},
     "output_type": "execute_result"
    }
   ],
   "source": [
    "arr=np.arange(10,15)\n",
    "arr.cumsum()"
   ]
  },
  {
   "cell_type": "code",
   "execution_count": null,
   "id": "d7088420",
   "metadata": {},
   "outputs": [],
   "source": []
  },
  {
   "cell_type": "code",
   "execution_count": 74,
   "id": "e1c93dc8",
   "metadata": {},
   "outputs": [
    {
     "data": {
      "text/plain": [
       "array([[10, 11],\n",
       "       [12, 13],\n",
       "       [14, 15]])"
      ]
     },
     "execution_count": 74,
     "metadata": {},
     "output_type": "execute_result"
    }
   ],
   "source": [
    "arr=np.arange(10,16).reshape(3,2)\n",
    "arr"
   ]
  },
  {
   "cell_type": "code",
   "execution_count": 75,
   "id": "4cd82c39",
   "metadata": {},
   "outputs": [
    {
     "data": {
      "text/plain": [
       "array([[10, 11],\n",
       "       [22, 24],\n",
       "       [36, 39]])"
      ]
     },
     "execution_count": 75,
     "metadata": {},
     "output_type": "execute_result"
    }
   ],
   "source": [
    "arr.cumsum(axis=0)"
   ]
  },
  {
   "cell_type": "code",
   "execution_count": 76,
   "id": "ae676e3e",
   "metadata": {},
   "outputs": [
    {
     "data": {
      "text/plain": [
       "array([[10, 21],\n",
       "       [12, 25],\n",
       "       [14, 29]])"
      ]
     },
     "execution_count": 76,
     "metadata": {},
     "output_type": "execute_result"
    }
   ],
   "source": [
    "arr.cumsum(axis=1)"
   ]
  },
  {
   "cell_type": "code",
   "execution_count": 94,
   "id": "802fedf2",
   "metadata": {},
   "outputs": [
    {
     "data": {
      "text/plain": [
       "42"
      ]
     },
     "execution_count": 94,
     "metadata": {},
     "output_type": "execute_result"
    }
   ],
   "source": [
    "arr.sum()\n",
    "(arr>=13).sum()\n",
    "\n",
    "arr[arr>=13].sum()"
   ]
  },
  {
   "cell_type": "code",
   "execution_count": 86,
   "id": "5f643e1d",
   "metadata": {},
   "outputs": [],
   "source": [
    "a=[[10, 11], [12, 13], [14, 15]]\n",
    "a\n",
    "s=0\n",
    "for i in a:\n",
    "    for j in i:\n",
    "        if j>=13:\n",
    "            s+=j"
   ]
  },
  {
   "cell_type": "code",
   "execution_count": 87,
   "id": "48916370",
   "metadata": {},
   "outputs": [
    {
     "data": {
      "text/plain": [
       "42"
      ]
     },
     "execution_count": 87,
     "metadata": {},
     "output_type": "execute_result"
    }
   ],
   "source": [
    "s"
   ]
  },
  {
   "cell_type": "code",
   "execution_count": 98,
   "id": "3b58c07c",
   "metadata": {},
   "outputs": [
    {
     "data": {
      "text/plain": [
       "array([14, 15])"
      ]
     },
     "execution_count": 98,
     "metadata": {},
     "output_type": "execute_result"
    }
   ],
   "source": [
    "arr[1]\n",
    "arr[0]\n",
    "arr[2]"
   ]
  },
  {
   "cell_type": "code",
   "execution_count": 101,
   "id": "5285f8e8",
   "metadata": {},
   "outputs": [
    {
     "data": {
      "text/plain": [
       "array([[10, 11],\n",
       "       [12, 13],\n",
       "       [14, 15]])"
      ]
     },
     "execution_count": 101,
     "metadata": {},
     "output_type": "execute_result"
    }
   ],
   "source": [
    "arr"
   ]
  },
  {
   "cell_type": "code",
   "execution_count": 102,
   "id": "1ced6633",
   "metadata": {},
   "outputs": [],
   "source": [
    "brr=arr[[1,0,2]]"
   ]
  },
  {
   "cell_type": "code",
   "execution_count": 103,
   "id": "cdcdb158",
   "metadata": {},
   "outputs": [
    {
     "data": {
      "text/plain": [
       "array([[12, 13],\n",
       "       [10, 11],\n",
       "       [14, 15]])"
      ]
     },
     "execution_count": 103,
     "metadata": {},
     "output_type": "execute_result"
    }
   ],
   "source": [
    "brr"
   ]
  },
  {
   "cell_type": "code",
   "execution_count": 104,
   "id": "072711db",
   "metadata": {},
   "outputs": [],
   "source": [
    "brr.sort(axis=0)"
   ]
  },
  {
   "cell_type": "code",
   "execution_count": 105,
   "id": "0d81eeca",
   "metadata": {},
   "outputs": [
    {
     "data": {
      "text/plain": [
       "array([[10, 11],\n",
       "       [12, 13],\n",
       "       [14, 15]])"
      ]
     },
     "execution_count": 105,
     "metadata": {},
     "output_type": "execute_result"
    }
   ],
   "source": [
    "brr"
   ]
  },
  {
   "cell_type": "code",
   "execution_count": 106,
   "id": "de92659b",
   "metadata": {},
   "outputs": [],
   "source": [
    "brr.sort(axis=1)"
   ]
  },
  {
   "cell_type": "code",
   "execution_count": 107,
   "id": "284005e6",
   "metadata": {},
   "outputs": [
    {
     "data": {
      "text/plain": [
       "array([[10, 11],\n",
       "       [12, 13],\n",
       "       [14, 15]])"
      ]
     },
     "execution_count": 107,
     "metadata": {},
     "output_type": "execute_result"
    }
   ],
   "source": [
    "brr"
   ]
  },
  {
   "cell_type": "code",
   "execution_count": 109,
   "id": "53dd6e51",
   "metadata": {},
   "outputs": [
    {
     "data": {
      "text/plain": [
       "array(['Bob', 'Joe', 'Will'], dtype='<U4')"
      ]
     },
     "execution_count": 109,
     "metadata": {},
     "output_type": "execute_result"
    }
   ],
   "source": [
    "names = np.array([\"Bob\", \"Will\", \"Joe\", \"Bob\", \"Will\", \"Joe\", \"Joe\"])\n",
    "np.unique(names)"
   ]
  },
  {
   "cell_type": "code",
   "execution_count": 110,
   "id": "09b7846d",
   "metadata": {},
   "outputs": [
    {
     "data": {
      "text/plain": [
       "array([1, 2, 3, 4])"
      ]
     },
     "execution_count": 110,
     "metadata": {},
     "output_type": "execute_result"
    }
   ],
   "source": [
    "ints = np.array([3, 3, 3, 2, 2, 1, 1, 4, 4])\n",
    "np.unique(ints)"
   ]
  },
  {
   "cell_type": "code",
   "execution_count": 111,
   "id": "bfc7f3e7",
   "metadata": {},
   "outputs": [
    {
     "data": {
      "text/plain": [
       "{'Bob', 'Joe', 'Will'}"
      ]
     },
     "execution_count": 111,
     "metadata": {},
     "output_type": "execute_result"
    }
   ],
   "source": [
    "set(names)"
   ]
  },
  {
   "cell_type": "code",
   "execution_count": null,
   "id": "877f31ce",
   "metadata": {},
   "outputs": [],
   "source": []
  },
  {
   "cell_type": "code",
   "execution_count": 112,
   "id": "cac92e8a",
   "metadata": {},
   "outputs": [
    {
     "data": {
      "text/plain": [
       "array([0.40091029, 0.2945383 , 0.87033713])"
      ]
     },
     "execution_count": 112,
     "metadata": {},
     "output_type": "execute_result"
    }
   ],
   "source": [
    "np.random.rand(3)"
   ]
  },
  {
   "cell_type": "code",
   "execution_count": 113,
   "id": "f0475b7f",
   "metadata": {},
   "outputs": [],
   "source": [
    "np.random.seed(20230907)"
   ]
  },
  {
   "cell_type": "code",
   "execution_count": 114,
   "id": "3d9af63f",
   "metadata": {},
   "outputs": [
    {
     "data": {
      "text/plain": [
       "array([0.64824332, 0.27289441, 0.9663242 ])"
      ]
     },
     "execution_count": 114,
     "metadata": {},
     "output_type": "execute_result"
    }
   ],
   "source": [
    "np.random.rand(3)"
   ]
  },
  {
   "cell_type": "code",
   "execution_count": 115,
   "id": "ed76c32e",
   "metadata": {},
   "outputs": [
    {
     "data": {
      "text/plain": [
       "array([0, 1, 2, 3, 4, 5, 6, 7, 8, 9])"
      ]
     },
     "execution_count": 115,
     "metadata": {},
     "output_type": "execute_result"
    }
   ],
   "source": [
    "x=np.arange(10)\n",
    "x"
   ]
  },
  {
   "cell_type": "code",
   "execution_count": 126,
   "id": "661972b0",
   "metadata": {},
   "outputs": [],
   "source": [
    "np.random.seed(20230907)"
   ]
  },
  {
   "cell_type": "code",
   "execution_count": 129,
   "id": "21cce699",
   "metadata": {},
   "outputs": [],
   "source": [
    "np.random.shuffle(x)"
   ]
  },
  {
   "cell_type": "code",
   "execution_count": 130,
   "id": "069fbec1",
   "metadata": {},
   "outputs": [
    {
     "data": {
      "text/plain": [
       "array([9, 5, 1, 6, 7, 4, 8, 2, 0, 3])"
      ]
     },
     "execution_count": 130,
     "metadata": {},
     "output_type": "execute_result"
    }
   ],
   "source": [
    "x"
   ]
  },
  {
   "cell_type": "code",
   "execution_count": null,
   "id": "be7b6faa",
   "metadata": {},
   "outputs": [],
   "source": []
  },
  {
   "cell_type": "code",
   "execution_count": 141,
   "id": "d722be29",
   "metadata": {},
   "outputs": [
    {
     "data": {
      "text/plain": [
       "array([4, 4, 0])"
      ]
     },
     "execution_count": 141,
     "metadata": {},
     "output_type": "execute_result"
    }
   ],
   "source": [
    "np.random.choice(5, 3)"
   ]
  },
  {
   "cell_type": "code",
   "execution_count": 144,
   "id": "ef6545c0",
   "metadata": {},
   "outputs": [
    {
     "data": {
      "text/plain": [
       "array([4, 0, 2])"
      ]
     },
     "execution_count": 144,
     "metadata": {},
     "output_type": "execute_result"
    }
   ],
   "source": [
    "np.random.choice(5, 3, replace=False) #  비복원 추출"
   ]
  },
  {
   "cell_type": "code",
   "execution_count": 145,
   "id": "631d7b1b",
   "metadata": {},
   "outputs": [
    {
     "ename": "ValueError",
     "evalue": "Cannot take a larger sample than population when 'replace=False'",
     "output_type": "error",
     "traceback": [
      "\u001b[1;31m---------------------------------------------------------------------------\u001b[0m",
      "\u001b[1;31mValueError\u001b[0m                                Traceback (most recent call last)",
      "Cell \u001b[1;32mIn[145], line 1\u001b[0m\n\u001b[1;32m----> 1\u001b[0m np\u001b[38;5;241m.\u001b[39mrandom\u001b[38;5;241m.\u001b[39mchoice(\u001b[38;5;241m5\u001b[39m, \u001b[38;5;241m10\u001b[39m, replace\u001b[38;5;241m=\u001b[39m\u001b[38;5;28;01mFalse\u001b[39;00m)\n",
      "File \u001b[1;32mmtrand.pyx:984\u001b[0m, in \u001b[0;36mnumpy.random.mtrand.RandomState.choice\u001b[1;34m()\u001b[0m\n",
      "\u001b[1;31mValueError\u001b[0m: Cannot take a larger sample than population when 'replace=False'"
     ]
    }
   ],
   "source": [
    "#np.random.choice(5, 10, replace=False)"
   ]
  },
  {
   "cell_type": "code",
   "execution_count": 146,
   "id": "0f70f7ec",
   "metadata": {},
   "outputs": [
    {
     "data": {
      "text/plain": [
       "array([0, 1, 3, 4, 1, 1, 2, 0, 4, 3])"
      ]
     },
     "execution_count": 146,
     "metadata": {},
     "output_type": "execute_result"
    }
   ],
   "source": [
    "np.random.choice(5, 10, replace=True)"
   ]
  },
  {
   "cell_type": "code",
   "execution_count": null,
   "id": "828369b4",
   "metadata": {},
   "outputs": [],
   "source": []
  },
  {
   "cell_type": "code",
   "execution_count": 147,
   "id": "0ca0e8fb",
   "metadata": {},
   "outputs": [
    {
     "data": {
      "text/plain": [
       "array([36, 28, 22, 11,  5, 41])"
      ]
     },
     "execution_count": 147,
     "metadata": {},
     "output_type": "execute_result"
    }
   ],
   "source": [
    "np.random.choice(45, 6, replace=False)+1"
   ]
  },
  {
   "cell_type": "code",
   "execution_count": null,
   "id": "c2ae3106",
   "metadata": {},
   "outputs": [],
   "source": []
  },
  {
   "cell_type": "code",
   "execution_count": null,
   "id": "102915f2",
   "metadata": {},
   "outputs": [],
   "source": []
  },
  {
   "cell_type": "code",
   "execution_count": null,
   "id": "c4273b3d",
   "metadata": {},
   "outputs": [],
   "source": []
  },
  {
   "cell_type": "code",
   "execution_count": null,
   "id": "a828a4c4",
   "metadata": {},
   "outputs": [],
   "source": []
  },
  {
   "cell_type": "code",
   "execution_count": null,
   "id": "da0aac41",
   "metadata": {},
   "outputs": [],
   "source": []
  },
  {
   "cell_type": "code",
   "execution_count": null,
   "id": "d609a8a2",
   "metadata": {},
   "outputs": [],
   "source": []
  },
  {
   "cell_type": "code",
   "execution_count": null,
   "id": "263c4453",
   "metadata": {},
   "outputs": [],
   "source": []
  },
  {
   "cell_type": "code",
   "execution_count": null,
   "id": "078f2b55",
   "metadata": {},
   "outputs": [],
   "source": []
  },
  {
   "cell_type": "code",
   "execution_count": null,
   "id": "525ce8e7",
   "metadata": {},
   "outputs": [],
   "source": []
  }
 ],
 "metadata": {
  "kernelspec": {
   "display_name": "Python 3 (ipykernel)",
   "language": "python",
   "name": "python3"
  },
  "language_info": {
   "codemirror_mode": {
    "name": "ipython",
    "version": 3
   },
   "file_extension": ".py",
   "mimetype": "text/x-python",
   "name": "python",
   "nbconvert_exporter": "python",
   "pygments_lexer": "ipython3",
   "version": "3.11.4"
  }
 },
 "nbformat": 4,
 "nbformat_minor": 5
}
