{
 "cells": [
  {
   "cell_type": "code",
   "execution_count": null,
   "id": "390362e8",
   "metadata": {},
   "outputs": [],
   "source": [
    "1) 문장\n",
    "[[나는 사과를 좋아해], \n",
    " [나는 바나나를 좋아해], \n",
    " [나는 사과를 싫어해], \n",
    " [나는 바나나를 싫어해]]\n",
    "\n",
    "2) 문장 -> 단어\n",
    "[['나는', '사과를', '좋아해'], \n",
    " ['나는', '바나나를', '좋아해'], \n",
    " ['나는', '사과를', '싫어해'], \n",
    " ['나는', '바나나를', '싫어해']]\n",
    "\n",
    "3)  문장 -> 단어 -> 수치(벡터 공간 차원)\n",
    "ex) 3차원 벡터\n",
    "'나는' = [0.1, 0.2, 0.9]\n",
    "'사과를' = [0.3, 0.5, 0.1]\n",
    "'바나나를' = [0.3, 0.5, 0.2]\n",
    "'좋아해' = [0.7, 0.6, 0.5]\n",
    "'싫어해' = [0.5, 0.6, 0.7]\n",
    "\n",
    "4) 훈련 데이터(4,3,3) = (배치사이즈, 문장길이, 단어벡터차원)\n",
    "[[[0.1, 0.2, 0.9], [0.3, 0.5, 0.1], [0.7, 0.6, 0.5]],\n",
    " [[0.1, 0.2, 0.9], [0.3, 0.5, 0.2], [0.7, 0.6, 0.5]],\n",
    " [[0.1, 0.2, 0.9], [0.3, 0.5, 0.1], [0.5, 0.6, 0.7]],\n",
    " [[0.1, 0.2, 0.9], [0.3, 0.5, 0.2], [0.5, 0.6, 0.7]]]\n",
    "\n",
    "5)\n",
    "* batch size = 1\n",
    "1번째 배치 : 텐서의 크기? (1,3,3)\n",
    "[[[0.1, 0.2, 0.9], [0.3, 0.5, 0.1], [0.7, 0.6, 0.5]]]\n",
    "2번째 배치 : 텐서의 크기? (1,3,3)\n",
    "[[[0.1, 0.2, 0.9], [0.3, 0.5, 0.2], [0.7, 0.6, 0.5]]]\n",
    "\n",
    "* batch size = 2\n",
    "1번째 배치 : 텐서의 크기? (2,3,3)\n",
    "[[[0.1, 0.2, 0.9], [0.3, 0.5, 0.1], [0.7, 0.6, 0.5]],\n",
    " [[0.1, 0.2, 0.9], [0.3, 0.5, 0.2], [0.7, 0.6, 0.5]]]\n",
    "2번째 배치 : 텐서의 크기? (2,3,3)\n",
    "[[[0.1, 0.2, 0.9], [0.3, 0.5, 0.1], [0.5, 0.6, 0.7]],\n",
    " [[0.1, 0.2, 0.9], [0.3, 0.5, 0.2], [0.5, 0.6, 0.7]]]\n",
    "\n",
    "\n",
    "\n",
    "\n",
    "\n",
    "\n"
   ]
  },
  {
   "cell_type": "code",
   "execution_count": 1,
   "id": "19059a1e",
   "metadata": {},
   "outputs": [],
   "source": [
    "import numpy as np"
   ]
  },
  {
   "cell_type": "code",
   "execution_count": null,
   "id": "3b02210b",
   "metadata": {},
   "outputs": [],
   "source": [
    "#넘파이로 텐서를 만드는 방법"
   ]
  },
  {
   "cell_type": "code",
   "execution_count": 4,
   "id": "1e447e3f",
   "metadata": {},
   "outputs": [
    {
     "data": {
      "text/plain": [
       "(4,)"
      ]
     },
     "execution_count": 4,
     "metadata": {},
     "output_type": "execute_result"
    }
   ],
   "source": [
    "#1차원 텐서\n",
    "t=np.array([1,2,3,4])\n",
    "t\n",
    "t.ndim #몇 차원 텐서\n",
    "t.shape #텐서의 크기 (4,) 는 (1,4)를 의미함"
   ]
  },
  {
   "cell_type": "code",
   "execution_count": 5,
   "id": "74a58457",
   "metadata": {},
   "outputs": [],
   "source": [
    "t = np.array([[1., 2., 3.], [4., 5., 6.], [7., 8., 9.], [10., 11., 12.]])"
   ]
  },
  {
   "cell_type": "code",
   "execution_count": 8,
   "id": "230c3972",
   "metadata": {},
   "outputs": [
    {
     "data": {
      "text/plain": [
       "(4, 3)"
      ]
     },
     "execution_count": 8,
     "metadata": {},
     "output_type": "execute_result"
    }
   ],
   "source": [
    "t\n",
    "t.ndim #몇 차원 텐서\n",
    "t.shape #텐서의 크기 (4, 3)"
   ]
  },
  {
   "cell_type": "code",
   "execution_count": null,
   "id": "ea7c3b54",
   "metadata": {},
   "outputs": [],
   "source": [
    "#파이토치로 텐서를 만드는 방법"
   ]
  },
  {
   "cell_type": "code",
   "execution_count": null,
   "id": "d3133e55",
   "metadata": {},
   "outputs": [],
   "source": [
    "#pip install torch"
   ]
  },
  {
   "cell_type": "code",
   "execution_count": null,
   "id": "580152be",
   "metadata": {},
   "outputs": [],
   "source": [
    "# 클래스 : 설계도면, 붕어빵기계, 벽돌공장, ...\n",
    "# 객체 : 클래스로부터 생성되는 실체\n",
    "# 설계도면 -> 실제건물\n",
    "# 붕어빵기계 -> 붕어빵\n",
    "# 벽돌공장 -> 벽돌\n",
    "# 메서드 : 객체가 수행하는 동작(기능)\n",
    "# 속성(어트리뷰트) :  객체의 특성\n",
    "#객체지향(적) 프로그래밍 : \n",
    "# ex) 절차지향적 사례(과거 30년 전까지)\n",
    "# - 붕어빵기계로 붕어빵을 판매하던 시대가 지나가고\n",
    "# 잉어빵 시대가 도래,붕어빵기계는 못쓰게 됨->잉어빵 기계 새롭게 제작\n",
    "# ex) 객체지향적 사례(현재~미래)\n",
    "# - 붕어빵기계로 붕어빵을 판매하던 시대가 지나가고\n",
    "# 잉어빵 시대가 도래,붕어빵기계를 재사용(붕어빵기계의 메서드, 속성 중에서\n",
    "#     그대로 사용할 것은 사용하고, 변경할 것은 변경, 버릴 것은 버리고)"
   ]
  },
  {
   "cell_type": "code",
   "execution_count": 9,
   "id": "0c6c5184",
   "metadata": {},
   "outputs": [],
   "source": [
    "import torch"
   ]
  },
  {
   "cell_type": "code",
   "execution_count": 10,
   "id": "7dd2bce0",
   "metadata": {},
   "outputs": [
    {
     "data": {
      "text/plain": [
       "tensor([0., 1., 2., 3., 4., 5., 6.])"
      ]
     },
     "execution_count": 10,
     "metadata": {},
     "output_type": "execute_result"
    }
   ],
   "source": [
    "t=torch.FloatTensor([0., 1., 2., 3., 4., 5., 6.])\n",
    "t\n",
    "#클래스(FloatTensor) : 대문자로 시작"
   ]
  },
  {
   "cell_type": "code",
   "execution_count": 14,
   "id": "7822dd6d",
   "metadata": {},
   "outputs": [
    {
     "data": {
      "text/plain": [
       "torch.Size([7])"
      ]
     },
     "execution_count": 14,
     "metadata": {},
     "output_type": "execute_result"
    }
   ],
   "source": [
    "t.dim()\n",
    "t.shape  #속성\n",
    "t.size() #함수(메서드), 내차.달린다()  자동차(클래스)\n",
    "\n",
    "#'자동차' 클래스(class)로부터 파생(생성)된 실체(객체)가 '내차'"
   ]
  },
  {
   "cell_type": "code",
   "execution_count": null,
   "id": "91cbe0c3",
   "metadata": {},
   "outputs": [],
   "source": [
    "\"\"\"\n",
    "class FloatTensor:\n",
    "    속성(특성)\n",
    "    shape=len([0., 1., 2., 3., 4., 5., 6.])\n",
    "    함수(동작)\n",
    "    size():\n",
    "        return len([0., 1., 2., 3., 4., 5., 6.])\n",
    "    ...\n",
    "\"\"\""
   ]
  },
  {
   "cell_type": "code",
   "execution_count": 15,
   "id": "965173c6",
   "metadata": {},
   "outputs": [
    {
     "data": {
      "text/plain": [
       "tensor([0., 1., 2., 3., 4., 5., 6.])"
      ]
     },
     "execution_count": 15,
     "metadata": {},
     "output_type": "execute_result"
    }
   ],
   "source": [
    "t"
   ]
  },
  {
   "cell_type": "code",
   "execution_count": 16,
   "id": "0aa7d59a",
   "metadata": {},
   "outputs": [
    {
     "data": {
      "text/plain": [
       "tensor(3.)"
      ]
     },
     "execution_count": 16,
     "metadata": {},
     "output_type": "execute_result"
    }
   ],
   "source": [
    "t[3]"
   ]
  },
  {
   "cell_type": "code",
   "execution_count": 17,
   "id": "9dd4543b",
   "metadata": {},
   "outputs": [
    {
     "data": {
      "text/plain": [
       "tensor([2., 3., 4.])"
      ]
     },
     "execution_count": 17,
     "metadata": {},
     "output_type": "execute_result"
    }
   ],
   "source": [
    "t[2:5]"
   ]
  },
  {
   "cell_type": "code",
   "execution_count": 18,
   "id": "54889401",
   "metadata": {},
   "outputs": [
    {
     "data": {
      "text/plain": [
       "tensor([0., 1., 2.])"
      ]
     },
     "execution_count": 18,
     "metadata": {},
     "output_type": "execute_result"
    }
   ],
   "source": [
    "t[:3]"
   ]
  },
  {
   "cell_type": "code",
   "execution_count": 19,
   "id": "b070dc6c",
   "metadata": {},
   "outputs": [],
   "source": [
    "t = torch.FloatTensor([[1., 2., 3.],\n",
    "                       [4., 5., 6.],\n",
    "                       [7., 8., 9.],\n",
    "                       [10., 11., 12.]\n",
    "                      ])"
   ]
  },
  {
   "cell_type": "code",
   "execution_count": 20,
   "id": "42a252f2",
   "metadata": {},
   "outputs": [
    {
     "data": {
      "text/plain": [
       "tensor([[ 1.,  2.,  3.],\n",
       "        [ 4.,  5.,  6.],\n",
       "        [ 7.,  8.,  9.],\n",
       "        [10., 11., 12.]])"
      ]
     },
     "execution_count": 20,
     "metadata": {},
     "output_type": "execute_result"
    }
   ],
   "source": [
    "t"
   ]
  },
  {
   "cell_type": "code",
   "execution_count": 23,
   "id": "67563889",
   "metadata": {},
   "outputs": [
    {
     "data": {
      "text/plain": [
       "tensor([ 2.,  5.,  8., 11.])"
      ]
     },
     "execution_count": 23,
     "metadata": {},
     "output_type": "execute_result"
    }
   ],
   "source": [
    "t.dim()\n",
    "t.size()\n",
    "t[:,1]"
   ]
  },
  {
   "cell_type": "code",
   "execution_count": 24,
   "id": "028f6ff0",
   "metadata": {},
   "outputs": [
    {
     "data": {
      "text/plain": [
       "torch.Size([4])"
      ]
     },
     "execution_count": 24,
     "metadata": {},
     "output_type": "execute_result"
    }
   ],
   "source": [
    "t[:,1].size()"
   ]
  },
  {
   "cell_type": "code",
   "execution_count": null,
   "id": "3392eb5e",
   "metadata": {},
   "outputs": [],
   "source": [
    "행렬 연산(덧셈,뺄셈) : 두 행렬의 크기가 같아야 함\n",
    "행렬 연산(곱셈)   : 두 행렬의 마지막 차원과 첫번째 차원이 일치"
   ]
  },
  {
   "cell_type": "code",
   "execution_count": 25,
   "id": "628c0a26",
   "metadata": {},
   "outputs": [],
   "source": [
    "t1=torch.FloatTensor([[1,1]])\n",
    "t2=torch.FloatTensor([[2,2]])"
   ]
  },
  {
   "cell_type": "code",
   "execution_count": 27,
   "id": "a3863c55",
   "metadata": {},
   "outputs": [
    {
     "data": {
      "text/plain": [
       "tensor([[3., 3.]])"
      ]
     },
     "execution_count": 27,
     "metadata": {},
     "output_type": "execute_result"
    }
   ],
   "source": [
    "t1.shape\n",
    "t1+t2"
   ]
  },
  {
   "cell_type": "code",
   "execution_count": 28,
   "id": "badf630e",
   "metadata": {},
   "outputs": [],
   "source": [
    "t3=torch.FloatTensor([[1,1]]) #(1,2)\n",
    "t4=torch.FloatTensor([3]) #자동 변경(브로드캐스팅) : (1,) -> (1,2)"
   ]
  },
  {
   "cell_type": "code",
   "execution_count": 29,
   "id": "cb37540a",
   "metadata": {},
   "outputs": [
    {
     "data": {
      "text/plain": [
       "tensor([[4., 4.]])"
      ]
     },
     "execution_count": 29,
     "metadata": {},
     "output_type": "execute_result"
    }
   ],
   "source": [
    "t3+t4"
   ]
  },
  {
   "cell_type": "code",
   "execution_count": 30,
   "id": "2b9ad326",
   "metadata": {},
   "outputs": [],
   "source": [
    "#2X1 + 1X2\n",
    "t5=torch.FloatTensor([[1,3]]) #[[1,3], \n",
    "                              #[1,3]]\n",
    "t6=torch.FloatTensor([[1],[3]])\n",
    "#[[1],    [[1],[1],\n",
    "#[3]]     [3],[3]]"
   ]
  },
  {
   "cell_type": "code",
   "execution_count": 31,
   "id": "715157f5",
   "metadata": {},
   "outputs": [
    {
     "data": {
      "text/plain": [
       "torch.Size([1, 2])"
      ]
     },
     "execution_count": 31,
     "metadata": {},
     "output_type": "execute_result"
    }
   ],
   "source": [
    "t5.shape"
   ]
  },
  {
   "cell_type": "code",
   "execution_count": 32,
   "id": "a0137606",
   "metadata": {},
   "outputs": [
    {
     "data": {
      "text/plain": [
       "torch.Size([2, 1])"
      ]
     },
     "execution_count": 32,
     "metadata": {},
     "output_type": "execute_result"
    }
   ],
   "source": [
    "t6.shape"
   ]
  },
  {
   "cell_type": "code",
   "execution_count": 33,
   "id": "acbd1eef",
   "metadata": {},
   "outputs": [
    {
     "data": {
      "text/plain": [
       "tensor([[2., 4.],\n",
       "        [4., 6.]])"
      ]
     },
     "execution_count": 33,
     "metadata": {},
     "output_type": "execute_result"
    }
   ],
   "source": [
    "t5+t6"
   ]
  },
  {
   "cell_type": "code",
   "execution_count": 34,
   "id": "ea4f379c",
   "metadata": {},
   "outputs": [],
   "source": [
    "m1 = torch.FloatTensor([[1, 2], [3, 4]])\n",
    "m2 = torch.FloatTensor([[1], [2]])"
   ]
  },
  {
   "cell_type": "code",
   "execution_count": 35,
   "id": "102216ef",
   "metadata": {},
   "outputs": [
    {
     "data": {
      "text/plain": [
       "torch.Size([2, 2])"
      ]
     },
     "execution_count": 35,
     "metadata": {},
     "output_type": "execute_result"
    }
   ],
   "source": [
    "m1.shape"
   ]
  },
  {
   "cell_type": "code",
   "execution_count": 36,
   "id": "237ce10c",
   "metadata": {},
   "outputs": [
    {
     "data": {
      "text/plain": [
       "torch.Size([2, 1])"
      ]
     },
     "execution_count": 36,
     "metadata": {},
     "output_type": "execute_result"
    }
   ],
   "source": [
    "m2.shape"
   ]
  },
  {
   "cell_type": "code",
   "execution_count": 37,
   "id": "f458270c",
   "metadata": {},
   "outputs": [
    {
     "data": {
      "text/plain": [
       "tensor([[ 5.],\n",
       "        [11.]])"
      ]
     },
     "execution_count": 37,
     "metadata": {},
     "output_type": "execute_result"
    }
   ],
   "source": [
    "m1.matmul(m2)"
   ]
  },
  {
   "cell_type": "code",
   "execution_count": 38,
   "id": "8f689f3d",
   "metadata": {},
   "outputs": [
    {
     "data": {
      "text/plain": [
       "tensor([[1., 2.],\n",
       "        [6., 8.]])"
      ]
     },
     "execution_count": 38,
     "metadata": {},
     "output_type": "execute_result"
    }
   ],
   "source": [
    "m1*m2"
   ]
  },
  {
   "cell_type": "code",
   "execution_count": 41,
   "id": "0a492d6f",
   "metadata": {},
   "outputs": [
    {
     "data": {
      "text/plain": [
       "tensor([[1., 2.],\n",
       "        [3., 4.]])"
      ]
     },
     "execution_count": 41,
     "metadata": {},
     "output_type": "execute_result"
    }
   ],
   "source": [
    "t=torch.FloatTensor([[1,2],[3,4]])\n",
    "t"
   ]
  },
  {
   "cell_type": "code",
   "execution_count": 42,
   "id": "678bdf91",
   "metadata": {},
   "outputs": [
    {
     "data": {
      "text/plain": [
       "tensor(2.5000)"
      ]
     },
     "execution_count": 42,
     "metadata": {},
     "output_type": "execute_result"
    }
   ],
   "source": [
    "t.mean()"
   ]
  },
  {
   "cell_type": "code",
   "execution_count": 43,
   "id": "5d54fba9",
   "metadata": {},
   "outputs": [
    {
     "data": {
      "text/plain": [
       "tensor([2., 3.])"
      ]
     },
     "execution_count": 43,
     "metadata": {},
     "output_type": "execute_result"
    }
   ],
   "source": [
    "t.mean(dim=0) #dim=0은 첫번째 차원, 행렬에서는 행, 행을 제거 -> 열만 남음"
   ]
  },
  {
   "cell_type": "code",
   "execution_count": 44,
   "id": "3ff90059",
   "metadata": {},
   "outputs": [
    {
     "data": {
      "text/plain": [
       "tensor([1.5000, 3.5000])"
      ]
     },
     "execution_count": 44,
     "metadata": {},
     "output_type": "execute_result"
    }
   ],
   "source": [
    "t.mean(dim=1) #dim=1은 두번째 차원, 행렬에서는 열, 열을 제거 -> 행만 남음"
   ]
  },
  {
   "cell_type": "code",
   "execution_count": null,
   "id": "db98d182",
   "metadata": {},
   "outputs": [],
   "source": []
  },
  {
   "cell_type": "code",
   "execution_count": 45,
   "id": "b4541fc0",
   "metadata": {},
   "outputs": [],
   "source": [
    "t=torch.FloatTensor([[1,2],[3,4]])"
   ]
  },
  {
   "cell_type": "code",
   "execution_count": 46,
   "id": "4667a221",
   "metadata": {},
   "outputs": [
    {
     "data": {
      "text/plain": [
       "tensor(10.)"
      ]
     },
     "execution_count": 46,
     "metadata": {},
     "output_type": "execute_result"
    }
   ],
   "source": [
    "t.sum()"
   ]
  },
  {
   "cell_type": "code",
   "execution_count": 47,
   "id": "e837beda",
   "metadata": {},
   "outputs": [
    {
     "data": {
      "text/plain": [
       "tensor([4., 6.])"
      ]
     },
     "execution_count": 47,
     "metadata": {},
     "output_type": "execute_result"
    }
   ],
   "source": [
    "t.sum(dim=0)"
   ]
  },
  {
   "cell_type": "code",
   "execution_count": 48,
   "id": "3c840c16",
   "metadata": {},
   "outputs": [
    {
     "data": {
      "text/plain": [
       "tensor([3., 7.])"
      ]
     },
     "execution_count": 48,
     "metadata": {},
     "output_type": "execute_result"
    }
   ],
   "source": [
    "t.sum(dim=1)"
   ]
  },
  {
   "cell_type": "code",
   "execution_count": 49,
   "id": "72eb3356",
   "metadata": {},
   "outputs": [
    {
     "data": {
      "text/plain": [
       "tensor([3., 7.])"
      ]
     },
     "execution_count": 49,
     "metadata": {},
     "output_type": "execute_result"
    }
   ],
   "source": [
    "t.sum(dim=-1) #마지막 차원 제거(열 제거)"
   ]
  },
  {
   "cell_type": "code",
   "execution_count": 52,
   "id": "9890efe5",
   "metadata": {},
   "outputs": [
    {
     "data": {
      "text/plain": [
       "tensor([[1., 2.],\n",
       "        [3., 4.]])"
      ]
     },
     "execution_count": 52,
     "metadata": {},
     "output_type": "execute_result"
    }
   ],
   "source": [
    "t"
   ]
  },
  {
   "cell_type": "code",
   "execution_count": 50,
   "id": "98a3c1b6",
   "metadata": {},
   "outputs": [
    {
     "data": {
      "text/plain": [
       "tensor(4.)"
      ]
     },
     "execution_count": 50,
     "metadata": {},
     "output_type": "execute_result"
    }
   ],
   "source": [
    "t.max()"
   ]
  },
  {
   "cell_type": "code",
   "execution_count": 51,
   "id": "2f90a8c6",
   "metadata": {},
   "outputs": [
    {
     "data": {
      "text/plain": [
       "torch.return_types.max(\n",
       "values=tensor([3., 4.]),\n",
       "indices=tensor([1, 1]))"
      ]
     },
     "execution_count": 51,
     "metadata": {},
     "output_type": "execute_result"
    }
   ],
   "source": [
    "t.max(dim=0) #행 제거, indices(argmax) : 최대값의 인덱스"
   ]
  },
  {
   "cell_type": "code",
   "execution_count": 2,
   "id": "b72d1b55",
   "metadata": {},
   "outputs": [],
   "source": [
    "import numpy as np"
   ]
  },
  {
   "cell_type": "code",
   "execution_count": 4,
   "id": "d9b792a8",
   "metadata": {},
   "outputs": [],
   "source": [
    "import torch"
   ]
  },
  {
   "cell_type": "code",
   "execution_count": 5,
   "id": "a3bb08b4",
   "metadata": {},
   "outputs": [],
   "source": [
    "t = np.array([[[0, 1, 2],\n",
    "               [3, 4, 5]],\n",
    "              [[6, 7, 8],\n",
    "               [9, 10, 11]]])\n",
    "ft = torch.FloatTensor(t)"
   ]
  },
  {
   "cell_type": "code",
   "execution_count": 6,
   "id": "576bea18",
   "metadata": {},
   "outputs": [
    {
     "data": {
      "text/plain": [
       "torch.Size([2, 2, 3])"
      ]
     },
     "execution_count": 6,
     "metadata": {},
     "output_type": "execute_result"
    }
   ],
   "source": [
    "ft.shape"
   ]
  },
  {
   "cell_type": "code",
   "execution_count": null,
   "id": "cc10ef0f",
   "metadata": {},
   "outputs": [],
   "source": []
  },
  {
   "cell_type": "code",
   "execution_count": 7,
   "id": "4fee84f3",
   "metadata": {},
   "outputs": [
    {
     "data": {
      "text/plain": [
       "tensor([[ 0.,  1.,  2.],\n",
       "        [ 3.,  4.,  5.],\n",
       "        [ 6.,  7.,  8.],\n",
       "        [ 9., 10., 11.]])"
      ]
     },
     "execution_count": 7,
     "metadata": {},
     "output_type": "execute_result"
    }
   ],
   "source": [
    "ft.view([-1,3]) #view:텐서 크기 변경, \n",
    "#(-1,3)은 (?,3)로 표기하기도 함\n",
    "#[2, 2, 3] 3차원 텐서를 2차원 텐서로 변경 (-1,3)\n",
    "#12개 요소 구성된 3차원 텐서 -> (행:?, 열:3) => 행:4 =>(4,3)"
   ]
  },
  {
   "cell_type": "code",
   "execution_count": 8,
   "id": "5330b5ec",
   "metadata": {},
   "outputs": [
    {
     "data": {
      "text/plain": [
       "tensor([[ 0.,  1.,  2.],\n",
       "        [ 3.,  4.,  5.],\n",
       "        [ 6.,  7.,  8.],\n",
       "        [ 9., 10., 11.]])"
      ]
     },
     "execution_count": 8,
     "metadata": {},
     "output_type": "execute_result"
    }
   ],
   "source": [
    "ft.view([4,3])"
   ]
  },
  {
   "cell_type": "code",
   "execution_count": 10,
   "id": "a6bef77d",
   "metadata": {},
   "outputs": [
    {
     "data": {
      "text/plain": [
       "tensor([[ 0.,  1.,  2.],\n",
       "        [ 3.,  4.,  5.],\n",
       "        [ 6.,  7.,  8.],\n",
       "        [ 9., 10., 11.]])"
      ]
     },
     "execution_count": 10,
     "metadata": {},
     "output_type": "execute_result"
    }
   ],
   "source": [
    "#ft.view([-1,5]) 에러\n",
    "ft.view([4,-1]) "
   ]
  },
  {
   "cell_type": "code",
   "execution_count": 12,
   "id": "3f2f7882",
   "metadata": {},
   "outputs": [
    {
     "data": {
      "text/plain": [
       "tensor([[[ 0.,  1.,  2.]],\n",
       "\n",
       "        [[ 3.,  4.,  5.]],\n",
       "\n",
       "        [[ 6.,  7.,  8.]],\n",
       "\n",
       "        [[ 9., 10., 11.]]])"
      ]
     },
     "execution_count": 12,
     "metadata": {},
     "output_type": "execute_result"
    }
   ],
   "source": [
    "ft #(2,2,3) -> (?,1,3)\n",
    "ft.view([-1,1,3])"
   ]
  },
  {
   "cell_type": "code",
   "execution_count": 13,
   "id": "33f6479f",
   "metadata": {},
   "outputs": [
    {
     "data": {
      "text/plain": [
       "tensor([[0.],\n",
       "        [1.],\n",
       "        [2.]])"
      ]
     },
     "execution_count": 13,
     "metadata": {},
     "output_type": "execute_result"
    }
   ],
   "source": [
    "ft=torch.FloatTensor([[0],[1],[2]])\n",
    "ft #3*1 행렬"
   ]
  },
  {
   "cell_type": "code",
   "execution_count": 14,
   "id": "f2370a5c",
   "metadata": {},
   "outputs": [
    {
     "data": {
      "text/plain": [
       "tensor([0., 1., 2.])"
      ]
     },
     "execution_count": 14,
     "metadata": {},
     "output_type": "execute_result"
    }
   ],
   "source": [
    "ft.squeeze() #크기가 1인 차원을 제거"
   ]
  },
  {
   "cell_type": "code",
   "execution_count": 20,
   "id": "d29f8801",
   "metadata": {},
   "outputs": [
    {
     "data": {
      "text/plain": [
       "tensor([[0., 1.],\n",
       "        [1., 2.],\n",
       "        [2., 3.]])"
      ]
     },
     "execution_count": 20,
     "metadata": {},
     "output_type": "execute_result"
    }
   ],
   "source": [
    "ft2=torch.FloatTensor([[0,1],[1,2],[2,3]])\n",
    "ft2"
   ]
  },
  {
   "cell_type": "code",
   "execution_count": 21,
   "id": "876bd837",
   "metadata": {},
   "outputs": [
    {
     "data": {
      "text/plain": [
       "tensor([[0., 1.],\n",
       "        [1., 2.],\n",
       "        [2., 3.]])"
      ]
     },
     "execution_count": 21,
     "metadata": {},
     "output_type": "execute_result"
    }
   ],
   "source": [
    "ft2.squeeze() #행 크기:3, 열 크기 : 2 => 크기가 1인 차원이 없으므로 제거작업 수행하지 않음"
   ]
  },
  {
   "cell_type": "code",
   "execution_count": 22,
   "id": "0e5a422c",
   "metadata": {},
   "outputs": [],
   "source": [
    "#unsqueeze : 크기가 1인 차원을 특정 위치에 추가"
   ]
  },
  {
   "cell_type": "code",
   "execution_count": 23,
   "id": "60a8e45b",
   "metadata": {},
   "outputs": [
    {
     "data": {
      "text/plain": [
       "tensor([0., 1., 2.])"
      ]
     },
     "execution_count": 23,
     "metadata": {},
     "output_type": "execute_result"
    }
   ],
   "source": [
    "ft = torch.Tensor([0, 1, 2])\n",
    "ft"
   ]
  },
  {
   "cell_type": "code",
   "execution_count": 24,
   "id": "d441f08b",
   "metadata": {},
   "outputs": [
    {
     "data": {
      "text/plain": [
       "tensor([[0., 1., 2.]])"
      ]
     },
     "execution_count": 24,
     "metadata": {},
     "output_type": "execute_result"
    }
   ],
   "source": [
    "ft.unsqueeze(0) #(1,3)"
   ]
  },
  {
   "cell_type": "code",
   "execution_count": 25,
   "id": "b46f174b",
   "metadata": {},
   "outputs": [
    {
     "data": {
      "text/plain": [
       "tensor([[0.],\n",
       "        [1.],\n",
       "        [2.]])"
      ]
     },
     "execution_count": 25,
     "metadata": {},
     "output_type": "execute_result"
    }
   ],
   "source": [
    "ft.unsqueeze(1) #(3,1)"
   ]
  },
  {
   "cell_type": "code",
   "execution_count": 26,
   "id": "c24a3118",
   "metadata": {},
   "outputs": [
    {
     "name": "stdout",
     "output_type": "stream",
     "text": [
      "tensor([1, 2, 3, 4])\n"
     ]
    }
   ],
   "source": [
    "lt = torch.LongTensor([1, 2, 3, 4])\n",
    "print(lt)"
   ]
  },
  {
   "cell_type": "code",
   "execution_count": 27,
   "id": "8e48af42",
   "metadata": {},
   "outputs": [
    {
     "name": "stdout",
     "output_type": "stream",
     "text": [
      "tensor([1, 2, 3, 4])\n"
     ]
    }
   ],
   "source": [
    "lt = torch.LongTensor([1., 2, 3, 4])\n",
    "print(lt)"
   ]
  },
  {
   "cell_type": "code",
   "execution_count": 28,
   "id": "5f53dbeb",
   "metadata": {},
   "outputs": [
    {
     "data": {
      "text/plain": [
       "tensor([1., 2., 3., 4.])"
      ]
     },
     "execution_count": 28,
     "metadata": {},
     "output_type": "execute_result"
    }
   ],
   "source": [
    "lt.float()"
   ]
  },
  {
   "cell_type": "code",
   "execution_count": 34,
   "id": "290fcb60",
   "metadata": {},
   "outputs": [
    {
     "ename": "RuntimeError",
     "evalue": "Overflow when unpacking long",
     "output_type": "error",
     "traceback": [
      "\u001b[1;31m---------------------------------------------------------------------------\u001b[0m",
      "\u001b[1;31mRuntimeError\u001b[0m                              Traceback (most recent call last)",
      "Cell \u001b[1;32mIn[34], line 1\u001b[0m\n\u001b[1;32m----> 1\u001b[0m bt2 \u001b[38;5;241m=\u001b[39m torch\u001b[38;5;241m.\u001b[39mByteTensor([\u001b[38;5;241m12345678901234567890\u001b[39m, \u001b[38;5;28;01mFalse\u001b[39;00m, \u001b[38;5;28;01mTrue\u001b[39;00m, \u001b[38;5;28;01mFalse\u001b[39;00m])\n\u001b[0;32m      2\u001b[0m \u001b[38;5;66;03m#print()\u001b[39;00m\n\u001b[0;32m      3\u001b[0m \u001b[38;5;28mprint\u001b[39m(bt2)\n",
      "\u001b[1;31mRuntimeError\u001b[0m: Overflow when unpacking long"
     ]
    }
   ],
   "source": [
    "bt2 = torch.ByteTensor([12345678901234567890, False, True, False])\n",
    "#print()\n",
    "print(bt2)"
   ]
  },
  {
   "cell_type": "code",
   "execution_count": 37,
   "id": "7c239017",
   "metadata": {},
   "outputs": [
    {
     "name": "stdout",
     "output_type": "stream",
     "text": [
      "tensor([12345678901234567,                 0,                 1,\n",
      "                        0])\n"
     ]
    }
   ],
   "source": [
    "bt2 = torch.LongTensor([12345678901234567, False, True, False])\n",
    "#print()\n",
    "print(bt2)"
   ]
  },
  {
   "cell_type": "code",
   "execution_count": 38,
   "id": "1ce64e03",
   "metadata": {},
   "outputs": [
    {
     "name": "stdout",
     "output_type": "stream",
     "text": [
      "tensor([1.2346e+16, 0.0000e+00, 1.0000e+00, 0.0000e+00])\n"
     ]
    }
   ],
   "source": [
    "bt2 = torch.FloatTensor([12345678901234567, False, True, False])\n",
    "#print()\n",
    "print(bt2)"
   ]
  },
  {
   "cell_type": "code",
   "execution_count": 32,
   "id": "ce7f074a",
   "metadata": {},
   "outputs": [
    {
     "data": {
      "text/plain": [
       "tensor([1, 0, 1, 0])"
      ]
     },
     "execution_count": 32,
     "metadata": {},
     "output_type": "execute_result"
    }
   ],
   "source": [
    "bt.long()"
   ]
  },
  {
   "cell_type": "code",
   "execution_count": null,
   "id": "142fe591",
   "metadata": {},
   "outputs": [],
   "source": []
  },
  {
   "cell_type": "code",
   "execution_count": 39,
   "id": "2f108d8d",
   "metadata": {},
   "outputs": [],
   "source": [
    "x = torch.FloatTensor([[1, 2], [3, 4]])\n",
    "y = torch.FloatTensor([[5, 6], [7, 8]])"
   ]
  },
  {
   "cell_type": "code",
   "execution_count": 40,
   "id": "4e665df0",
   "metadata": {},
   "outputs": [
    {
     "data": {
      "text/plain": [
       "tensor([[1., 2.],\n",
       "        [3., 4.]])"
      ]
     },
     "execution_count": 40,
     "metadata": {},
     "output_type": "execute_result"
    }
   ],
   "source": [
    "x"
   ]
  },
  {
   "cell_type": "code",
   "execution_count": 41,
   "id": "483b67b2",
   "metadata": {},
   "outputs": [
    {
     "data": {
      "text/plain": [
       "tensor([[5., 6.],\n",
       "        [7., 8.]])"
      ]
     },
     "execution_count": 41,
     "metadata": {},
     "output_type": "execute_result"
    }
   ],
   "source": [
    "y"
   ]
  },
  {
   "cell_type": "code",
   "execution_count": 42,
   "id": "57618e8a",
   "metadata": {},
   "outputs": [
    {
     "data": {
      "text/plain": [
       "tensor([[1., 2.],\n",
       "        [3., 4.],\n",
       "        [5., 6.],\n",
       "        [7., 8.]])"
      ]
     },
     "execution_count": 42,
     "metadata": {},
     "output_type": "execute_result"
    }
   ],
   "source": [
    "torch.cat([x,y])"
   ]
  },
  {
   "cell_type": "code",
   "execution_count": 43,
   "id": "41493f04",
   "metadata": {},
   "outputs": [
    {
     "data": {
      "text/plain": [
       "tensor([[1., 2.],\n",
       "        [3., 4.],\n",
       "        [5., 6.],\n",
       "        [7., 8.]])"
      ]
     },
     "execution_count": 43,
     "metadata": {},
     "output_type": "execute_result"
    }
   ],
   "source": [
    "torch.cat([x,y], dim=0) #첫번째 차원을 기준으로 연결됨"
   ]
  },
  {
   "cell_type": "code",
   "execution_count": 44,
   "id": "f7f76fb3",
   "metadata": {},
   "outputs": [
    {
     "data": {
      "text/plain": [
       "tensor([[1., 2., 5., 6.],\n",
       "        [3., 4., 7., 8.]])"
      ]
     },
     "execution_count": 44,
     "metadata": {},
     "output_type": "execute_result"
    }
   ],
   "source": [
    "torch.cat([x,y], dim=1) #두번째 차원을 기준으로 연결됨"
   ]
  },
  {
   "cell_type": "code",
   "execution_count": 45,
   "id": "25c0c887",
   "metadata": {},
   "outputs": [],
   "source": [
    "x = torch.FloatTensor([1, 4])\n",
    "y = torch.FloatTensor([2, 5])\n",
    "z = torch.FloatTensor([3, 6])"
   ]
  },
  {
   "cell_type": "code",
   "execution_count": 48,
   "id": "87e7390b",
   "metadata": {},
   "outputs": [
    {
     "data": {
      "text/plain": [
       "tensor([3., 6.])"
      ]
     },
     "execution_count": 48,
     "metadata": {},
     "output_type": "execute_result"
    }
   ],
   "source": [
    "z"
   ]
  },
  {
   "cell_type": "code",
   "execution_count": 49,
   "id": "ec8d7c4c",
   "metadata": {},
   "outputs": [
    {
     "data": {
      "text/plain": [
       "tensor([[1., 4.],\n",
       "        [3., 6.],\n",
       "        [2., 5.]])"
      ]
     },
     "execution_count": 49,
     "metadata": {},
     "output_type": "execute_result"
    }
   ],
   "source": [
    "torch.stack([x, z, y])"
   ]
  },
  {
   "cell_type": "code",
   "execution_count": 50,
   "id": "1b33983b",
   "metadata": {},
   "outputs": [
    {
     "name": "stdout",
     "output_type": "stream",
     "text": [
      "tensor([[0., 1., 2.],\n",
      "        [2., 1., 0.]])\n"
     ]
    }
   ],
   "source": [
    "x = torch.FloatTensor([[0, 1, 2], [2, 1, 0]])\n",
    "print(x)"
   ]
  },
  {
   "cell_type": "code",
   "execution_count": 52,
   "id": "4beda06d",
   "metadata": {},
   "outputs": [
    {
     "data": {
      "text/plain": [
       "tensor([[0., 0., 0.],\n",
       "        [0., 0., 0.]])"
      ]
     },
     "execution_count": 52,
     "metadata": {},
     "output_type": "execute_result"
    }
   ],
   "source": [
    "#텐서의 크기는 그대로 두되, 새롭게 0또는 1로 값을 채우는 것\n",
    "torch.ones_like(x)\n",
    "torch.zeros_like(x)"
   ]
  },
  {
   "cell_type": "code",
   "execution_count": 53,
   "id": "2250ace8",
   "metadata": {},
   "outputs": [],
   "source": [
    "x = torch.FloatTensor([[1, 2], [3, 4]])"
   ]
  },
  {
   "cell_type": "code",
   "execution_count": 54,
   "id": "0f983415",
   "metadata": {},
   "outputs": [
    {
     "data": {
      "text/plain": [
       "tensor([[1., 2.],\n",
       "        [3., 4.]])"
      ]
     },
     "execution_count": 54,
     "metadata": {},
     "output_type": "execute_result"
    }
   ],
   "source": [
    "x"
   ]
  },
  {
   "cell_type": "code",
   "execution_count": 55,
   "id": "c8a4defe",
   "metadata": {},
   "outputs": [
    {
     "data": {
      "text/plain": [
       "tensor([[2., 4.],\n",
       "        [6., 8.]])"
      ]
     },
     "execution_count": 55,
     "metadata": {},
     "output_type": "execute_result"
    }
   ],
   "source": [
    "x*2"
   ]
  },
  {
   "cell_type": "code",
   "execution_count": 56,
   "id": "5a221e6d",
   "metadata": {},
   "outputs": [
    {
     "data": {
      "text/plain": [
       "tensor([[2., 4.],\n",
       "        [6., 8.]])"
      ]
     },
     "execution_count": 56,
     "metadata": {},
     "output_type": "execute_result"
    }
   ],
   "source": [
    "x.mul(2)"
   ]
  },
  {
   "cell_type": "code",
   "execution_count": 57,
   "id": "722b616a",
   "metadata": {},
   "outputs": [
    {
     "data": {
      "text/plain": [
       "tensor([[1., 2.],\n",
       "        [3., 4.]])"
      ]
     },
     "execution_count": 57,
     "metadata": {},
     "output_type": "execute_result"
    }
   ],
   "source": [
    "x"
   ]
  },
  {
   "cell_type": "code",
   "execution_count": 58,
   "id": "b6e7420d",
   "metadata": {},
   "outputs": [
    {
     "data": {
      "text/plain": [
       "tensor([[2., 4.],\n",
       "        [6., 8.]])"
      ]
     },
     "execution_count": 58,
     "metadata": {},
     "output_type": "execute_result"
    }
   ],
   "source": [
    "x.mul_(2)"
   ]
  },
  {
   "cell_type": "code",
   "execution_count": 59,
   "id": "48a5dc8c",
   "metadata": {},
   "outputs": [
    {
     "data": {
      "text/plain": [
       "tensor([[2., 4.],\n",
       "        [6., 8.]])"
      ]
     },
     "execution_count": 59,
     "metadata": {},
     "output_type": "execute_result"
    }
   ],
   "source": [
    "x"
   ]
  },
  {
   "cell_type": "code",
   "execution_count": 68,
   "id": "0444f8da",
   "metadata": {},
   "outputs": [],
   "source": [
    "result = 0 #전역변수"
   ]
  },
  {
   "cell_type": "code",
   "execution_count": 69,
   "id": "95adf2d8",
   "metadata": {},
   "outputs": [],
   "source": [
    "def add(num):\n",
    "    global result\n",
    "    #result=1 # 지역변수 : 함수(블록) 내에서만 사용되는 변수\n",
    "    result+=num\n",
    "    print(result)\n",
    "    return result"
   ]
  },
  {
   "cell_type": "code",
   "execution_count": 70,
   "id": "f58ebd9c",
   "metadata": {},
   "outputs": [
    {
     "name": "stdout",
     "output_type": "stream",
     "text": [
      "3\n"
     ]
    },
    {
     "data": {
      "text/plain": [
       "3"
      ]
     },
     "execution_count": 70,
     "metadata": {},
     "output_type": "execute_result"
    }
   ],
   "source": [
    "add(3)"
   ]
  },
  {
   "cell_type": "code",
   "execution_count": 71,
   "id": "385f2136",
   "metadata": {},
   "outputs": [
    {
     "name": "stdout",
     "output_type": "stream",
     "text": [
      "3\n"
     ]
    }
   ],
   "source": [
    "print(result)"
   ]
  },
  {
   "cell_type": "code",
   "execution_count": 88,
   "id": "8f55f536",
   "metadata": {},
   "outputs": [],
   "source": [
    "result1 = 0\n",
    "result2 = 0"
   ]
  },
  {
   "cell_type": "code",
   "execution_count": 89,
   "id": "f2413c33",
   "metadata": {},
   "outputs": [],
   "source": [
    "def add1(num):\n",
    "    global result1\n",
    "    result1 += num\n",
    "    return result1"
   ]
  },
  {
   "cell_type": "code",
   "execution_count": 90,
   "id": "fa16349c",
   "metadata": {},
   "outputs": [],
   "source": [
    "def add2(num):\n",
    "    global result2\n",
    "    result2 += num\n",
    "    return result2"
   ]
  },
  {
   "cell_type": "code",
   "execution_count": 91,
   "id": "504e0caa",
   "metadata": {},
   "outputs": [
    {
     "name": "stdout",
     "output_type": "stream",
     "text": [
      "3\n",
      "7\n"
     ]
    }
   ],
   "source": [
    "print(add1(3))\n",
    "print(add1(4))"
   ]
  },
  {
   "cell_type": "code",
   "execution_count": 92,
   "id": "8de26b4f",
   "metadata": {},
   "outputs": [
    {
     "name": "stdout",
     "output_type": "stream",
     "text": [
      "2\n",
      "8\n"
     ]
    }
   ],
   "source": [
    "print(add2(2))\n",
    "print(add2(6))"
   ]
  },
  {
   "cell_type": "code",
   "execution_count": 80,
   "id": "5acaa3e2",
   "metadata": {},
   "outputs": [
    {
     "name": "stdout",
     "output_type": "stream",
     "text": [
      "3\n"
     ]
    }
   ],
   "source": [
    "#print(result1)"
   ]
  },
  {
   "cell_type": "code",
   "execution_count": null,
   "id": "38c4840c",
   "metadata": {},
   "outputs": [],
   "source": []
  },
  {
   "cell_type": "code",
   "execution_count": 96,
   "id": "f43281fe",
   "metadata": {},
   "outputs": [],
   "source": [
    "class Calculator:\n",
    "    def __init__(self): #클래스->객체 생성될때 자동 호출(생성자)\n",
    "        self.result = 0\n",
    "        print(\"생성자 호출됨\")\n",
    "\n",
    "    def add(self, num): \n",
    "        self.result += num\n",
    "        print(\"add함수 호출됨\")\n",
    "        return self.result\n",
    "    "
   ]
  },
  {
   "cell_type": "code",
   "execution_count": 98,
   "id": "01bbd310",
   "metadata": {},
   "outputs": [
    {
     "name": "stdout",
     "output_type": "stream",
     "text": [
      "생성자 호출됨\n",
      "생성자 호출됨\n"
     ]
    }
   ],
   "source": [
    "cal1=Calculator() #클래스->객체 생성\n",
    "cal2=Calculator()"
   ]
  },
  {
   "cell_type": "code",
   "execution_count": 99,
   "id": "ae8c3401",
   "metadata": {},
   "outputs": [
    {
     "name": "stdout",
     "output_type": "stream",
     "text": [
      "add함수 호출됨\n"
     ]
    },
    {
     "data": {
      "text/plain": [
       "3"
      ]
     },
     "execution_count": 99,
     "metadata": {},
     "output_type": "execute_result"
    }
   ],
   "source": [
    "cal1.add(3)"
   ]
  },
  {
   "cell_type": "code",
   "execution_count": 100,
   "id": "35c8ac26",
   "metadata": {},
   "outputs": [
    {
     "name": "stdout",
     "output_type": "stream",
     "text": [
      "add함수 호출됨\n"
     ]
    },
    {
     "data": {
      "text/plain": [
       "7"
      ]
     },
     "execution_count": 100,
     "metadata": {},
     "output_type": "execute_result"
    }
   ],
   "source": [
    "cal1.add(4)"
   ]
  },
  {
   "cell_type": "code",
   "execution_count": 101,
   "id": "805d249c",
   "metadata": {},
   "outputs": [
    {
     "name": "stdout",
     "output_type": "stream",
     "text": [
      "add함수 호출됨\n"
     ]
    },
    {
     "data": {
      "text/plain": [
       "2"
      ]
     },
     "execution_count": 101,
     "metadata": {},
     "output_type": "execute_result"
    }
   ],
   "source": [
    "cal2.add(2)"
   ]
  },
  {
   "cell_type": "code",
   "execution_count": 102,
   "id": "5b6da627",
   "metadata": {},
   "outputs": [
    {
     "name": "stdout",
     "output_type": "stream",
     "text": [
      "add함수 호출됨\n"
     ]
    },
    {
     "data": {
      "text/plain": [
       "8"
      ]
     },
     "execution_count": 102,
     "metadata": {},
     "output_type": "execute_result"
    }
   ],
   "source": [
    "cal2.add(6)"
   ]
  },
  {
   "cell_type": "code",
   "execution_count": 116,
   "id": "b32bc7bf",
   "metadata": {},
   "outputs": [],
   "source": [
    "import torch\n",
    "import torch.nn as nn\n",
    "import torch.nn.functional as F\n",
    "import torch.optim as optim"
   ]
  },
  {
   "cell_type": "code",
   "execution_count": 193,
   "id": "dae02bd3",
   "metadata": {},
   "outputs": [
    {
     "data": {
      "text/plain": [
       "<torch._C.Generator at 0x243196174d0>"
      ]
     },
     "execution_count": 193,
     "metadata": {},
     "output_type": "execute_result"
    }
   ],
   "source": [
    "torch.manual_seed(1)"
   ]
  },
  {
   "cell_type": "code",
   "execution_count": 194,
   "id": "54517f6f",
   "metadata": {},
   "outputs": [],
   "source": [
    "x_train = torch.FloatTensor([[1], [2], [3]])\n",
    "y_train = torch.FloatTensor([[2], [4], [6]])"
   ]
  },
  {
   "cell_type": "code",
   "execution_count": 195,
   "id": "a6fc517f",
   "metadata": {},
   "outputs": [
    {
     "data": {
      "text/plain": [
       "torch.Size([3, 1])"
      ]
     },
     "execution_count": 195,
     "metadata": {},
     "output_type": "execute_result"
    }
   ],
   "source": [
    "x_train.shape"
   ]
  },
  {
   "cell_type": "code",
   "execution_count": 196,
   "id": "c9f94731",
   "metadata": {},
   "outputs": [],
   "source": [
    "W=torch.zeros(1, requires_grad=True) #requires_grad=True는 W는 변수"
   ]
  },
  {
   "cell_type": "code",
   "execution_count": 197,
   "id": "36a5ec04",
   "metadata": {},
   "outputs": [],
   "source": [
    "b=torch.zeros(1, requires_grad=True) #requires_grad=True는 b는 변수"
   ]
  },
  {
   "cell_type": "code",
   "execution_count": 185,
   "id": "ca915049",
   "metadata": {},
   "outputs": [],
   "source": [
    "#초기 모델 가설함수 : y= 0 * x + 0\n",
    "#hx=W * x_train + b"
   ]
  },
  {
   "cell_type": "code",
   "execution_count": 186,
   "id": "949e8407",
   "metadata": {},
   "outputs": [],
   "source": [
    "#hx"
   ]
  },
  {
   "cell_type": "code",
   "execution_count": 187,
   "id": "43132805",
   "metadata": {},
   "outputs": [],
   "source": [
    " #cost\n",
    "#cost=torch.mean((hx - y_train)**2)\n",
    "#cost"
   ]
  },
  {
   "cell_type": "code",
   "execution_count": 188,
   "id": "e25ccb88",
   "metadata": {},
   "outputs": [],
   "source": [
    "optimizer=optim.SGD([W,b],lr=0.01)"
   ]
  },
  {
   "cell_type": "code",
   "execution_count": 189,
   "id": "1624e007",
   "metadata": {},
   "outputs": [],
   "source": [
    "#optimizer.zero_grad()#미분을 해서 구한 기울기를 0으로 초기화해줌\n",
    "#cost.backward() #W, b에 대한 기울기가 계산\n",
    "#optimizer.step()#W,b에 대한 업데이트"
   ]
  },
  {
   "cell_type": "code",
   "execution_count": 198,
   "id": "9f44a219",
   "metadata": {},
   "outputs": [
    {
     "name": "stdout",
     "output_type": "stream",
     "text": [
      "0 0.18666668236255646 0.07999999821186066 18.66666603088379\n",
      "100 1.7456912994384766 0.5780722498893738 0.04817060008645058\n",
      "200 1.80009925365448 0.4544214904308319 0.029766537249088287\n",
      "300 1.8428597450256348 0.35721680521965027 0.018393920734524727\n",
      "400 1.876473307609558 0.28080499172210693 0.011366334743797779\n",
      "500 1.9028971195220947 0.22073803842067719 0.007023668382316828\n",
      "600 1.9236682653427124 0.1735200434923172 0.00434019835665822\n",
      "700 1.9399964809417725 0.13640251755714417 0.0026819754857569933\n",
      "800 1.952831506729126 0.10722480714321136 0.0016572937602177262\n",
      "900 1.9629212617874146 0.0842885971069336 0.0010241125710308552\n",
      "1000 1.9708527326583862 0.06625857204198837 0.0006328357267193496\n",
      "1100 1.977087378501892 0.05208539217710495 0.0003910581872332841\n",
      "1200 1.9819889068603516 0.04094360023736954 0.0002416476490907371\n",
      "1300 1.9858416318893433 0.032185304909944534 0.00014932315389160067\n",
      "1400 1.9888702630996704 0.025300635024905205 9.227206464856863e-05\n",
      "1500 1.991250991821289 0.019888687878847122 5.702077760361135e-05\n",
      "1600 1.9931223392486572 0.015634294599294662 3.523503983160481e-05\n",
      "1700 1.994593620300293 0.01229004468768835 2.1773657863377593e-05\n",
      "1800 1.995750069618225 0.009661080315709114 1.3454421605274547e-05\n",
      "1900 1.9966591596603394 0.007594636641442776 8.314520528074354e-06\n"
     ]
    }
   ],
   "source": [
    "optimizer=optim.SGD([W,b],lr=0.01)\n",
    "for epoch in range(2000):\n",
    "    hx=W * x_train + b\n",
    "    cost=torch.mean((hx - y_train)**2)\n",
    "    optimizer.zero_grad()#미분을 해서 구한 기울기를 0으로 초기화해줌\n",
    "    cost.backward() #W, b에 대한 기울기가 계산\n",
    "    optimizer.step()#W,b에 대한 업데이트\n",
    "    if epoch%100 ==0:\n",
    "        print(epoch,  W.item(), b.item(), cost.item())\n",
    "\n"
   ]
  },
  {
   "cell_type": "code",
   "execution_count": 190,
   "id": "37884d21",
   "metadata": {},
   "outputs": [
    {
     "data": {
      "text/plain": [
       "tensor([1.1011], requires_grad=True)"
      ]
     },
     "execution_count": 190,
     "metadata": {},
     "output_type": "execute_result"
    }
   ],
   "source": [
    "W   #W:2"
   ]
  },
  {
   "cell_type": "code",
   "execution_count": 184,
   "id": "9dcaf9f1",
   "metadata": {},
   "outputs": [
    {
     "data": {
      "text/plain": [
       "tensor([0.4655], requires_grad=True)"
      ]
     },
     "execution_count": 184,
     "metadata": {},
     "output_type": "execute_result"
    }
   ],
   "source": [
    "b  #b:0"
   ]
  },
  {
   "cell_type": "code",
   "execution_count": 192,
   "id": "ade4db72",
   "metadata": {},
   "outputs": [
    {
     "data": {
      "text/plain": [
       "0.46550852060317993"
      ]
     },
     "execution_count": 192,
     "metadata": {},
     "output_type": "execute_result"
    }
   ],
   "source": [
    "W.item()\n",
    "b.item()"
   ]
  },
  {
   "cell_type": "code",
   "execution_count": 199,
   "id": "ffe65550",
   "metadata": {},
   "outputs": [
    {
     "data": {
      "text/plain": [
       "9.992821462452412"
      ]
     },
     "execution_count": 199,
     "metadata": {},
     "output_type": "execute_result"
    }
   ],
   "source": [
    "W.item()*5 + b.item()"
   ]
  },
  {
   "cell_type": "code",
   "execution_count": null,
   "id": "51c3c014",
   "metadata": {},
   "outputs": [],
   "source": []
  },
  {
   "cell_type": "code",
   "execution_count": 200,
   "id": "88630096",
   "metadata": {},
   "outputs": [],
   "source": [
    "w = torch.tensor(2.0, requires_grad=True)\n"
   ]
  },
  {
   "cell_type": "code",
   "execution_count": 201,
   "id": "0e404e5a",
   "metadata": {},
   "outputs": [],
   "source": [
    "y=w**2"
   ]
  },
  {
   "cell_type": "code",
   "execution_count": 202,
   "id": "ae31b9e0",
   "metadata": {},
   "outputs": [
    {
     "data": {
      "text/plain": [
       "tensor(4., grad_fn=<PowBackward0>)"
      ]
     },
     "execution_count": 202,
     "metadata": {},
     "output_type": "execute_result"
    }
   ],
   "source": [
    "y"
   ]
  },
  {
   "cell_type": "code",
   "execution_count": 203,
   "id": "4fdd07ce",
   "metadata": {},
   "outputs": [],
   "source": [
    "z=2*y+5"
   ]
  },
  {
   "cell_type": "code",
   "execution_count": 204,
   "id": "500ec787",
   "metadata": {},
   "outputs": [
    {
     "data": {
      "text/plain": [
       "tensor(13., grad_fn=<AddBackward0>)"
      ]
     },
     "execution_count": 204,
     "metadata": {},
     "output_type": "execute_result"
    }
   ],
   "source": [
    "z"
   ]
  },
  {
   "cell_type": "code",
   "execution_count": 205,
   "id": "6a8e69ef",
   "metadata": {},
   "outputs": [],
   "source": [
    "z.backward()"
   ]
  },
  {
   "cell_type": "code",
   "execution_count": 206,
   "id": "5cb0b11d",
   "metadata": {},
   "outputs": [
    {
     "data": {
      "text/plain": [
       "tensor(8.)"
      ]
     },
     "execution_count": 206,
     "metadata": {},
     "output_type": "execute_result"
    }
   ],
   "source": [
    "w.grad #z수식을 w로 미분한 값"
   ]
  },
  {
   "cell_type": "code",
   "execution_count": null,
   "id": "a6e006ed",
   "metadata": {},
   "outputs": [],
   "source": []
  },
  {
   "cell_type": "code",
   "execution_count": 214,
   "id": "0b8d48ae",
   "metadata": {},
   "outputs": [],
   "source": [
    "x1_train = torch.FloatTensor([[73], [93], [89], [96], [73]])\n",
    "x2_train = torch.FloatTensor([[80], [88], [91], [98], [66]])\n",
    "x3_train = torch.FloatTensor([[75], [93], [90], [100], [70]])\n",
    "y_train = torch.FloatTensor([[152], [185], [180], [196], [142]])"
   ]
  },
  {
   "cell_type": "code",
   "execution_count": 215,
   "id": "4b4298c9",
   "metadata": {},
   "outputs": [
    {
     "data": {
      "text/plain": [
       "torch.Size([5, 1])"
      ]
     },
     "execution_count": 215,
     "metadata": {},
     "output_type": "execute_result"
    }
   ],
   "source": [
    "x1_train.shape"
   ]
  },
  {
   "cell_type": "code",
   "execution_count": 222,
   "id": "bb2a915e",
   "metadata": {},
   "outputs": [],
   "source": [
    "w1 = torch.zeros(1, requires_grad=True)\n",
    "w2 = torch.zeros(1, requires_grad=True)\n",
    "w3 = torch.zeros(1, requires_grad=True)\n",
    "b = torch.zeros(1, requires_grad=True)"
   ]
  },
  {
   "cell_type": "code",
   "execution_count": 223,
   "id": "87d5d52d",
   "metadata": {
    "scrolled": false
   },
   "outputs": [
    {
     "name": "stdout",
     "output_type": "stream",
     "text": [
      "0 0.29401201009750366 0.2935999929904938 0.2973800003528595 0.0034199999645352364 29661.80078125\n",
      "10 0.6673623323440552 0.6653894186019897 0.6745615601539612 0.007770418655127287 1.8976879119873047\n",
      "20 0.6690528392791748 0.6658924221992493 0.6757622957229614 0.007798720151185989 1.6190385818481445\n",
      "30 0.6696174144744873 0.6652738451957703 0.6758250594139099 0.007813933305442333 1.6119930744171143\n",
      "40 0.6701772212982178 0.6646535396575928 0.6758841276168823 0.00782909244298935 1.6049734354019165\n",
      "50 0.6707355380058289 0.6640350222587585 0.6759428381919861 0.00784424040466547 1.5979907512664795\n",
      "60 0.6712925434112549 0.6634181141853333 0.676001250743866 0.00785937812179327 1.5910345315933228\n",
      "70 0.6718481183052063 0.6628029942512512 0.6760593056678772 0.0078745037317276 1.5841312408447266\n",
      "80 0.6724023222923279 0.6621896624565125 0.6761170625686646 0.007889614440500736 1.577264428138733\n",
      "90 0.6729551553726196 0.6615779995918274 0.6761744022369385 0.007904715836048126 1.5704329013824463\n",
      "100 0.6735065579414368 0.6609680652618408 0.6762314438819885 0.007919806987047195 1.5636341571807861\n",
      "110 0.6740565896034241 0.6603598594665527 0.6762881875038147 0.007934882305562496 1.5568692684173584\n",
      "120 0.6746053695678711 0.6597533226013184 0.6763445734977722 0.007949946448206902 1.5501396656036377\n",
      "130 0.6751526594161987 0.6591485142707825 0.6764006018638611 0.00796500127762556 1.5434520244598389\n",
      "140 0.6756985783576965 0.6585453748703003 0.6764563322067261 0.007980040274560452 1.5367933511734009\n",
      "150 0.676243245601654 0.6579439043998718 0.676511824131012 0.007995068095624447 1.5301706790924072\n",
      "160 0.6767864227294922 0.6573441028594971 0.676567018032074 0.008010085672140121 1.5235931873321533\n",
      "170 0.6773282289505005 0.6567460298538208 0.6766218543052673 0.0080250920727849 1.5170472860336304\n",
      "180 0.6778687834739685 0.6561495661735535 0.676676332950592 0.008040083572268486 1.5105319023132324\n",
      "190 0.6784080862998962 0.6555547714233398 0.6767305135726929 0.00805506482720375 1.5040454864501953\n",
      "200 0.6789458990097046 0.6549617052078247 0.676784336566925 0.008070035837590694 1.4976074695587158\n",
      "210 0.6794824004173279 0.6543703079223633 0.6768378615379333 0.008084994740784168 1.4912012815475464\n",
      "220 0.6800176501274109 0.6537805795669556 0.6768909692764282 0.008099939674139023 1.4848287105560303\n",
      "230 0.6805514693260193 0.6531925201416016 0.6769438982009888 0.008114874362945557 1.4784812927246094\n",
      "240 0.6810839176177979 0.6526060700416565 0.6769963502883911 0.00812979880720377 1.4721736907958984\n",
      "250 0.6816151142120361 0.6520212888717651 0.6770486831665039 0.008144710212945938 1.4659007787704468\n",
      "260 0.6821450591087341 0.6514381766319275 0.6771005392074585 0.008159609511494637 1.4596480131149292\n",
      "270 0.6826735734939575 0.650856614112854 0.6771522164344788 0.008174496702849865 1.45344877243042\n",
      "280 0.6832007765769958 0.6502767205238342 0.6772035360336304 0.008189373649656773 1.4472827911376953\n",
      "290 0.6837266683578491 0.6496985554695129 0.6772545576095581 0.008204237557947636 1.4411405324935913\n",
      "300 0.6842513084411621 0.649121880531311 0.6773051619529724 0.008219091221690178 1.4350258111953735\n",
      "310 0.6847745776176453 0.6485468149185181 0.6773555874824524 0.008233933709561825 1.4289541244506836\n",
      "320 0.6852966547012329 0.6479734778404236 0.6774056553840637 0.008248765021562576 1.4229177236557007\n",
      "330 0.6858173608779907 0.6474016904830933 0.6774554252624512 0.008263583295047283 1.4168950319290161\n",
      "340 0.6863367557525635 0.6468315124511719 0.6775048971176147 0.008278390392661095 1.4109259843826294\n",
      "350 0.686854898929596 0.6462628841400146 0.6775540113449097 0.00829318631440401 1.4049746990203857\n",
      "360 0.6873717308044434 0.6456959247589111 0.6776028871536255 0.008307971991598606 1.3990654945373535\n",
      "370 0.6878872513771057 0.6451305150985718 0.6776514053344727 0.008322743698954582 1.393181562423706\n",
      "380 0.6884015202522278 0.6445667147636414 0.6776996850967407 0.008337506093084812 1.387328863143921\n",
      "390 0.6889145374298096 0.6440044641494751 0.6777476072311401 0.008352257311344147 1.3815176486968994\n",
      "400 0.6894262433052063 0.6434438228607178 0.6777952909469604 0.00836699828505516 1.375730276107788\n",
      "410 0.689936637878418 0.6428847312927246 0.6778426170349121 0.00838172622025013 1.3699676990509033\n",
      "420 0.6904457807540894 0.6423273086547852 0.6778897047042847 0.008396443910896778 1.3642382621765137\n",
      "430 0.6909536719322205 0.6417713165283203 0.6779364347457886 0.008411150425672531 1.3585432767868042\n",
      "440 0.6914603114128113 0.6412169933319092 0.6779829263687134 0.008425845764577389 1.3528707027435303\n",
      "450 0.6919656991958618 0.6406642198562622 0.6780290007591248 0.008440528996288776 1.3472414016723633\n",
      "460 0.6924698352813721 0.6401129364967346 0.6780748963356018 0.008455201052129269 1.3416283130645752\n",
      "470 0.692972719669342 0.639563262462616 0.6781204342842102 0.00846986286342144 1.336044430732727\n",
      "480 0.6934744119644165 0.6390151381492615 0.6781656742095947 0.00848451443016529 1.3305033445358276\n",
      "490 0.6939747929573059 0.6384685039520264 0.6782106161117554 0.008499152958393097 1.3249948024749756\n",
      "500 0.6944740414619446 0.6379234194755554 0.6782552599906921 0.008513780310750008 1.3195109367370605\n",
      "510 0.6949719786643982 0.6373798847198486 0.678299605846405 0.008528397418558598 1.314054250717163\n",
      "520 0.6954686641693115 0.636837899684906 0.6783437132835388 0.008543005213141441 1.3086192607879639\n",
      "530 0.6959640979766846 0.636297345161438 0.6783875226974487 0.00855760183185339 1.3032186031341553\n",
      "540 0.6964583396911621 0.6357584595680237 0.6784310340881348 0.008572189137339592 1.297851800918579\n",
      "550 0.6969513297080994 0.6352209448814392 0.6784743070602417 0.008586762472987175 1.2924995422363281\n",
      "560 0.6974431872367859 0.6346850395202637 0.67851722240448 0.008601326495409012 1.2871854305267334\n",
      "570 0.6979337334632874 0.634150505065918 0.6785599589347839 0.008615880273282528 1.2819116115570068\n",
      "580 0.6984232068061829 0.633617639541626 0.6786022186279297 0.008630424737930298 1.2766430377960205\n",
      "590 0.6989113092422485 0.6330861449241638 0.6786444187164307 0.008644955232739449 1.2714215517044067\n",
      "600 0.6993983387947083 0.6325562000274658 0.6786861419677734 0.008659474551677704 1.2662218809127808\n",
      "610 0.6998839974403381 0.632027804851532 0.6787277460098267 0.008673985488712788 1.261042833328247\n",
      "620 0.7003685235977173 0.6315008997917175 0.6787688732147217 0.008688485249876976 1.2559062242507935\n",
      "630 0.7008518576622009 0.6309754252433777 0.6788099408149719 0.008702973835170269 1.250787377357483\n",
      "640 0.7013340592384338 0.6304514408111572 0.6788504719734192 0.008717452175915241 1.2456867694854736\n",
      "650 0.7018150687217712 0.6299289464950562 0.6788908839225769 0.008731918409466743 1.2406151294708252\n",
      "660 0.7022948861122131 0.6294079422950745 0.6789308190345764 0.008746374398469925 1.2355881929397583\n",
      "670 0.7027735114097595 0.6288883686065674 0.6789706349372864 0.008760822005569935 1.230566382408142\n",
      "680 0.7032509446144104 0.6283702254295349 0.6790101528167725 0.00877525843679905 1.2255923748016357\n",
      "690 0.7037271857261658 0.6278535723686218 0.6790494918823242 0.00878968182951212 1.2206462621688843\n",
      "700 0.7042022347450256 0.6273384094238281 0.6790884137153625 0.008804094977676868 1.2156964540481567\n",
      "710 0.7046761512756348 0.6268246173858643 0.6791271567344666 0.008818498812615871 1.2107969522476196\n",
      "720 0.7051488161087036 0.6263123154640198 0.6791657209396362 0.008832892403006554 1.2059237957000732\n",
      "730 0.7056203484535217 0.6258014440536499 0.6792038679122925 0.008847275748848915 1.2010705471038818\n",
      "740 0.7060907483100891 0.6252920031547546 0.6792418360710144 0.008861648850142956 1.196241855621338\n",
      "750 0.7065600156784058 0.6247840523719788 0.6792793869972229 0.00887601263821125 1.191434621810913\n",
      "760 0.7070280909538269 0.6242775321006775 0.6793168187141418 0.008890364319086075 1.186669945716858\n",
      "770 0.7074950933456421 0.6237725019454956 0.6793537735939026 0.008904706686735153 1.181923270225525\n",
      "780 0.707960844039917 0.6232687830924988 0.6793906688690186 0.008919037878513336 1.1771903038024902\n",
      "790 0.7084255218505859 0.6227664947509766 0.6794271469116211 0.008933360688388348 1.1724817752838135\n",
      "800 0.7088890075683594 0.622265636920929 0.6794635057449341 0.008947668597102165 1.1678179502487183\n",
      "810 0.7093513607978821 0.6217661499977112 0.6794993877410889 0.008961968123912811 1.1631702184677124\n",
      "820 0.7098126411437988 0.6212681531906128 0.6795351505279541 0.008976256474852562 1.1585365533828735\n",
      "830 0.7102727293968201 0.6207715272903442 0.6795705556869507 0.008990536443889141 1.1539407968521118\n",
      "840 0.7107317447662354 0.6202762126922607 0.6796057820320129 0.009004808031022549 1.1493669748306274\n",
      "850 0.7111896276473999 0.6197823286056519 0.6796407699584961 0.009019069373607635 1.1448097229003906\n",
      "860 0.7116463780403137 0.6192898750305176 0.6796754002571106 0.009033317677676678 1.1402909755706787\n",
      "870 0.712101936340332 0.6187987327575684 0.6797098517417908 0.009047554805874825 1.1357938051223755\n",
      "880 0.7125564813613892 0.6183090209960938 0.6797438859939575 0.009061782620847225 1.1313213109970093\n",
      "890 0.7130099534988403 0.6178207397460938 0.6797777414321899 0.00907600112259388 1.1268599033355713\n",
      "900 0.7134621739387512 0.6173338294029236 0.6798113584518433 0.009090210311114788 1.1224288940429688\n",
      "910 0.7139133810997009 0.6168482899665833 0.6798447370529175 0.00910441018640995 1.1180132627487183\n",
      "920 0.7143633961677551 0.616364061832428 0.6798778176307678 0.009118599817156792 1.1136198043823242\n",
      "930 0.7148123979568481 0.6158813834190369 0.6799106001853943 0.009132779203355312 1.1092643737792969\n",
      "940 0.7152602076530457 0.6153998374938965 0.679943323135376 0.009146946482360363 1.1049398183822632\n",
      "950 0.715707004070282 0.6149197816848755 0.6799755096435547 0.009161106310784817 1.100609540939331\n",
      "960 0.7161526083946228 0.6144410371780396 0.6800076961517334 0.009175254963338375 1.0963289737701416\n",
      "970 0.7165971994400024 0.6139636039733887 0.6800394058227539 0.009189395233988762 1.092049241065979\n",
      "980 0.7170405983924866 0.6134875416755676 0.6800710558891296 0.009203525260090828 1.0878161191940308\n",
      "990 0.7174830436706543 0.6130127906799316 0.6801023483276367 0.009217645972967148 1.083577275276184\n",
      "1000 0.7179242968559265 0.6125394701957703 0.6801334619522095 0.009231756441295147 1.0793778896331787\n",
      "1010 0.7183645367622375 0.612067461013794 0.6801642179489136 0.00924585573375225 1.0752122402191162\n",
      "1020 0.7188037633895874 0.6115968227386475 0.6801946759223938 0.009259944781661034 1.0710393190383911\n",
      "1030 0.7192417979240417 0.611127495765686 0.6802249550819397 0.009274023585021496 1.0669119358062744\n",
      "1040 0.7196787595748901 0.6106594800949097 0.6802549958229065 0.009288094006478786 1.062796711921692\n",
      "1050 0.7201147079467773 0.6101928949356079 0.6802847981452942 0.009302155114710331 1.0587151050567627\n",
      "1060 0.7205495238304138 0.6097275018692017 0.6803144216537476 0.00931620690971613 1.0546369552612305\n",
      "1070 0.7209832668304443 0.6092634797096252 0.6803436875343323 0.009330248460173607 1.0505850315093994\n",
      "1080 0.7214159369468689 0.6088007688522339 0.6803727746009827 0.009344279766082764 1.046571969985962\n",
      "1090 0.7218475341796875 0.6083393692970276 0.6804015636444092 0.009358303621411324 1.0425715446472168\n",
      "1100 0.7222781181335449 0.6078792810440063 0.6804301738739014 0.009372316300868988 1.0385843515396118\n",
      "1110 0.7227075099945068 0.6074205040931702 0.6804585456848145 0.009386317804455757 1.0346219539642334\n",
      "1120 0.7231360077857971 0.6069629192352295 0.6804866194725037 0.00940030999481678 1.0306763648986816\n",
      "1130 0.723563551902771 0.6065066456794739 0.6805144548416138 0.009414293803274632 1.026759147644043\n",
      "1140 0.7239900231361389 0.6060516834259033 0.6805419921875 0.009428269229829311 1.0228575468063354\n",
      "1150 0.7244154810905457 0.605597972869873 0.6805693507194519 0.00944223441183567 1.0189800262451172\n"
     ]
    },
    {
     "name": "stdout",
     "output_type": "stream",
     "text": [
      "1160 0.7248398065567017 0.6051455736160278 0.6805964112281799 0.009456190280616283 1.01512610912323\n",
      "1170 0.7252631187438965 0.6046946048736572 0.6806232333183289 0.0094701386988163 1.0112825632095337\n",
      "1180 0.7256854176521301 0.6042447090148926 0.680649995803833 0.00948407594114542 1.00746750831604\n",
      "1190 0.7261066436767578 0.6037962436676025 0.6806762218475342 0.009498003870248795 1.0036699771881104\n",
      "1200 0.7265268564224243 0.6033490300178528 0.6807023882865906 0.009511923417448997 0.999893844127655\n",
      "1210 0.7269459962844849 0.6029030680656433 0.6807282567024231 0.00952583085745573 0.9961420297622681\n",
      "1220 0.7273641228675842 0.6024583578109741 0.6807538866996765 0.009539728984236717 0.992401123046875\n",
      "1230 0.7277812957763672 0.6020148396492004 0.6807793378829956 0.009553617797791958 0.9886852502822876\n",
      "1240 0.728197455406189 0.601572573184967 0.6808045506477356 0.009567499160766602 0.9849969148635864\n",
      "1250 0.7286126017570496 0.6011316180229187 0.6808295845985413 0.009581370279192924 0.9813085794448853\n",
      "1260 0.7290266156196594 0.6006917953491211 0.680854320526123 0.009595233015716076 0.97764652967453\n",
      "1270 0.7294397354125977 0.6002534031867981 0.6808788180351257 0.009609087370336056 0.9740134477615356\n",
      "1280 0.7298517823219299 0.5998161435127258 0.6809031367301941 0.00962293054908514 0.9703863263130188\n",
      "1290 0.7302629351615906 0.5993801951408386 0.680927038192749 0.009636765345931053 0.9667859077453613\n",
      "1300 0.7306730151176453 0.5989454984664917 0.6809508800506592 0.00965059082955122 0.9632169604301453\n",
      "1310 0.7310821413993835 0.5985119938850403 0.6809744238853455 0.009664405137300491 0.9596570134162903\n",
      "1320 0.7314901947975159 0.5980797410011292 0.6809976696968079 0.009678210131824017 0.9561082720756531\n",
      "1330 0.7318973541259766 0.5976486206054688 0.6810207962989807 0.009692005813121796 0.9525794982910156\n",
      "1340 0.7323035001754761 0.5972186923027039 0.6810436844825745 0.009705793112516403 0.9490779638290405\n",
      "1350 0.7327085733413696 0.5967901349067688 0.6810663342475891 0.00971957203000784 0.9455859065055847\n",
      "1360 0.733112633228302 0.5963627099990845 0.6810888051986694 0.009733341634273529 0.9421176910400391\n",
      "1370 0.7335159182548523 0.5959364771842957 0.6811109781265259 0.009747103787958622 0.9386663436889648\n",
      "1380 0.7339180707931519 0.5955114960670471 0.6811329126358032 0.009760855697095394 0.9352344274520874\n",
      "1390 0.7343193292617798 0.5950877666473389 0.6811546087265015 0.00977460015565157 0.9318286180496216\n",
      "1400 0.7347195744514465 0.5946652293205261 0.6811760663986206 0.00978833343833685 0.9284208416938782\n",
      "1410 0.7351188063621521 0.5942438244819641 0.6811974048614502 0.009802058339118958 0.9250537157058716\n",
      "1420 0.735517144203186 0.5938236713409424 0.6812183856964111 0.009815774857997894 0.9216858148574829\n",
      "1430 0.7359145283699036 0.5934046506881714 0.6812392473220825 0.009829482063651085 0.918347954750061\n",
      "1440 0.7363108992576599 0.5929868221282959 0.6812597513198853 0.00984317995607853 0.9150253534317017\n",
      "1450 0.7367063164710999 0.5925702452659607 0.6812801957130432 0.009856867603957653 0.9117301106452942\n",
      "1460 0.7371007204055786 0.5921548008918762 0.6813004016876221 0.009870546869933605 0.9084352254867554\n",
      "1470 0.7374942302703857 0.5917405486106873 0.6813202500343323 0.009884217754006386 0.9051632881164551\n",
      "1480 0.737886905670166 0.5913275480270386 0.6813399791717529 0.009897880256175995 0.9019060134887695\n",
      "1490 0.7382784485816956 0.5909156203269958 0.6813595294952393 0.009911533445119858 0.8986679315567017\n",
      "1500 0.738669216632843 0.5905049443244934 0.6813786625862122 0.009925177320837975 0.8954533338546753\n",
      "1510 0.7390589118003845 0.5900953412055969 0.6813977360725403 0.00993881281465292 0.8922499418258667\n",
      "1520 0.7394476532936096 0.589686930179596 0.6814166307449341 0.009952439926564693 0.8890657424926758\n",
      "1530 0.7398354411125183 0.5892797112464905 0.6814351677894592 0.009966057725250721 0.8858927488327026\n",
      "1540 0.7402223944664001 0.5888736248016357 0.68145352602005 0.009979668073356152 0.8827382922172546\n",
      "1550 0.7406083941459656 0.5884687304496765 0.6814717054367065 0.009993269108235836 0.8795989155769348\n",
      "1560 0.7409933805465698 0.5880650281906128 0.6814895868301392 0.010006862692534924 0.876480758190155\n",
      "1570 0.7413774728775024 0.5876624584197998 0.6815073490142822 0.010020446963608265 0.8733813166618347\n",
      "1580 0.7417607307434082 0.5872610211372375 0.6815248727798462 0.010034022852778435 0.8702966570854187\n",
      "1590 0.7421430349349976 0.5868605971336365 0.681542158126831 0.010047590360045433 0.8672448992729187\n",
      "1600 0.7425243258476257 0.5864613652229309 0.6815593838691711 0.010061148554086685 0.8641611337661743\n",
      "1610 0.7429047226905823 0.5860633254051208 0.6815762519836426 0.01007469929754734 0.8611351847648621\n",
      "1620 0.7432841658592224 0.5856664180755615 0.6815929412841797 0.01008824072778225 0.8581059575080872\n",
      "1630 0.7436627745628357 0.5852706432342529 0.6816093921661377 0.010101772844791412 0.8551060557365417\n",
      "1640 0.7440404891967773 0.5848759412765503 0.6816255450248718 0.010115296579897404 0.8521226644515991\n",
      "1650 0.7444172501564026 0.5844824314117432 0.6816416382789612 0.010128811933100224 0.8491417169570923\n",
      "1660 0.7447931170463562 0.584089994430542 0.6816574335098267 0.010142316110432148 0.8461900949478149\n",
      "1670 0.7451680898666382 0.5836987495422363 0.6816730499267578 0.0101558156311512 0.8432437181472778\n",
      "1680 0.7455421090126038 0.5833085179328918 0.6816885471343994 0.010169303975999355 0.8403173685073853\n",
      "1690 0.7459151744842529 0.5829194188117981 0.6817038655281067 0.01018278393894434 0.8374009132385254\n",
      "1700 0.7462873458862305 0.5825314521789551 0.6817188262939453 0.010196257382631302 0.8345034718513489\n",
      "1710 0.7466586232185364 0.5821446180343628 0.6817337274551392 0.010209719650447369 0.8316271901130676\n",
      "1720 0.7470290660858154 0.5817588567733765 0.6817483305931091 0.010223173536360264 0.8287668228149414\n",
      "1730 0.7473986148834229 0.5813742280006409 0.6817626953125 0.010236618109047413 0.8259092569351196\n",
      "1740 0.7477673292160034 0.5809906721115112 0.6817769408226013 0.010250055231153965 0.8230727910995483\n",
      "1750 0.7481350898742676 0.5806081891059875 0.6817908883094788 0.010263483971357346 0.8202590942382812\n",
      "1760 0.7485020160675049 0.5802268385887146 0.6818045973777771 0.01027690526098013 0.8174504041671753\n",
      "1770 0.7488679885864258 0.5798465609550476 0.6818183064460754 0.010290317237377167 0.814660906791687\n",
      "1780 0.749233067035675 0.5794673562049866 0.6818316578865051 0.010303720831871033 0.8118841052055359\n",
      "1790 0.749597430229187 0.5790892243385315 0.6818447709083557 0.010317116044461727 0.809120774269104\n",
      "1800 0.749960720539093 0.5787121653556824 0.6818577647209167 0.010330503806471825 0.8063748478889465\n",
      "1810 0.7503232955932617 0.578336238861084 0.6818705201148987 0.01034388318657875 0.8036419153213501\n",
      "1820 0.750684916973114 0.5779613852500916 0.6818830370903015 0.010357256047427654 0.8009265661239624\n",
      "1830 0.7510456442832947 0.5775874853134155 0.6818954944610596 0.010370619595050812 0.7982169985771179\n",
      "1840 0.7514055967330933 0.577214777469635 0.6819077134132385 0.010383975692093372 0.7955325841903687\n",
      "1850 0.7517646551132202 0.5768430829048157 0.6819196343421936 0.010397321544587612 0.7928591966629028\n",
      "1860 0.7521228194236755 0.5764724612236023 0.6819314360618591 0.010410659946501255 0.7902001142501831\n",
      "1870 0.7524800896644592 0.5761029124259949 0.6819429993629456 0.010423990897834301 0.7875493168830872\n",
      "1880 0.7528365850448608 0.5757344365119934 0.6819543242454529 0.010437313467264175 0.7849248647689819\n",
      "1890 0.7531921863555908 0.5753669738769531 0.6819655895233154 0.010450627654790878 0.7823029160499573\n",
      "1900 0.753546953201294 0.575000524520874 0.6819765567779541 0.010463932529091835 0.7796962857246399\n",
      "1910 0.7539008855819702 0.5746352076530457 0.6819873452186584 0.01047723088413477 0.7771000266075134\n",
      "1920 0.7542540431022644 0.5742708444595337 0.6819980144500732 0.010490520857274532 0.7745282649993896\n",
      "1930 0.7546062469482422 0.5739075541496277 0.6820083856582642 0.010503802448511124 0.7719701528549194\n",
      "1940 0.7549575567245483 0.5735453963279724 0.682018518447876 0.010517075657844543 0.7694061398506165\n",
      "1950 0.7553080916404724 0.5731841921806335 0.6820286512374878 0.010530341416597366 0.7668684720993042\n",
      "1960 0.7556576728820801 0.5728240013122559 0.6820385456085205 0.010543599724769592 0.7643477320671082\n",
      "1970 0.75600665807724 0.5724648237228394 0.6820481419563293 0.010556848719716072 0.7618383169174194\n",
      "1980 0.7563547492027283 0.572106659412384 0.6820575594902039 0.010570090264081955 0.759337306022644\n",
      "1990 0.7567019462585449 0.5717495083808899 0.6820669174194336 0.010583323426544666 0.7568628191947937\n"
     ]
    }
   ],
   "source": [
    "optimizer=optim.SGD([w1,w2,w3,b],lr=1e-5) #0.01 <= lr <= 0.001\n",
    "#1* 10의 -5 승 = 1* 0.00001\n",
    "\n",
    "for epoch in range(2000):\n",
    "    hx=w1 * x1_train + w2 * x2_train+ w3 * x3_train + b\n",
    "    cost=torch.mean((hx - y_train)**2)\n",
    "    optimizer.zero_grad()#미분을 해서 구한 기울기를 0으로 초기화해줌\n",
    "    cost.backward() #W, b에 대한 기울기가 계산\n",
    "    optimizer.step()#W,b에 대한 업데이트\n",
    "    if epoch%10 ==0:\n",
    "        print(epoch, w1.item(), w2.item(), w3.item(), b.item(), cost.item())"
   ]
  },
  {
   "cell_type": "code",
   "execution_count": 224,
   "id": "937bd773",
   "metadata": {},
   "outputs": [
    {
     "data": {
      "text/plain": [
       "180.9572057966143"
      ]
     },
     "execution_count": 224,
     "metadata": {},
     "output_type": "execute_result"
    }
   ],
   "source": [
    "w1.item()*90+ w2.item()*90+ w3.item()*90 + b.item()\n",
    "#예상 수능점수 : 180.9572057966143"
   ]
  },
  {
   "cell_type": "code",
   "execution_count": null,
   "id": "5ef5ec42",
   "metadata": {},
   "outputs": [],
   "source": []
  },
  {
   "cell_type": "code",
   "execution_count": 231,
   "id": "3d400da7",
   "metadata": {},
   "outputs": [],
   "source": [
    "#                               X1   X2    X3\n",
    "x_train  =  torch.FloatTensor([[73,  80,  75], \n",
    "                               [93,  88,  93], \n",
    "                               [89,  91,  80], \n",
    "                               [96,  98,  100],   \n",
    "                               [73,  66,  70]])  \n",
    "y_train  =  torch.FloatTensor([[152],  [185],  [180],  [196],  [142]])"
   ]
  },
  {
   "cell_type": "code",
   "execution_count": 232,
   "id": "c9f44b76",
   "metadata": {},
   "outputs": [
    {
     "name": "stdout",
     "output_type": "stream",
     "text": [
      "torch.Size([5, 3])\n",
      "torch.Size([5, 1])\n"
     ]
    }
   ],
   "source": [
    "print(x_train.shape)\n",
    "print(y_train.shape)"
   ]
  },
  {
   "cell_type": "code",
   "execution_count": 233,
   "id": "b1a4eb76",
   "metadata": {},
   "outputs": [],
   "source": [
    "#w1 = torch.zeros(1, requires_grad=True)\n",
    "#w2 = torch.zeros(1, requires_grad=True)\n",
    "#w3 = torch.zeros(1, requires_grad=True)\n",
    "\n",
    "W = torch.zeros((3,1), requires_grad=True)\n",
    "b = torch.zeros(1, requires_grad=True)"
   ]
  },
  {
   "cell_type": "code",
   "execution_count": 234,
   "id": "b92ce0ae",
   "metadata": {},
   "outputs": [],
   "source": [
    "optimizer=optim.SGD([W,b],lr=1e-5) "
   ]
  },
  {
   "cell_type": "code",
   "execution_count": 236,
   "id": "103a415d",
   "metadata": {},
   "outputs": [
    {
     "name": "stdout",
     "output_type": "stream",
     "text": [
      "0 9537.6943359375\n",
      "100 5.752121448516846\n",
      "200 5.510031700134277\n",
      "300 5.2793989181518555\n",
      "400 5.059759616851807\n",
      "500 4.850369930267334\n",
      "600 4.650723457336426\n",
      "700 4.460408687591553\n",
      "800 4.278825759887695\n",
      "900 4.105560779571533\n",
      "1000 3.940225124359131\n",
      "1100 3.782344102859497\n",
      "1200 3.6315715312957764\n",
      "1300 3.4875869750976562\n",
      "1400 3.3499629497528076\n",
      "1500 3.218451738357544\n",
      "1600 3.092745304107666\n",
      "1700 2.9725329875946045\n",
      "1800 2.8575236797332764\n",
      "1900 2.7475745677948\n"
     ]
    }
   ],
   "source": [
    "for epoch in range(2000):\n",
    "    hx=x_train.matmul(W) + b\n",
    "    cost=torch.mean((hx - y_train)**2)\n",
    "    optimizer.zero_grad()#미분을 해서 구한 기울기를 0으로 초기화해줌\n",
    "    cost.backward() #W, b에 대한 기울기가 계산\n",
    "    optimizer.step()#W,b에 대한 업데이트\n",
    "    if epoch%100 ==0:\n",
    "        print(epoch, cost.item())    \n",
    "        \n"
   ]
  },
  {
   "cell_type": "code",
   "execution_count": null,
   "id": "185ad77f",
   "metadata": {},
   "outputs": [],
   "source": []
  },
  {
   "cell_type": "code",
   "execution_count": 237,
   "id": "460370da",
   "metadata": {},
   "outputs": [],
   "source": [
    "import torch\n",
    "import torch.nn as nn\n",
    "import torch.nn.functional as F"
   ]
  },
  {
   "cell_type": "code",
   "execution_count": 238,
   "id": "cf5b4adf",
   "metadata": {},
   "outputs": [
    {
     "data": {
      "text/plain": [
       "<torch._C.Generator at 0x243196174d0>"
      ]
     },
     "execution_count": 238,
     "metadata": {},
     "output_type": "execute_result"
    }
   ],
   "source": [
    "torch.manual_seed(1)\n"
   ]
  },
  {
   "cell_type": "code",
   "execution_count": 239,
   "id": "a996f36c",
   "metadata": {},
   "outputs": [],
   "source": [
    "x_train = torch.FloatTensor([[1], [2], [3]])\n",
    "y_train = torch.FloatTensor([[2], [4], [6]])"
   ]
  },
  {
   "cell_type": "code",
   "execution_count": null,
   "id": "54e5fd61",
   "metadata": {},
   "outputs": [],
   "source": []
  },
  {
   "cell_type": "code",
   "execution_count": 240,
   "id": "4599cd5b",
   "metadata": {},
   "outputs": [],
   "source": [
    "model=nn.Linear(1,1) # 입력차원, 출력차원"
   ]
  },
  {
   "cell_type": "code",
   "execution_count": 242,
   "id": "cce5c2c5",
   "metadata": {},
   "outputs": [
    {
     "data": {
      "text/plain": [
       "[Parameter containing:\n",
       " tensor([[0.5153]], requires_grad=True),\n",
       " Parameter containing:\n",
       " tensor([-0.4414], requires_grad=True)]"
      ]
     },
     "execution_count": 242,
     "metadata": {},
     "output_type": "execute_result"
    }
   ],
   "source": [
    "list(model.parameters()) #w, b 값\n",
    "#초기 모델 : hx=0.5153 * x_train -0.4414"
   ]
  },
  {
   "cell_type": "code",
   "execution_count": 243,
   "id": "86873c33",
   "metadata": {},
   "outputs": [],
   "source": [
    "optimizer=torch.optim.SGD(model.parameters(), lr=0.01)"
   ]
  },
  {
   "cell_type": "code",
   "execution_count": 244,
   "id": "0201c7be",
   "metadata": {},
   "outputs": [
    {
     "name": "stdout",
     "output_type": "stream",
     "text": [
      "0 13.103541374206543\n",
      "100 0.00279058120213449\n",
      "200 0.00172441138420254\n",
      "300 0.0010655784280970693\n",
      "400 0.0006584661896340549\n",
      "500 0.0004068926500622183\n",
      "600 0.0002514346851967275\n",
      "700 0.00015537298168055713\n",
      "800 9.601024794392288e-05\n",
      "900 5.9327696362743154e-05\n",
      "1000 3.66610438504722e-05\n",
      "1100 2.2655576685792767e-05\n",
      "1200 1.3999051589053124e-05\n",
      "1300 8.65114816406276e-06\n",
      "1400 5.346103989722906e-06\n",
      "1500 3.3032331430149497e-06\n",
      "1600 2.04174443751981e-06\n",
      "1700 1.2618406799447257e-06\n",
      "1800 7.801028800713539e-07\n",
      "1900 4.823282324650791e-07\n"
     ]
    }
   ],
   "source": [
    "for epoch in range(2000):\n",
    "    \n",
    "    hx = model(x_train) #hx=x_train.matmul(W) + b\n",
    "    cost = F.mse_loss(hx, y_train)   #cost=torch.mean((hx - y_train)**2)\n",
    "    \n",
    "    optimizer.zero_grad()#미분을 해서 구한 기울기를 0으로 초기화해줌\n",
    "    cost.backward() #W, b에 대한 기울기가 계산\n",
    "    optimizer.step()#W,b에 대한 업데이트\n",
    "    \n",
    "    if epoch%100 ==0:\n",
    "        print(epoch, cost.item())    "
   ]
  },
  {
   "cell_type": "code",
   "execution_count": 245,
   "id": "1a9d7ab1",
   "metadata": {},
   "outputs": [
    {
     "data": {
      "text/plain": [
       "[Parameter containing:\n",
       " tensor([[1.9994]], requires_grad=True),\n",
       " Parameter containing:\n",
       " tensor([0.0014], requires_grad=True)]"
      ]
     },
     "execution_count": 245,
     "metadata": {},
     "output_type": "execute_result"
    }
   ],
   "source": [
    "list(model.parameters()) "
   ]
  },
  {
   "cell_type": "code",
   "execution_count": null,
   "id": "7eafe6e6",
   "metadata": {},
   "outputs": [],
   "source": []
  },
  {
   "cell_type": "code",
   "execution_count": 246,
   "id": "f9746281",
   "metadata": {},
   "outputs": [],
   "source": [
    "new_var =  torch.FloatTensor([[4.0]]) "
   ]
  },
  {
   "cell_type": "code",
   "execution_count": 248,
   "id": "d1a37c4c",
   "metadata": {},
   "outputs": [
    {
     "data": {
      "text/plain": [
       "tensor([[7.9989]], grad_fn=<AddmmBackward0>)"
      ]
     },
     "execution_count": 248,
     "metadata": {},
     "output_type": "execute_result"
    }
   ],
   "source": [
    "model(new_var)"
   ]
  },
  {
   "cell_type": "code",
   "execution_count": null,
   "id": "8c885578",
   "metadata": {},
   "outputs": [],
   "source": []
  },
  {
   "cell_type": "code",
   "execution_count": 249,
   "id": "e374b449",
   "metadata": {},
   "outputs": [],
   "source": [
    "x_train = torch.FloatTensor([[73, 80, 75],\n",
    "                             [93, 88, 93],\n",
    "                             [89, 91, 90],\n",
    "                             [96, 98, 100],\n",
    "                             [73, 66, 70]])\n",
    "y_train = torch.FloatTensor([[152], [185], [180], [196], [142]])"
   ]
  },
  {
   "cell_type": "code",
   "execution_count": 250,
   "id": "6f15185c",
   "metadata": {},
   "outputs": [],
   "source": [
    "model=nn.Linear(3,1) # 입력차원, 출력차원"
   ]
  },
  {
   "cell_type": "code",
   "execution_count": 251,
   "id": "72927ba5",
   "metadata": {},
   "outputs": [
    {
     "data": {
      "text/plain": [
       "[Parameter containing:\n",
       " tensor([[-0.1119,  0.2710, -0.5435]], requires_grad=True),\n",
       " Parameter containing:\n",
       " tensor([0.3462], requires_grad=True)]"
      ]
     },
     "execution_count": 251,
     "metadata": {},
     "output_type": "execute_result"
    }
   ],
   "source": [
    "list(model.parameters()) "
   ]
  },
  {
   "cell_type": "code",
   "execution_count": 252,
   "id": "4bd5cdd7",
   "metadata": {},
   "outputs": [],
   "source": [
    "optimizer=torch.optim.SGD(model.parameters(), lr=1e-5)"
   ]
  },
  {
   "cell_type": "code",
   "execution_count": 253,
   "id": "7ca1d0fd",
   "metadata": {},
   "outputs": [
    {
     "name": "stdout",
     "output_type": "stream",
     "text": [
      "0 42134.70703125\n",
      "100 5.960053443908691\n",
      "200 5.654706954956055\n",
      "300 5.365412712097168\n",
      "400 5.091428756713867\n",
      "500 4.831833839416504\n",
      "600 4.585997104644775\n",
      "700 4.353074550628662\n",
      "800 4.132411003112793\n",
      "900 3.9234554767608643\n",
      "1000 3.7255024909973145\n",
      "1100 3.5379719734191895\n",
      "1200 3.360325574874878\n",
      "1300 3.19205641746521\n",
      "1400 3.0326738357543945\n",
      "1500 2.881699562072754\n",
      "1600 2.7386722564697266\n",
      "1700 2.603201150894165\n",
      "1800 2.4748456478118896\n",
      "1900 2.353286027908325\n"
     ]
    }
   ],
   "source": [
    "for epoch in range(2000):\n",
    "    \n",
    "    hx = model(x_train) #hx=x_train.matmul(W) + b\n",
    "    cost = F.mse_loss(hx, y_train)   #cost=torch.mean((hx - y_train)**2)\n",
    "    \n",
    "    optimizer.zero_grad()#미분을 해서 구한 기울기를 0으로 초기화해줌\n",
    "    cost.backward() #W, b에 대한 기울기가 계산\n",
    "    optimizer.step()#W,b에 대한 업데이트\n",
    "    \n",
    "    if epoch%100 ==0:\n",
    "        print(epoch, cost.item())    "
   ]
  },
  {
   "cell_type": "code",
   "execution_count": null,
   "id": "566312bc",
   "metadata": {},
   "outputs": [],
   "source": []
  },
  {
   "cell_type": "code",
   "execution_count": 254,
   "id": "acebf25e",
   "metadata": {},
   "outputs": [
    {
     "data": {
      "text/plain": [
       "tensor([[181.3557]], grad_fn=<AddmmBackward0>)"
      ]
     },
     "execution_count": 254,
     "metadata": {},
     "output_type": "execute_result"
    }
   ],
   "source": [
    "new_var =  torch.FloatTensor([[90,90,90]]) \n",
    "model(new_var)"
   ]
  },
  {
   "cell_type": "code",
   "execution_count": 255,
   "id": "1474dff2",
   "metadata": {},
   "outputs": [
    {
     "data": {
      "text/plain": [
       "[Parameter containing:\n",
       " tensor([[0.8540, 0.8475, 0.3096]], requires_grad=True),\n",
       " Parameter containing:\n",
       " tensor([0.3568], requires_grad=True)]"
      ]
     },
     "execution_count": 255,
     "metadata": {},
     "output_type": "execute_result"
    }
   ],
   "source": [
    "list(model.parameters()) "
   ]
  },
  {
   "cell_type": "code",
   "execution_count": null,
   "id": "6bf62d29",
   "metadata": {},
   "outputs": [],
   "source": []
  },
  {
   "cell_type": "code",
   "execution_count": null,
   "id": "2914edfd",
   "metadata": {},
   "outputs": [],
   "source": []
  },
  {
   "cell_type": "code",
   "execution_count": null,
   "id": "9bb5b85f",
   "metadata": {},
   "outputs": [],
   "source": []
  },
  {
   "cell_type": "code",
   "execution_count": null,
   "id": "13bfcb8c",
   "metadata": {},
   "outputs": [],
   "source": []
  },
  {
   "cell_type": "code",
   "execution_count": null,
   "id": "899ea78f",
   "metadata": {},
   "outputs": [],
   "source": []
  },
  {
   "cell_type": "code",
   "execution_count": null,
   "id": "93e80eba",
   "metadata": {},
   "outputs": [],
   "source": []
  }
 ],
 "metadata": {
  "kernelspec": {
   "display_name": "Python 3 (ipykernel)",
   "language": "python",
   "name": "python3"
  },
  "language_info": {
   "codemirror_mode": {
    "name": "ipython",
    "version": 3
   },
   "file_extension": ".py",
   "mimetype": "text/x-python",
   "name": "python",
   "nbconvert_exporter": "python",
   "pygments_lexer": "ipython3",
   "version": "3.11.4"
  }
 },
 "nbformat": 4,
 "nbformat_minor": 5
}
