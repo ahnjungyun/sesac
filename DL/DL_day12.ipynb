{
  "nbformat": 4,
  "nbformat_minor": 0,
  "metadata": {
    "colab": {
      "private_outputs": true,
      "provenance": [],
      "gpuType": "T4"
    },
    "kernelspec": {
      "name": "python3",
      "display_name": "Python 3"
    },
    "language_info": {
      "name": "python"
    },
    "accelerator": "GPU"
  },
  "cells": [
    {
      "cell_type": "code",
      "execution_count": null,
      "metadata": {
        "id": "YRcPKIxKJnz5"
      },
      "outputs": [],
      "source": [
        "!wget -O Aquarium_Data.zip  https://public.roboflow.com/ds/FAgqOgdewl?key=1uz2izrHYH\n",
        "#대문자 O"
      ]
    },
    {
      "cell_type": "code",
      "source": [
        "from google.colab import drive\n",
        "drive.mount('/content/drive')"
      ],
      "metadata": {
        "id": "j_KlP6M-Jrhv"
      },
      "execution_count": null,
      "outputs": []
    },
    {
      "cell_type": "code",
      "source": [
        "import zipfile"
      ],
      "metadata": {
        "id": "UgPrTLZbJvOb"
      },
      "execution_count": null,
      "outputs": []
    },
    {
      "cell_type": "code",
      "source": [
        "with zipfile.ZipFile(\"/content/Aquarium_Data.zip\") as target_file:\n",
        "    target_file.extractall(\"/content/Aquarium_Data\")\n"
      ],
      "metadata": {
        "id": "qPzHcmcRKAMN"
      },
      "execution_count": null,
      "outputs": []
    },
    {
      "cell_type": "code",
      "source": [
        "!pip install PyYAML"
      ],
      "metadata": {
        "id": "Fk4Vs-50KzTg"
      },
      "execution_count": null,
      "outputs": []
    },
    {
      "cell_type": "code",
      "source": [
        "import yaml"
      ],
      "metadata": {
        "id": "fkuUM0TZPaT8"
      },
      "execution_count": null,
      "outputs": []
    },
    {
      "cell_type": "code",
      "source": [
        "data={\n",
        "    'train': '/content/Aquarium_Data/train/images',\n",
        "    'test': '/content/Aquarium_Data/test/images',\n",
        "    'val': '/content/Aquarium_Data/valid/images',\n",
        "    'names': ['fish', 'jellyfish', 'penguin', 'puffin', 'shark', 'starfish', 'stingray'],\n",
        "    'nc':7\n",
        "}"
      ],
      "metadata": {
        "id": "WBVhXVkoOKxD"
      },
      "execution_count": null,
      "outputs": []
    },
    {
      "cell_type": "code",
      "source": [
        "with open(\"/content/Aquarium_Data/Aquarium_Data.yaml\", \"w\") as f:\n",
        "    yaml.dump(data, f)"
      ],
      "metadata": {
        "id": "lYap48K0OyFd"
      },
      "execution_count": null,
      "outputs": []
    },
    {
      "cell_type": "code",
      "source": [
        "with open(\"/content/Aquarium_Data/Aquarium_Data.yaml\", \"r\") as f:\n",
        "    aquarium_yaml=yaml.safe_load(f)\n",
        "    display(aquarium_yaml)"
      ],
      "metadata": {
        "id": "CpRoj3EbPYO0"
      },
      "execution_count": null,
      "outputs": []
    },
    {
      "cell_type": "code",
      "source": [
        "pip install ultralytics"
      ],
      "metadata": {
        "id": "mEBLn3j6QFzM"
      },
      "execution_count": null,
      "outputs": []
    },
    {
      "cell_type": "code",
      "source": [
        "import ultralytics"
      ],
      "metadata": {
        "id": "DfF4n1uVQfmk"
      },
      "execution_count": null,
      "outputs": []
    },
    {
      "cell_type": "code",
      "source": [
        "from ultralytics import YOLO"
      ],
      "metadata": {
        "id": "Wwt2iozeQsFy"
      },
      "execution_count": null,
      "outputs": []
    },
    {
      "cell_type": "code",
      "source": [
        "#YOLO(\"사전학습된모델명\")\n",
        "model=YOLO(\"yolov8n.pt\")"
      ],
      "metadata": {
        "id": "2KbNO-lcQw8j"
      },
      "execution_count": null,
      "outputs": []
    },
    {
      "cell_type": "code",
      "source": [
        "len(model.names)\n",
        "model.names"
      ],
      "metadata": {
        "id": "N66rS6wKRCq8"
      },
      "execution_count": null,
      "outputs": []
    },
    {
      "cell_type": "code",
      "source": [
        "model.train(data=\"/content/Aquarium_Data/Aquarium_Data.yaml\",epochs=10,patience=5, batch=32, imgsz=416)\n",
        "#사전 학습된 yolo 모델에 내가 가지고 있는 커스텀 데이터로 추가 학습(파인튜닝)"
      ],
      "metadata": {
        "id": "7UQcaUTVRGi6"
      },
      "execution_count": null,
      "outputs": []
    },
    {
      "cell_type": "code",
      "source": [
        "len(model.names)\n",
        "model.names"
      ],
      "metadata": {
        "id": "07h10tEAXDQM"
      },
      "execution_count": null,
      "outputs": []
    },
    {
      "cell_type": "code",
      "source": [
        "from glob import glob"
      ],
      "metadata": {
        "id": "jOKg2DfEZTWL"
      },
      "execution_count": null,
      "outputs": []
    },
    {
      "cell_type": "code",
      "source": [
        "test_img=glob(\"/content/Aquarium_Data/test/images/*\")"
      ],
      "metadata": {
        "id": "_n-EKkuNZf0L"
      },
      "execution_count": null,
      "outputs": []
    },
    {
      "cell_type": "code",
      "source": [
        "len(test_img)"
      ],
      "metadata": {
        "id": "O3AhuzGpZ8xL"
      },
      "execution_count": null,
      "outputs": []
    },
    {
      "cell_type": "code",
      "source": [
        " test_img.sort()"
      ],
      "metadata": {
        "id": "lRKkPEaCZ-F7"
      },
      "execution_count": null,
      "outputs": []
    },
    {
      "cell_type": "code",
      "source": [
        "test_img\n",
        "results=model.predict(source=\"/content/Aquarium_Data/test/images/\", save=True)"
      ],
      "metadata": {
        "id": "DSuRNagzaG8D"
      },
      "execution_count": null,
      "outputs": []
    },
    {
      "cell_type": "code",
      "source": [
        "results"
      ],
      "metadata": {
        "id": "q3NVY-Y_aLjS"
      },
      "execution_count": null,
      "outputs": []
    },
    {
      "cell_type": "code",
      "source": [
        "import numpy as np"
      ],
      "metadata": {
        "id": "1H2VWXWSbzPr"
      },
      "execution_count": null,
      "outputs": []
    },
    {
      "cell_type": "code",
      "source": [
        "for result in results:\n",
        "\n",
        "    uniq, cnt = np.unique(result.boxes.cls.cpu().numpy(), return_counts=True)  # Torch.Tensor -> numpy\n",
        "    uniq_cnt_dict = dict(zip(uniq, cnt))\n",
        "\n",
        "    print('\\n{class num:counts} =', uniq_cnt_dict,'\\n')\n",
        "\n",
        "    for c in result.boxes.cls:\n",
        "        print('class num =', int(c), ', class_name =', model.names[int(c)])\n",
        "\n",
        "\"\"\"\n",
        "{0: 'fish',\n",
        " 1: 'jellyfish',\n",
        " 2: 'penguin',\n",
        " 3: 'puffin',\n",
        " 4: 'shark',\n",
        " 5: 'starfish',\n",
        " 6: 'stingray'}\n",
        " \"\"\"\n",
        "\n"
      ],
      "metadata": {
        "id": "hWMPgIN5bgLc"
      },
      "execution_count": null,
      "outputs": []
    },
    {
      "cell_type": "code",
      "source": [],
      "metadata": {
        "id": "oDFuYL6DbyIy"
      },
      "execution_count": null,
      "outputs": []
    }
  ]
}