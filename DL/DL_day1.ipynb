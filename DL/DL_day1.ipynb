{
 "cells": [
  {
   "cell_type": "code",
   "execution_count": null,
   "id": "20d442a6",
   "metadata": {},
   "outputs": [],
   "source": [
    "\"\"\"\n",
    "케라스(딥러닝 프레임웍)을 이용한 점수 예측\n",
    "입력 특징 : 공부시간, 출석일수, 과제제출횟수\n",
    "출력 : 시험점수\n",
    "\n",
    "딥러닝 프레임웍(framework) : 텐서플로우(케라스), 파이토치, 까페...\n",
    "\n",
    "\"\"\""
   ]
  },
  {
   "cell_type": "code",
   "execution_count": 1,
   "id": "7cebe4b7",
   "metadata": {},
   "outputs": [],
   "source": [
    "from tensorflow import keras\n",
    "from tensorflow.keras import layers"
   ]
  },
  {
   "cell_type": "code",
   "execution_count": 6,
   "id": "42085ac7",
   "metadata": {},
   "outputs": [],
   "source": [
    "model=keras.Sequential([layers.Dense(units=1, input_shape=[3])])"
   ]
  },
  {
   "cell_type": "code",
   "execution_count": null,
   "id": "948a3557",
   "metadata": {},
   "outputs": [],
   "source": []
  },
  {
   "cell_type": "code",
   "execution_count": 7,
   "id": "9da857c7",
   "metadata": {},
   "outputs": [],
   "source": [
    "model=keras.Sequential([ \n",
    "layers.Dense(units=4,  input_shape=[2], activation='relu'),\n",
    "layers.Dense(units=3,   activation='relu'),\n",
    "layers.Dense(units=1,   activation='sigmoid')   \n",
    "])"
   ]
  },
  {
   "cell_type": "code",
   "execution_count": 8,
   "id": "31d06b6d",
   "metadata": {},
   "outputs": [
    {
     "name": "stdout",
     "output_type": "stream",
     "text": [
      "Model: \"sequential_3\"\n",
      "_________________________________________________________________\n",
      " Layer (type)                Output Shape              Param #   \n",
      "=================================================================\n",
      " dense_6 (Dense)             (None, 4)                 12        \n",
      "                                                                 \n",
      " dense_7 (Dense)             (None, 3)                 15        \n",
      "                                                                 \n",
      " dense_8 (Dense)             (None, 1)                 4         \n",
      "                                                                 \n",
      "=================================================================\n",
      "Total params: 31 (124.00 Byte)\n",
      "Trainable params: 31 (124.00 Byte)\n",
      "Non-trainable params: 0 (0.00 Byte)\n",
      "_________________________________________________________________\n"
     ]
    }
   ],
   "source": [
    "model.summary()"
   ]
  },
  {
   "cell_type": "code",
   "execution_count": null,
   "id": "67cf8845",
   "metadata": {},
   "outputs": [],
   "source": [
    "model.compile(optimizer='adam', loss='mae')"
   ]
  },
  {
   "cell_type": "code",
   "execution_count": null,
   "id": "5282a10a",
   "metadata": {},
   "outputs": [],
   "source": []
  },
  {
   "cell_type": "code",
   "execution_count": 9,
   "id": "ee22ed46",
   "metadata": {},
   "outputs": [],
   "source": [
    "import pandas as pd"
   ]
  },
  {
   "cell_type": "code",
   "execution_count": 11,
   "id": "ae6d8594",
   "metadata": {},
   "outputs": [],
   "source": [
    "red_wine=pd.read_csv(\"red-wine.csv\")"
   ]
  },
  {
   "cell_type": "code",
   "execution_count": 12,
   "id": "f55ca735",
   "metadata": {},
   "outputs": [
    {
     "name": "stdout",
     "output_type": "stream",
     "text": [
      "<class 'pandas.core.frame.DataFrame'>\n",
      "RangeIndex: 1599 entries, 0 to 1598\n",
      "Data columns (total 12 columns):\n",
      " #   Column                Non-Null Count  Dtype  \n",
      "---  ------                --------------  -----  \n",
      " 0   fixed acidity         1599 non-null   float64\n",
      " 1   volatile acidity      1599 non-null   float64\n",
      " 2   citric acid           1599 non-null   float64\n",
      " 3   residual sugar        1599 non-null   float64\n",
      " 4   chlorides             1599 non-null   float64\n",
      " 5   free sulfur dioxide   1599 non-null   float64\n",
      " 6   total sulfur dioxide  1599 non-null   float64\n",
      " 7   density               1599 non-null   float64\n",
      " 8   pH                    1599 non-null   float64\n",
      " 9   sulphates             1599 non-null   float64\n",
      " 10  alcohol               1599 non-null   float64\n",
      " 11  quality               1599 non-null   int64  \n",
      "dtypes: float64(11), int64(1)\n",
      "memory usage: 150.0 KB\n"
     ]
    }
   ],
   "source": [
    "red_wine.info()"
   ]
  },
  {
   "cell_type": "code",
   "execution_count": 13,
   "id": "f545cb98",
   "metadata": {},
   "outputs": [],
   "source": [
    "df_train=red_wine.sample(frac=0.7, random_state=20231031)"
   ]
  },
  {
   "cell_type": "code",
   "execution_count": 15,
   "id": "a2f53ff1",
   "metadata": {},
   "outputs": [
    {
     "data": {
      "text/plain": [
       "1119"
      ]
     },
     "execution_count": 15,
     "metadata": {},
     "output_type": "execute_result"
    }
   ],
   "source": [
    "len(df_train)"
   ]
  },
  {
   "cell_type": "code",
   "execution_count": 17,
   "id": "f4d8bae7",
   "metadata": {},
   "outputs": [
    {
     "data": {
      "text/plain": [
       "Int64Index([1385, 1504, 1269, 1457,  671,  404, 1327, 1226,  803, 1563,\n",
       "            ...\n",
       "            1301,  120,  199,   40, 1052, 1043, 1130,  363,  386, 1008],\n",
       "           dtype='int64', length=1119)"
      ]
     },
     "execution_count": 17,
     "metadata": {},
     "output_type": "execute_result"
    }
   ],
   "source": [
    "df_train.index"
   ]
  },
  {
   "cell_type": "code",
   "execution_count": 18,
   "id": "858b31eb",
   "metadata": {},
   "outputs": [],
   "source": [
    "df_test=red_wine.drop(df_train.index)"
   ]
  },
  {
   "cell_type": "code",
   "execution_count": 19,
   "id": "933684a9",
   "metadata": {},
   "outputs": [
    {
     "data": {
      "text/plain": [
       "480"
      ]
     },
     "execution_count": 19,
     "metadata": {},
     "output_type": "execute_result"
    }
   ],
   "source": [
    "len(df_test)"
   ]
  },
  {
   "cell_type": "code",
   "execution_count": 21,
   "id": "00ea3fd6",
   "metadata": {},
   "outputs": [
    {
     "data": {
      "text/html": [
       "<div>\n",
       "<style scoped>\n",
       "    .dataframe tbody tr th:only-of-type {\n",
       "        vertical-align: middle;\n",
       "    }\n",
       "\n",
       "    .dataframe tbody tr th {\n",
       "        vertical-align: top;\n",
       "    }\n",
       "\n",
       "    .dataframe thead th {\n",
       "        text-align: right;\n",
       "    }\n",
       "</style>\n",
       "<table border=\"1\" class=\"dataframe\">\n",
       "  <thead>\n",
       "    <tr style=\"text-align: right;\">\n",
       "      <th></th>\n",
       "      <th>fixed acidity</th>\n",
       "      <th>volatile acidity</th>\n",
       "      <th>citric acid</th>\n",
       "      <th>residual sugar</th>\n",
       "      <th>chlorides</th>\n",
       "      <th>free sulfur dioxide</th>\n",
       "      <th>total sulfur dioxide</th>\n",
       "      <th>density</th>\n",
       "      <th>pH</th>\n",
       "      <th>sulphates</th>\n",
       "      <th>alcohol</th>\n",
       "      <th>quality</th>\n",
       "    </tr>\n",
       "  </thead>\n",
       "  <tbody>\n",
       "    <tr>\n",
       "      <th>1385</th>\n",
       "      <td>8.0</td>\n",
       "      <td>0.81</td>\n",
       "      <td>0.25</td>\n",
       "      <td>3.4</td>\n",
       "      <td>0.076</td>\n",
       "      <td>34.0</td>\n",
       "      <td>85.0</td>\n",
       "      <td>0.99668</td>\n",
       "      <td>3.19</td>\n",
       "      <td>0.42</td>\n",
       "      <td>9.2</td>\n",
       "      <td>5</td>\n",
       "    </tr>\n",
       "    <tr>\n",
       "      <th>1504</th>\n",
       "      <td>7.5</td>\n",
       "      <td>0.38</td>\n",
       "      <td>0.57</td>\n",
       "      <td>2.3</td>\n",
       "      <td>0.106</td>\n",
       "      <td>5.0</td>\n",
       "      <td>12.0</td>\n",
       "      <td>0.99605</td>\n",
       "      <td>3.36</td>\n",
       "      <td>0.55</td>\n",
       "      <td>11.4</td>\n",
       "      <td>6</td>\n",
       "    </tr>\n",
       "  </tbody>\n",
       "</table>\n",
       "</div>"
      ],
      "text/plain": [
       "      fixed acidity  volatile acidity  citric acid  residual sugar  chlorides  \\\n",
       "1385            8.0              0.81         0.25             3.4      0.076   \n",
       "1504            7.5              0.38         0.57             2.3      0.106   \n",
       "\n",
       "      free sulfur dioxide  total sulfur dioxide  density    pH  sulphates  \\\n",
       "1385                 34.0                  85.0  0.99668  3.19       0.42   \n",
       "1504                  5.0                  12.0  0.99605  3.36       0.55   \n",
       "\n",
       "      alcohol  quality  \n",
       "1385      9.2        5  \n",
       "1504     11.4        6  "
      ]
     },
     "execution_count": 21,
     "metadata": {},
     "output_type": "execute_result"
    }
   ],
   "source": [
    "df_train[:2]"
   ]
  },
  {
   "cell_type": "code",
   "execution_count": 25,
   "id": "3866742b",
   "metadata": {},
   "outputs": [],
   "source": [
    "max_=df_train.max()\n",
    "min_=df_train.min()"
   ]
  },
  {
   "cell_type": "code",
   "execution_count": 29,
   "id": "3613eaf2",
   "metadata": {},
   "outputs": [],
   "source": [
    "df_train=(df_train-min_) / (max_-min_)\n",
    "df_test=(df_test-min_) / (max_-min_)"
   ]
  },
  {
   "cell_type": "code",
   "execution_count": 37,
   "id": "f7301b89",
   "metadata": {},
   "outputs": [
    {
     "data": {
      "text/plain": [
       "0       5\n",
       "1       5\n",
       "2       5\n",
       "3       6\n",
       "4       5\n",
       "       ..\n",
       "1594    5\n",
       "1595    6\n",
       "1596    6\n",
       "1597    5\n",
       "1598    6\n",
       "Name: quality, Length: 1599, dtype: int64"
      ]
     },
     "execution_count": 37,
     "metadata": {},
     "output_type": "execute_result"
    }
   ],
   "source": [
    "df_train\n",
    "\n"
   ]
  },
  {
   "cell_type": "code",
   "execution_count": 35,
   "id": "045a8a5a",
   "metadata": {},
   "outputs": [],
   "source": [
    "df_train=df_train.drop('quality', axis=1)\n",
    "df_test=df_test.drop('quality', axis=1)"
   ]
  },
  {
   "cell_type": "code",
   "execution_count": 39,
   "id": "8b43a894",
   "metadata": {},
   "outputs": [
    {
     "data": {
      "text/html": [
       "<div>\n",
       "<style scoped>\n",
       "    .dataframe tbody tr th:only-of-type {\n",
       "        vertical-align: middle;\n",
       "    }\n",
       "\n",
       "    .dataframe tbody tr th {\n",
       "        vertical-align: top;\n",
       "    }\n",
       "\n",
       "    .dataframe thead th {\n",
       "        text-align: right;\n",
       "    }\n",
       "</style>\n",
       "<table border=\"1\" class=\"dataframe\">\n",
       "  <thead>\n",
       "    <tr style=\"text-align: right;\">\n",
       "      <th></th>\n",
       "      <th>fixed acidity</th>\n",
       "      <th>volatile acidity</th>\n",
       "      <th>citric acid</th>\n",
       "      <th>residual sugar</th>\n",
       "      <th>chlorides</th>\n",
       "      <th>free sulfur dioxide</th>\n",
       "      <th>total sulfur dioxide</th>\n",
       "      <th>density</th>\n",
       "      <th>pH</th>\n",
       "      <th>sulphates</th>\n",
       "      <th>alcohol</th>\n",
       "    </tr>\n",
       "  </thead>\n",
       "  <tbody>\n",
       "    <tr>\n",
       "      <th>1</th>\n",
       "      <td>0.290909</td>\n",
       "      <td>0.628099</td>\n",
       "      <td>0.00</td>\n",
       "      <td>0.116438</td>\n",
       "      <td>0.143573</td>\n",
       "      <td>0.338028</td>\n",
       "      <td>0.215548</td>\n",
       "      <td>0.494126</td>\n",
       "      <td>0.362205</td>\n",
       "      <td>0.209581</td>\n",
       "      <td>0.250000</td>\n",
       "    </tr>\n",
       "    <tr>\n",
       "      <th>9</th>\n",
       "      <td>0.263636</td>\n",
       "      <td>0.314050</td>\n",
       "      <td>0.36</td>\n",
       "      <td>0.356164</td>\n",
       "      <td>0.098497</td>\n",
       "      <td>0.225352</td>\n",
       "      <td>0.339223</td>\n",
       "      <td>0.567548</td>\n",
       "      <td>0.480315</td>\n",
       "      <td>0.281437</td>\n",
       "      <td>0.375000</td>\n",
       "    </tr>\n",
       "    <tr>\n",
       "      <th>10</th>\n",
       "      <td>0.190909</td>\n",
       "      <td>0.380165</td>\n",
       "      <td>0.08</td>\n",
       "      <td>0.061644</td>\n",
       "      <td>0.141903</td>\n",
       "      <td>0.197183</td>\n",
       "      <td>0.208481</td>\n",
       "      <td>0.428047</td>\n",
       "      <td>0.425197</td>\n",
       "      <td>0.125749</td>\n",
       "      <td>0.142857</td>\n",
       "    </tr>\n",
       "    <tr>\n",
       "      <th>16</th>\n",
       "      <td>0.354545</td>\n",
       "      <td>0.132231</td>\n",
       "      <td>0.56</td>\n",
       "      <td>0.061644</td>\n",
       "      <td>0.133556</td>\n",
       "      <td>0.478873</td>\n",
       "      <td>0.342756</td>\n",
       "      <td>0.501468</td>\n",
       "      <td>0.440945</td>\n",
       "      <td>0.251497</td>\n",
       "      <td>0.375000</td>\n",
       "    </tr>\n",
       "    <tr>\n",
       "      <th>17</th>\n",
       "      <td>0.318182</td>\n",
       "      <td>0.363636</td>\n",
       "      <td>0.28</td>\n",
       "      <td>0.054795</td>\n",
       "      <td>0.594324</td>\n",
       "      <td>0.211268</td>\n",
       "      <td>0.176678</td>\n",
       "      <td>0.494126</td>\n",
       "      <td>0.291339</td>\n",
       "      <td>0.568862</td>\n",
       "      <td>0.160714</td>\n",
       "    </tr>\n",
       "    <tr>\n",
       "      <th>...</th>\n",
       "      <td>...</td>\n",
       "      <td>...</td>\n",
       "      <td>...</td>\n",
       "      <td>...</td>\n",
       "      <td>...</td>\n",
       "      <td>...</td>\n",
       "      <td>...</td>\n",
       "      <td>...</td>\n",
       "      <td>...</td>\n",
       "      <td>...</td>\n",
       "      <td>...</td>\n",
       "    </tr>\n",
       "    <tr>\n",
       "      <th>1581</th>\n",
       "      <td>0.145455</td>\n",
       "      <td>0.363636</td>\n",
       "      <td>0.09</td>\n",
       "      <td>0.054795</td>\n",
       "      <td>0.068447</td>\n",
       "      <td>0.323944</td>\n",
       "      <td>0.091873</td>\n",
       "      <td>0.290015</td>\n",
       "      <td>0.629921</td>\n",
       "      <td>0.161677</td>\n",
       "      <td>0.517857</td>\n",
       "    </tr>\n",
       "    <tr>\n",
       "      <th>1582</th>\n",
       "      <td>0.136364</td>\n",
       "      <td>0.491736</td>\n",
       "      <td>0.10</td>\n",
       "      <td>0.116438</td>\n",
       "      <td>0.068447</td>\n",
       "      <td>0.169014</td>\n",
       "      <td>0.074205</td>\n",
       "      <td>0.260646</td>\n",
       "      <td>0.653543</td>\n",
       "      <td>0.101796</td>\n",
       "      <td>0.625000</td>\n",
       "    </tr>\n",
       "    <tr>\n",
       "      <th>1587</th>\n",
       "      <td>0.109091</td>\n",
       "      <td>0.404959</td>\n",
       "      <td>0.11</td>\n",
       "      <td>0.061644</td>\n",
       "      <td>0.090150</td>\n",
       "      <td>0.239437</td>\n",
       "      <td>0.077739</td>\n",
       "      <td>0.349486</td>\n",
       "      <td>0.637795</td>\n",
       "      <td>0.197605</td>\n",
       "      <td>0.446429</td>\n",
       "    </tr>\n",
       "    <tr>\n",
       "      <th>1588</th>\n",
       "      <td>0.236364</td>\n",
       "      <td>0.446281</td>\n",
       "      <td>0.33</td>\n",
       "      <td>0.109589</td>\n",
       "      <td>0.093489</td>\n",
       "      <td>0.464789</td>\n",
       "      <td>0.339223</td>\n",
       "      <td>0.298825</td>\n",
       "      <td>0.417323</td>\n",
       "      <td>0.269461</td>\n",
       "      <td>0.785714</td>\n",
       "    </tr>\n",
       "    <tr>\n",
       "      <th>1591</th>\n",
       "      <td>0.072727</td>\n",
       "      <td>0.512397</td>\n",
       "      <td>0.09</td>\n",
       "      <td>0.054795</td>\n",
       "      <td>0.128548</td>\n",
       "      <td>0.211268</td>\n",
       "      <td>0.070671</td>\n",
       "      <td>0.290015</td>\n",
       "      <td>0.732283</td>\n",
       "      <td>0.137725</td>\n",
       "      <td>0.571429</td>\n",
       "    </tr>\n",
       "  </tbody>\n",
       "</table>\n",
       "<p>480 rows × 11 columns</p>\n",
       "</div>"
      ],
      "text/plain": [
       "      fixed acidity  volatile acidity  citric acid  residual sugar  chlorides  \\\n",
       "1          0.290909          0.628099         0.00        0.116438   0.143573   \n",
       "9          0.263636          0.314050         0.36        0.356164   0.098497   \n",
       "10         0.190909          0.380165         0.08        0.061644   0.141903   \n",
       "16         0.354545          0.132231         0.56        0.061644   0.133556   \n",
       "17         0.318182          0.363636         0.28        0.054795   0.594324   \n",
       "...             ...               ...          ...             ...        ...   \n",
       "1581       0.145455          0.363636         0.09        0.054795   0.068447   \n",
       "1582       0.136364          0.491736         0.10        0.116438   0.068447   \n",
       "1587       0.109091          0.404959         0.11        0.061644   0.090150   \n",
       "1588       0.236364          0.446281         0.33        0.109589   0.093489   \n",
       "1591       0.072727          0.512397         0.09        0.054795   0.128548   \n",
       "\n",
       "      free sulfur dioxide  total sulfur dioxide   density        pH  \\\n",
       "1                0.338028              0.215548  0.494126  0.362205   \n",
       "9                0.225352              0.339223  0.567548  0.480315   \n",
       "10               0.197183              0.208481  0.428047  0.425197   \n",
       "16               0.478873              0.342756  0.501468  0.440945   \n",
       "17               0.211268              0.176678  0.494126  0.291339   \n",
       "...                   ...                   ...       ...       ...   \n",
       "1581             0.323944              0.091873  0.290015  0.629921   \n",
       "1582             0.169014              0.074205  0.260646  0.653543   \n",
       "1587             0.239437              0.077739  0.349486  0.637795   \n",
       "1588             0.464789              0.339223  0.298825  0.417323   \n",
       "1591             0.211268              0.070671  0.290015  0.732283   \n",
       "\n",
       "      sulphates   alcohol  \n",
       "1      0.209581  0.250000  \n",
       "9      0.281437  0.375000  \n",
       "10     0.125749  0.142857  \n",
       "16     0.251497  0.375000  \n",
       "17     0.568862  0.160714  \n",
       "...         ...       ...  \n",
       "1581   0.161677  0.517857  \n",
       "1582   0.101796  0.625000  \n",
       "1587   0.197605  0.446429  \n",
       "1588   0.269461  0.785714  \n",
       "1591   0.137725  0.571429  \n",
       "\n",
       "[480 rows x 11 columns]"
      ]
     },
     "execution_count": 39,
     "metadata": {},
     "output_type": "execute_result"
    }
   ],
   "source": [
    "df_test"
   ]
  },
  {
   "cell_type": "code",
   "execution_count": null,
   "id": "a2befa52",
   "metadata": {},
   "outputs": [],
   "source": [
    "\"\"\"\n",
    "y_train = red_wine['quality']\n",
    "y_test = red_wine['quality']\n",
    "\"\"\""
   ]
  },
  {
   "cell_type": "code",
   "execution_count": 40,
   "id": "f8ca66e2",
   "metadata": {},
   "outputs": [],
   "source": [
    "y_train=red_wine['quality'][df_train.index]\n",
    "y_test=red_wine['quality'][df_test.index]"
   ]
  },
  {
   "cell_type": "code",
   "execution_count": 60,
   "id": "0d3abe86",
   "metadata": {},
   "outputs": [],
   "source": [
    "from sklearn.preprocessing import OneHotEncoder"
   ]
  },
  {
   "cell_type": "code",
   "execution_count": 61,
   "id": "b653dad4",
   "metadata": {},
   "outputs": [],
   "source": [
    "ohe=OneHotEncoder()"
   ]
  },
  {
   "cell_type": "code",
   "execution_count": 71,
   "id": "cfd0542d",
   "metadata": {},
   "outputs": [
    {
     "data": {
      "text/html": [
       "<div>\n",
       "<style scoped>\n",
       "    .dataframe tbody tr th:only-of-type {\n",
       "        vertical-align: middle;\n",
       "    }\n",
       "\n",
       "    .dataframe tbody tr th {\n",
       "        vertical-align: top;\n",
       "    }\n",
       "\n",
       "    .dataframe thead th {\n",
       "        text-align: right;\n",
       "    }\n",
       "</style>\n",
       "<table border=\"1\" class=\"dataframe\">\n",
       "  <thead>\n",
       "    <tr style=\"text-align: right;\">\n",
       "      <th></th>\n",
       "      <th>3</th>\n",
       "      <th>4</th>\n",
       "      <th>5</th>\n",
       "      <th>6</th>\n",
       "      <th>7</th>\n",
       "      <th>8</th>\n",
       "    </tr>\n",
       "  </thead>\n",
       "  <tbody>\n",
       "    <tr>\n",
       "      <th>0</th>\n",
       "      <td>0</td>\n",
       "      <td>0</td>\n",
       "      <td>1</td>\n",
       "      <td>0</td>\n",
       "      <td>0</td>\n",
       "      <td>0</td>\n",
       "    </tr>\n",
       "    <tr>\n",
       "      <th>1</th>\n",
       "      <td>0</td>\n",
       "      <td>0</td>\n",
       "      <td>1</td>\n",
       "      <td>0</td>\n",
       "      <td>0</td>\n",
       "      <td>0</td>\n",
       "    </tr>\n",
       "    <tr>\n",
       "      <th>2</th>\n",
       "      <td>0</td>\n",
       "      <td>0</td>\n",
       "      <td>1</td>\n",
       "      <td>0</td>\n",
       "      <td>0</td>\n",
       "      <td>0</td>\n",
       "    </tr>\n",
       "    <tr>\n",
       "      <th>3</th>\n",
       "      <td>0</td>\n",
       "      <td>0</td>\n",
       "      <td>0</td>\n",
       "      <td>1</td>\n",
       "      <td>0</td>\n",
       "      <td>0</td>\n",
       "    </tr>\n",
       "    <tr>\n",
       "      <th>4</th>\n",
       "      <td>0</td>\n",
       "      <td>0</td>\n",
       "      <td>1</td>\n",
       "      <td>0</td>\n",
       "      <td>0</td>\n",
       "      <td>0</td>\n",
       "    </tr>\n",
       "    <tr>\n",
       "      <th>...</th>\n",
       "      <td>...</td>\n",
       "      <td>...</td>\n",
       "      <td>...</td>\n",
       "      <td>...</td>\n",
       "      <td>...</td>\n",
       "      <td>...</td>\n",
       "    </tr>\n",
       "    <tr>\n",
       "      <th>1594</th>\n",
       "      <td>0</td>\n",
       "      <td>0</td>\n",
       "      <td>1</td>\n",
       "      <td>0</td>\n",
       "      <td>0</td>\n",
       "      <td>0</td>\n",
       "    </tr>\n",
       "    <tr>\n",
       "      <th>1595</th>\n",
       "      <td>0</td>\n",
       "      <td>0</td>\n",
       "      <td>0</td>\n",
       "      <td>1</td>\n",
       "      <td>0</td>\n",
       "      <td>0</td>\n",
       "    </tr>\n",
       "    <tr>\n",
       "      <th>1596</th>\n",
       "      <td>0</td>\n",
       "      <td>0</td>\n",
       "      <td>0</td>\n",
       "      <td>1</td>\n",
       "      <td>0</td>\n",
       "      <td>0</td>\n",
       "    </tr>\n",
       "    <tr>\n",
       "      <th>1597</th>\n",
       "      <td>0</td>\n",
       "      <td>0</td>\n",
       "      <td>1</td>\n",
       "      <td>0</td>\n",
       "      <td>0</td>\n",
       "      <td>0</td>\n",
       "    </tr>\n",
       "    <tr>\n",
       "      <th>1598</th>\n",
       "      <td>0</td>\n",
       "      <td>0</td>\n",
       "      <td>0</td>\n",
       "      <td>1</td>\n",
       "      <td>0</td>\n",
       "      <td>0</td>\n",
       "    </tr>\n",
       "  </tbody>\n",
       "</table>\n",
       "<p>1599 rows × 6 columns</p>\n",
       "</div>"
      ],
      "text/plain": [
       "      3  4  5  6  7  8\n",
       "0     0  0  1  0  0  0\n",
       "1     0  0  1  0  0  0\n",
       "2     0  0  1  0  0  0\n",
       "3     0  0  0  1  0  0\n",
       "4     0  0  1  0  0  0\n",
       "...  .. .. .. .. .. ..\n",
       "1594  0  0  1  0  0  0\n",
       "1595  0  0  0  1  0  0\n",
       "1596  0  0  0  1  0  0\n",
       "1597  0  0  1  0  0  0\n",
       "1598  0  0  0  1  0  0\n",
       "\n",
       "[1599 rows x 6 columns]"
      ]
     },
     "execution_count": 71,
     "metadata": {},
     "output_type": "execute_result"
    }
   ],
   "source": [
    "pd.get_dummies(red_wine['quality'])"
   ]
  },
  {
   "cell_type": "code",
   "execution_count": 65,
   "id": "a7b6b9a1",
   "metadata": {},
   "outputs": [],
   "source": [
    "y_test_ohe=ohe.fit_transform([y_test])"
   ]
  },
  {
   "cell_type": "code",
   "execution_count": 66,
   "id": "f732dd42",
   "metadata": {},
   "outputs": [
    {
     "data": {
      "text/plain": [
       "<1x480 sparse matrix of type '<class 'numpy.float64'>'\n",
       "\twith 480 stored elements in Compressed Sparse Row format>"
      ]
     },
     "execution_count": 66,
     "metadata": {},
     "output_type": "execute_result"
    }
   ],
   "source": [
    "y_test_ohe"
   ]
  },
  {
   "cell_type": "code",
   "execution_count": 42,
   "id": "ad105b77",
   "metadata": {},
   "outputs": [
    {
     "data": {
      "text/plain": [
       "1       5\n",
       "9       5\n",
       "10      5\n",
       "16      7\n",
       "17      5\n",
       "       ..\n",
       "1581    5\n",
       "1582    5\n",
       "1587    6\n",
       "1588    6\n",
       "1591    6\n",
       "Name: quality, Length: 480, dtype: int64"
      ]
     },
     "execution_count": 42,
     "metadata": {},
     "output_type": "execute_result"
    }
   ],
   "source": [
    "y_train\n",
    "y_test"
   ]
  },
  {
   "cell_type": "code",
   "execution_count": null,
   "id": "5a4eff4b",
   "metadata": {},
   "outputs": [],
   "source": []
  },
  {
   "cell_type": "code",
   "execution_count": null,
   "id": "473c1b08",
   "metadata": {},
   "outputs": [],
   "source": [
    "# 품질 : 0~10까지 부여\n",
    "# 범주형 : 원핫인코딩"
   ]
  },
  {
   "cell_type": "code",
   "execution_count": 54,
   "id": "8942687d",
   "metadata": {},
   "outputs": [],
   "source": [
    "model=keras.Sequential([\n",
    "    layers.Dense(512, activation='relu', input_shape=[11]),\n",
    "    layers.Dense(512, activation='relu'),\n",
    "    layers.Dense(512, activation='relu'),\n",
    "    layers.Dense(11, activation='softmax')    \n",
    "    #layers.Dense(1)    \n",
    "    \n",
    "])"
   ]
  },
  {
   "cell_type": "code",
   "execution_count": 56,
   "id": "7bdabd8a",
   "metadata": {},
   "outputs": [],
   "source": [
    "model.compile(\n",
    "    optimizer='adam',\n",
    "    loss='mae',\n",
    ")"
   ]
  },
  {
   "cell_type": "code",
   "execution_count": 57,
   "id": "58a60867",
   "metadata": {},
   "outputs": [
    {
     "data": {
      "text/plain": [
       "34.96875"
      ]
     },
     "execution_count": 57,
     "metadata": {},
     "output_type": "execute_result"
    }
   ],
   "source": [
    "1119/32"
   ]
  },
  {
   "cell_type": "code",
   "execution_count": 58,
   "id": "c51c4d12",
   "metadata": {
    "scrolled": true
   },
   "outputs": [
    {
     "name": "stdout",
     "output_type": "stream",
     "text": [
      "Epoch 1/10\n",
      "35/35 [==============================] - 1s 6ms/step - loss: 5.5257\n",
      "Epoch 2/10\n",
      "35/35 [==============================] - 0s 6ms/step - loss: 5.5257\n",
      "Epoch 3/10\n",
      "35/35 [==============================] - 0s 6ms/step - loss: 5.5257\n",
      "Epoch 4/10\n",
      "35/35 [==============================] - 0s 5ms/step - loss: 5.5257\n",
      "Epoch 5/10\n",
      "35/35 [==============================] - 0s 6ms/step - loss: 5.5257\n",
      "Epoch 6/10\n",
      "35/35 [==============================] - 0s 6ms/step - loss: 5.5257\n",
      "Epoch 7/10\n",
      "35/35 [==============================] - 0s 5ms/step - loss: 5.5257\n",
      "Epoch 8/10\n",
      "35/35 [==============================] - 0s 5ms/step - loss: 5.5257\n",
      "Epoch 9/10\n",
      "35/35 [==============================] - 0s 5ms/step - loss: 5.5257\n",
      "Epoch 10/10\n",
      "35/35 [==============================] - 0s 6ms/step - loss: 5.5257\n"
     ]
    },
    {
     "data": {
      "text/plain": [
       "<keras.src.callbacks.History at 0x210774ea950>"
      ]
     },
     "execution_count": 58,
     "metadata": {},
     "output_type": "execute_result"
    }
   ],
   "source": [
    "model.fit( #batch_size=32\n",
    "df_train, y_train, epochs=10\n",
    ")"
   ]
  },
  {
   "cell_type": "code",
   "execution_count": 59,
   "id": "eff58432",
   "metadata": {
    "scrolled": false
   },
   "outputs": [
    {
     "name": "stdout",
     "output_type": "stream",
     "text": [
      "15/15 [==============================] - 0s 1ms/step\n"
     ]
    },
    {
     "data": {
      "text/plain": [
       "array([[0.09324222, 0.08806416, 0.08960897, ..., 0.08757245, 0.09238477,\n",
       "        0.09291639],\n",
       "       [0.0941472 , 0.08837518, 0.08966232, ..., 0.08557256, 0.09540879,\n",
       "        0.0933256 ],\n",
       "       [0.09284679, 0.08907533, 0.09004882, ..., 0.08791555, 0.09284938,\n",
       "        0.09177317],\n",
       "       ...,\n",
       "       [0.09339609, 0.08882844, 0.09050213, ..., 0.0886004 , 0.09203637,\n",
       "        0.09162564],\n",
       "       [0.0931022 , 0.087494  , 0.09214681, ..., 0.08777916, 0.09313267,\n",
       "        0.0933551 ],\n",
       "       [0.09305763, 0.08837266, 0.09106877, ..., 0.08877297, 0.0908631 ,\n",
       "        0.09198119]], dtype=float32)"
      ]
     },
     "execution_count": 59,
     "metadata": {},
     "output_type": "execute_result"
    }
   ],
   "source": [
    "model.predict(df_test)"
   ]
  },
  {
   "cell_type": "code",
   "execution_count": 52,
   "id": "951e804a",
   "metadata": {},
   "outputs": [
    {
     "data": {
      "text/plain": [
       "1       5\n",
       "9       5\n",
       "10      5\n",
       "16      7\n",
       "17      5\n",
       "       ..\n",
       "1581    5\n",
       "1582    5\n",
       "1587    6\n",
       "1588    6\n",
       "1591    6\n",
       "Name: quality, Length: 480, dtype: int64"
      ]
     },
     "execution_count": 52,
     "metadata": {},
     "output_type": "execute_result"
    }
   ],
   "source": [
    "y_test"
   ]
  },
  {
   "cell_type": "code",
   "execution_count": 50,
   "id": "869f8076",
   "metadata": {},
   "outputs": [
    {
     "data": {
      "text/html": [
       "<div>\n",
       "<style scoped>\n",
       "    .dataframe tbody tr th:only-of-type {\n",
       "        vertical-align: middle;\n",
       "    }\n",
       "\n",
       "    .dataframe tbody tr th {\n",
       "        vertical-align: top;\n",
       "    }\n",
       "\n",
       "    .dataframe thead th {\n",
       "        text-align: right;\n",
       "    }\n",
       "</style>\n",
       "<table border=\"1\" class=\"dataframe\">\n",
       "  <thead>\n",
       "    <tr style=\"text-align: right;\">\n",
       "      <th></th>\n",
       "      <th>fixed acidity</th>\n",
       "      <th>volatile acidity</th>\n",
       "      <th>citric acid</th>\n",
       "      <th>residual sugar</th>\n",
       "      <th>chlorides</th>\n",
       "      <th>free sulfur dioxide</th>\n",
       "      <th>total sulfur dioxide</th>\n",
       "      <th>density</th>\n",
       "      <th>pH</th>\n",
       "      <th>sulphates</th>\n",
       "      <th>alcohol</th>\n",
       "    </tr>\n",
       "  </thead>\n",
       "  <tbody>\n",
       "    <tr>\n",
       "      <th>1</th>\n",
       "      <td>0.290909</td>\n",
       "      <td>0.628099</td>\n",
       "      <td>0.00</td>\n",
       "      <td>0.116438</td>\n",
       "      <td>0.143573</td>\n",
       "      <td>0.338028</td>\n",
       "      <td>0.215548</td>\n",
       "      <td>0.494126</td>\n",
       "      <td>0.362205</td>\n",
       "      <td>0.209581</td>\n",
       "      <td>0.250000</td>\n",
       "    </tr>\n",
       "    <tr>\n",
       "      <th>9</th>\n",
       "      <td>0.263636</td>\n",
       "      <td>0.314050</td>\n",
       "      <td>0.36</td>\n",
       "      <td>0.356164</td>\n",
       "      <td>0.098497</td>\n",
       "      <td>0.225352</td>\n",
       "      <td>0.339223</td>\n",
       "      <td>0.567548</td>\n",
       "      <td>0.480315</td>\n",
       "      <td>0.281437</td>\n",
       "      <td>0.375000</td>\n",
       "    </tr>\n",
       "    <tr>\n",
       "      <th>10</th>\n",
       "      <td>0.190909</td>\n",
       "      <td>0.380165</td>\n",
       "      <td>0.08</td>\n",
       "      <td>0.061644</td>\n",
       "      <td>0.141903</td>\n",
       "      <td>0.197183</td>\n",
       "      <td>0.208481</td>\n",
       "      <td>0.428047</td>\n",
       "      <td>0.425197</td>\n",
       "      <td>0.125749</td>\n",
       "      <td>0.142857</td>\n",
       "    </tr>\n",
       "    <tr>\n",
       "      <th>16</th>\n",
       "      <td>0.354545</td>\n",
       "      <td>0.132231</td>\n",
       "      <td>0.56</td>\n",
       "      <td>0.061644</td>\n",
       "      <td>0.133556</td>\n",
       "      <td>0.478873</td>\n",
       "      <td>0.342756</td>\n",
       "      <td>0.501468</td>\n",
       "      <td>0.440945</td>\n",
       "      <td>0.251497</td>\n",
       "      <td>0.375000</td>\n",
       "    </tr>\n",
       "    <tr>\n",
       "      <th>17</th>\n",
       "      <td>0.318182</td>\n",
       "      <td>0.363636</td>\n",
       "      <td>0.28</td>\n",
       "      <td>0.054795</td>\n",
       "      <td>0.594324</td>\n",
       "      <td>0.211268</td>\n",
       "      <td>0.176678</td>\n",
       "      <td>0.494126</td>\n",
       "      <td>0.291339</td>\n",
       "      <td>0.568862</td>\n",
       "      <td>0.160714</td>\n",
       "    </tr>\n",
       "    <tr>\n",
       "      <th>...</th>\n",
       "      <td>...</td>\n",
       "      <td>...</td>\n",
       "      <td>...</td>\n",
       "      <td>...</td>\n",
       "      <td>...</td>\n",
       "      <td>...</td>\n",
       "      <td>...</td>\n",
       "      <td>...</td>\n",
       "      <td>...</td>\n",
       "      <td>...</td>\n",
       "      <td>...</td>\n",
       "    </tr>\n",
       "    <tr>\n",
       "      <th>1581</th>\n",
       "      <td>0.145455</td>\n",
       "      <td>0.363636</td>\n",
       "      <td>0.09</td>\n",
       "      <td>0.054795</td>\n",
       "      <td>0.068447</td>\n",
       "      <td>0.323944</td>\n",
       "      <td>0.091873</td>\n",
       "      <td>0.290015</td>\n",
       "      <td>0.629921</td>\n",
       "      <td>0.161677</td>\n",
       "      <td>0.517857</td>\n",
       "    </tr>\n",
       "    <tr>\n",
       "      <th>1582</th>\n",
       "      <td>0.136364</td>\n",
       "      <td>0.491736</td>\n",
       "      <td>0.10</td>\n",
       "      <td>0.116438</td>\n",
       "      <td>0.068447</td>\n",
       "      <td>0.169014</td>\n",
       "      <td>0.074205</td>\n",
       "      <td>0.260646</td>\n",
       "      <td>0.653543</td>\n",
       "      <td>0.101796</td>\n",
       "      <td>0.625000</td>\n",
       "    </tr>\n",
       "    <tr>\n",
       "      <th>1587</th>\n",
       "      <td>0.109091</td>\n",
       "      <td>0.404959</td>\n",
       "      <td>0.11</td>\n",
       "      <td>0.061644</td>\n",
       "      <td>0.090150</td>\n",
       "      <td>0.239437</td>\n",
       "      <td>0.077739</td>\n",
       "      <td>0.349486</td>\n",
       "      <td>0.637795</td>\n",
       "      <td>0.197605</td>\n",
       "      <td>0.446429</td>\n",
       "    </tr>\n",
       "    <tr>\n",
       "      <th>1588</th>\n",
       "      <td>0.236364</td>\n",
       "      <td>0.446281</td>\n",
       "      <td>0.33</td>\n",
       "      <td>0.109589</td>\n",
       "      <td>0.093489</td>\n",
       "      <td>0.464789</td>\n",
       "      <td>0.339223</td>\n",
       "      <td>0.298825</td>\n",
       "      <td>0.417323</td>\n",
       "      <td>0.269461</td>\n",
       "      <td>0.785714</td>\n",
       "    </tr>\n",
       "    <tr>\n",
       "      <th>1591</th>\n",
       "      <td>0.072727</td>\n",
       "      <td>0.512397</td>\n",
       "      <td>0.09</td>\n",
       "      <td>0.054795</td>\n",
       "      <td>0.128548</td>\n",
       "      <td>0.211268</td>\n",
       "      <td>0.070671</td>\n",
       "      <td>0.290015</td>\n",
       "      <td>0.732283</td>\n",
       "      <td>0.137725</td>\n",
       "      <td>0.571429</td>\n",
       "    </tr>\n",
       "  </tbody>\n",
       "</table>\n",
       "<p>480 rows × 11 columns</p>\n",
       "</div>"
      ],
      "text/plain": [
       "      fixed acidity  volatile acidity  citric acid  residual sugar  chlorides  \\\n",
       "1          0.290909          0.628099         0.00        0.116438   0.143573   \n",
       "9          0.263636          0.314050         0.36        0.356164   0.098497   \n",
       "10         0.190909          0.380165         0.08        0.061644   0.141903   \n",
       "16         0.354545          0.132231         0.56        0.061644   0.133556   \n",
       "17         0.318182          0.363636         0.28        0.054795   0.594324   \n",
       "...             ...               ...          ...             ...        ...   \n",
       "1581       0.145455          0.363636         0.09        0.054795   0.068447   \n",
       "1582       0.136364          0.491736         0.10        0.116438   0.068447   \n",
       "1587       0.109091          0.404959         0.11        0.061644   0.090150   \n",
       "1588       0.236364          0.446281         0.33        0.109589   0.093489   \n",
       "1591       0.072727          0.512397         0.09        0.054795   0.128548   \n",
       "\n",
       "      free sulfur dioxide  total sulfur dioxide   density        pH  \\\n",
       "1                0.338028              0.215548  0.494126  0.362205   \n",
       "9                0.225352              0.339223  0.567548  0.480315   \n",
       "10               0.197183              0.208481  0.428047  0.425197   \n",
       "16               0.478873              0.342756  0.501468  0.440945   \n",
       "17               0.211268              0.176678  0.494126  0.291339   \n",
       "...                   ...                   ...       ...       ...   \n",
       "1581             0.323944              0.091873  0.290015  0.629921   \n",
       "1582             0.169014              0.074205  0.260646  0.653543   \n",
       "1587             0.239437              0.077739  0.349486  0.637795   \n",
       "1588             0.464789              0.339223  0.298825  0.417323   \n",
       "1591             0.211268              0.070671  0.290015  0.732283   \n",
       "\n",
       "      sulphates   alcohol  \n",
       "1      0.209581  0.250000  \n",
       "9      0.281437  0.375000  \n",
       "10     0.125749  0.142857  \n",
       "16     0.251497  0.375000  \n",
       "17     0.568862  0.160714  \n",
       "...         ...       ...  \n",
       "1581   0.161677  0.517857  \n",
       "1582   0.101796  0.625000  \n",
       "1587   0.197605  0.446429  \n",
       "1588   0.269461  0.785714  \n",
       "1591   0.137725  0.571429  \n",
       "\n",
       "[480 rows x 11 columns]"
      ]
     },
     "execution_count": 50,
     "metadata": {},
     "output_type": "execute_result"
    }
   ],
   "source": [
    "df_test"
   ]
  },
  {
   "cell_type": "code",
   "execution_count": null,
   "id": "b86e16ef",
   "metadata": {},
   "outputs": [],
   "source": []
  },
  {
   "cell_type": "code",
   "execution_count": 72,
   "id": "6cae53d4",
   "metadata": {},
   "outputs": [
    {
     "data": {
      "text/html": [
       "<div>\n",
       "<style scoped>\n",
       "    .dataframe tbody tr th:only-of-type {\n",
       "        vertical-align: middle;\n",
       "    }\n",
       "\n",
       "    .dataframe tbody tr th {\n",
       "        vertical-align: top;\n",
       "    }\n",
       "\n",
       "    .dataframe thead th {\n",
       "        text-align: right;\n",
       "    }\n",
       "</style>\n",
       "<table border=\"1\" class=\"dataframe\">\n",
       "  <thead>\n",
       "    <tr style=\"text-align: right;\">\n",
       "      <th></th>\n",
       "      <th>Pregnancies</th>\n",
       "      <th>Glucose</th>\n",
       "      <th>BloodPressure</th>\n",
       "      <th>SkinThickness</th>\n",
       "      <th>Insulin</th>\n",
       "      <th>BMI</th>\n",
       "      <th>DiabetesPedigreeFunction</th>\n",
       "      <th>Age</th>\n",
       "      <th>Outcome</th>\n",
       "    </tr>\n",
       "  </thead>\n",
       "  <tbody>\n",
       "    <tr>\n",
       "      <th>0</th>\n",
       "      <td>6</td>\n",
       "      <td>148</td>\n",
       "      <td>72</td>\n",
       "      <td>35</td>\n",
       "      <td>0</td>\n",
       "      <td>33.6</td>\n",
       "      <td>0.627</td>\n",
       "      <td>50</td>\n",
       "      <td>1</td>\n",
       "    </tr>\n",
       "    <tr>\n",
       "      <th>1</th>\n",
       "      <td>1</td>\n",
       "      <td>85</td>\n",
       "      <td>66</td>\n",
       "      <td>29</td>\n",
       "      <td>0</td>\n",
       "      <td>26.6</td>\n",
       "      <td>0.351</td>\n",
       "      <td>31</td>\n",
       "      <td>0</td>\n",
       "    </tr>\n",
       "    <tr>\n",
       "      <th>2</th>\n",
       "      <td>8</td>\n",
       "      <td>183</td>\n",
       "      <td>64</td>\n",
       "      <td>0</td>\n",
       "      <td>0</td>\n",
       "      <td>23.3</td>\n",
       "      <td>0.672</td>\n",
       "      <td>32</td>\n",
       "      <td>1</td>\n",
       "    </tr>\n",
       "    <tr>\n",
       "      <th>3</th>\n",
       "      <td>1</td>\n",
       "      <td>89</td>\n",
       "      <td>66</td>\n",
       "      <td>23</td>\n",
       "      <td>94</td>\n",
       "      <td>28.1</td>\n",
       "      <td>0.167</td>\n",
       "      <td>21</td>\n",
       "      <td>0</td>\n",
       "    </tr>\n",
       "    <tr>\n",
       "      <th>4</th>\n",
       "      <td>0</td>\n",
       "      <td>137</td>\n",
       "      <td>40</td>\n",
       "      <td>35</td>\n",
       "      <td>168</td>\n",
       "      <td>43.1</td>\n",
       "      <td>2.288</td>\n",
       "      <td>33</td>\n",
       "      <td>1</td>\n",
       "    </tr>\n",
       "    <tr>\n",
       "      <th>...</th>\n",
       "      <td>...</td>\n",
       "      <td>...</td>\n",
       "      <td>...</td>\n",
       "      <td>...</td>\n",
       "      <td>...</td>\n",
       "      <td>...</td>\n",
       "      <td>...</td>\n",
       "      <td>...</td>\n",
       "      <td>...</td>\n",
       "    </tr>\n",
       "    <tr>\n",
       "      <th>763</th>\n",
       "      <td>10</td>\n",
       "      <td>101</td>\n",
       "      <td>76</td>\n",
       "      <td>48</td>\n",
       "      <td>180</td>\n",
       "      <td>32.9</td>\n",
       "      <td>0.171</td>\n",
       "      <td>63</td>\n",
       "      <td>0</td>\n",
       "    </tr>\n",
       "    <tr>\n",
       "      <th>764</th>\n",
       "      <td>2</td>\n",
       "      <td>122</td>\n",
       "      <td>70</td>\n",
       "      <td>27</td>\n",
       "      <td>0</td>\n",
       "      <td>36.8</td>\n",
       "      <td>0.340</td>\n",
       "      <td>27</td>\n",
       "      <td>0</td>\n",
       "    </tr>\n",
       "    <tr>\n",
       "      <th>765</th>\n",
       "      <td>5</td>\n",
       "      <td>121</td>\n",
       "      <td>72</td>\n",
       "      <td>23</td>\n",
       "      <td>112</td>\n",
       "      <td>26.2</td>\n",
       "      <td>0.245</td>\n",
       "      <td>30</td>\n",
       "      <td>0</td>\n",
       "    </tr>\n",
       "    <tr>\n",
       "      <th>766</th>\n",
       "      <td>1</td>\n",
       "      <td>126</td>\n",
       "      <td>60</td>\n",
       "      <td>0</td>\n",
       "      <td>0</td>\n",
       "      <td>30.1</td>\n",
       "      <td>0.349</td>\n",
       "      <td>47</td>\n",
       "      <td>1</td>\n",
       "    </tr>\n",
       "    <tr>\n",
       "      <th>767</th>\n",
       "      <td>1</td>\n",
       "      <td>93</td>\n",
       "      <td>70</td>\n",
       "      <td>31</td>\n",
       "      <td>0</td>\n",
       "      <td>30.4</td>\n",
       "      <td>0.315</td>\n",
       "      <td>23</td>\n",
       "      <td>0</td>\n",
       "    </tr>\n",
       "  </tbody>\n",
       "</table>\n",
       "<p>768 rows × 9 columns</p>\n",
       "</div>"
      ],
      "text/plain": [
       "     Pregnancies  Glucose  BloodPressure  SkinThickness  Insulin   BMI  \\\n",
       "0              6      148             72             35        0  33.6   \n",
       "1              1       85             66             29        0  26.6   \n",
       "2              8      183             64              0        0  23.3   \n",
       "3              1       89             66             23       94  28.1   \n",
       "4              0      137             40             35      168  43.1   \n",
       "..           ...      ...            ...            ...      ...   ...   \n",
       "763           10      101             76             48      180  32.9   \n",
       "764            2      122             70             27        0  36.8   \n",
       "765            5      121             72             23      112  26.2   \n",
       "766            1      126             60              0        0  30.1   \n",
       "767            1       93             70             31        0  30.4   \n",
       "\n",
       "     DiabetesPedigreeFunction  Age  Outcome  \n",
       "0                       0.627   50        1  \n",
       "1                       0.351   31        0  \n",
       "2                       0.672   32        1  \n",
       "3                       0.167   21        0  \n",
       "4                       2.288   33        1  \n",
       "..                        ...  ...      ...  \n",
       "763                     0.171   63        0  \n",
       "764                     0.340   27        0  \n",
       "765                     0.245   30        0  \n",
       "766                     0.349   47        1  \n",
       "767                     0.315   23        0  \n",
       "\n",
       "[768 rows x 9 columns]"
      ]
     },
     "execution_count": 72,
     "metadata": {},
     "output_type": "execute_result"
    }
   ],
   "source": [
    "df=pd.read_csv(\"diabetes.csv\")\n",
    "df"
   ]
  },
  {
   "cell_type": "code",
   "execution_count": 74,
   "id": "c2401d5c",
   "metadata": {},
   "outputs": [],
   "source": [
    "from tensorflow.keras.models import Sequential\n",
    "from tensorflow.keras.layers import Dense"
   ]
  },
  {
   "cell_type": "code",
   "execution_count": 73,
   "id": "b98db5f4",
   "metadata": {},
   "outputs": [],
   "source": [
    "x=df.iloc[:,0:8]\n",
    "y=df.iloc[:,8]"
   ]
  },
  {
   "cell_type": "code",
   "execution_count": 75,
   "id": "54de87a6",
   "metadata": {},
   "outputs": [],
   "source": [
    "model=Sequential()"
   ]
  },
  {
   "cell_type": "code",
   "execution_count": 76,
   "id": "b886f5ed",
   "metadata": {},
   "outputs": [],
   "source": [
    "model.add(Dense(12, input_dim=8, activation='relu'))\n",
    "model.add(Dense(8, activation='relu'))\n",
    "model.add(Dense(1, activation='sigmoid'))"
   ]
  },
  {
   "cell_type": "code",
   "execution_count": 77,
   "id": "63674dc8",
   "metadata": {},
   "outputs": [
    {
     "name": "stdout",
     "output_type": "stream",
     "text": [
      "Model: \"sequential_7\"\n",
      "_________________________________________________________________\n",
      " Layer (type)                Output Shape              Param #   \n",
      "=================================================================\n",
      " dense_21 (Dense)            (None, 12)                108       \n",
      "                                                                 \n",
      " dense_22 (Dense)            (None, 8)                 104       \n",
      "                                                                 \n",
      " dense_23 (Dense)            (None, 1)                 9         \n",
      "                                                                 \n",
      "=================================================================\n",
      "Total params: 221 (884.00 Byte)\n",
      "Trainable params: 221 (884.00 Byte)\n",
      "Non-trainable params: 0 (0.00 Byte)\n",
      "_________________________________________________________________\n"
     ]
    }
   ],
   "source": [
    "model.summary()"
   ]
  },
  {
   "cell_type": "code",
   "execution_count": 78,
   "id": "b0151d26",
   "metadata": {},
   "outputs": [],
   "source": [
    "model.compile(optimizer='adam', loss='binary_crossentropy', metrics=['accuracy'])"
   ]
  },
  {
   "cell_type": "code",
   "execution_count": 80,
   "id": "a6dbb16f",
   "metadata": {},
   "outputs": [
    {
     "name": "stdout",
     "output_type": "stream",
     "text": [
      "Epoch 1/10\n",
      "154/154 [==============================] - 1s 1ms/step - loss: 1.3090 - accuracy: 0.5404\n",
      "Epoch 2/10\n",
      "154/154 [==============================] - 0s 1ms/step - loss: 0.8305 - accuracy: 0.5794\n",
      "Epoch 3/10\n",
      "154/154 [==============================] - 0s 1ms/step - loss: 0.7753 - accuracy: 0.5885\n",
      "Epoch 4/10\n",
      "154/154 [==============================] - 0s 1ms/step - loss: 0.7310 - accuracy: 0.5977\n",
      "Epoch 5/10\n",
      "154/154 [==============================] - 0s 1ms/step - loss: 0.7005 - accuracy: 0.6302\n",
      "Epoch 6/10\n",
      "154/154 [==============================] - 0s 1ms/step - loss: 0.6801 - accuracy: 0.6628\n",
      "Epoch 7/10\n",
      "154/154 [==============================] - 0s 1ms/step - loss: 0.6693 - accuracy: 0.6471\n",
      "Epoch 8/10\n",
      "154/154 [==============================] - 0s 1ms/step - loss: 0.6367 - accuracy: 0.6615\n",
      "Epoch 9/10\n",
      "154/154 [==============================] - 0s 1ms/step - loss: 0.6246 - accuracy: 0.6875\n",
      "Epoch 10/10\n",
      "154/154 [==============================] - 0s 1ms/step - loss: 0.6261 - accuracy: 0.6901\n"
     ]
    },
    {
     "data": {
      "text/plain": [
       "<keras.src.callbacks.History at 0x2107c1747d0>"
      ]
     },
     "execution_count": 80,
     "metadata": {},
     "output_type": "execute_result"
    }
   ],
   "source": [
    "model.fit(x, y, epochs=10, batch_size=5)"
   ]
  },
  {
   "cell_type": "code",
   "execution_count": null,
   "id": "806dfbd6",
   "metadata": {},
   "outputs": [],
   "source": []
  },
  {
   "cell_type": "code",
   "execution_count": 81,
   "id": "756b1655",
   "metadata": {},
   "outputs": [],
   "source": [
    "df = pd.read_csv('iris3.csv')"
   ]
  },
  {
   "cell_type": "code",
   "execution_count": 82,
   "id": "891e075b",
   "metadata": {},
   "outputs": [
    {
     "data": {
      "text/html": [
       "<div>\n",
       "<style scoped>\n",
       "    .dataframe tbody tr th:only-of-type {\n",
       "        vertical-align: middle;\n",
       "    }\n",
       "\n",
       "    .dataframe tbody tr th {\n",
       "        vertical-align: top;\n",
       "    }\n",
       "\n",
       "    .dataframe thead th {\n",
       "        text-align: right;\n",
       "    }\n",
       "</style>\n",
       "<table border=\"1\" class=\"dataframe\">\n",
       "  <thead>\n",
       "    <tr style=\"text-align: right;\">\n",
       "      <th></th>\n",
       "      <th>sepal_length</th>\n",
       "      <th>sepal_width</th>\n",
       "      <th>petal_length</th>\n",
       "      <th>petal_width</th>\n",
       "      <th>species</th>\n",
       "    </tr>\n",
       "  </thead>\n",
       "  <tbody>\n",
       "    <tr>\n",
       "      <th>0</th>\n",
       "      <td>5.1</td>\n",
       "      <td>3.5</td>\n",
       "      <td>1.4</td>\n",
       "      <td>0.2</td>\n",
       "      <td>Iris-setosa</td>\n",
       "    </tr>\n",
       "    <tr>\n",
       "      <th>1</th>\n",
       "      <td>4.9</td>\n",
       "      <td>3.0</td>\n",
       "      <td>1.4</td>\n",
       "      <td>0.2</td>\n",
       "      <td>Iris-setosa</td>\n",
       "    </tr>\n",
       "    <tr>\n",
       "      <th>2</th>\n",
       "      <td>4.7</td>\n",
       "      <td>3.2</td>\n",
       "      <td>1.3</td>\n",
       "      <td>0.2</td>\n",
       "      <td>Iris-setosa</td>\n",
       "    </tr>\n",
       "    <tr>\n",
       "      <th>3</th>\n",
       "      <td>4.6</td>\n",
       "      <td>3.1</td>\n",
       "      <td>1.5</td>\n",
       "      <td>0.2</td>\n",
       "      <td>Iris-setosa</td>\n",
       "    </tr>\n",
       "    <tr>\n",
       "      <th>4</th>\n",
       "      <td>5.0</td>\n",
       "      <td>3.6</td>\n",
       "      <td>1.4</td>\n",
       "      <td>0.2</td>\n",
       "      <td>Iris-setosa</td>\n",
       "    </tr>\n",
       "    <tr>\n",
       "      <th>...</th>\n",
       "      <td>...</td>\n",
       "      <td>...</td>\n",
       "      <td>...</td>\n",
       "      <td>...</td>\n",
       "      <td>...</td>\n",
       "    </tr>\n",
       "    <tr>\n",
       "      <th>145</th>\n",
       "      <td>6.7</td>\n",
       "      <td>3.0</td>\n",
       "      <td>5.2</td>\n",
       "      <td>2.3</td>\n",
       "      <td>Iris-virginica</td>\n",
       "    </tr>\n",
       "    <tr>\n",
       "      <th>146</th>\n",
       "      <td>6.3</td>\n",
       "      <td>2.5</td>\n",
       "      <td>5.0</td>\n",
       "      <td>1.9</td>\n",
       "      <td>Iris-virginica</td>\n",
       "    </tr>\n",
       "    <tr>\n",
       "      <th>147</th>\n",
       "      <td>6.5</td>\n",
       "      <td>3.0</td>\n",
       "      <td>5.2</td>\n",
       "      <td>2.0</td>\n",
       "      <td>Iris-virginica</td>\n",
       "    </tr>\n",
       "    <tr>\n",
       "      <th>148</th>\n",
       "      <td>6.2</td>\n",
       "      <td>3.4</td>\n",
       "      <td>5.4</td>\n",
       "      <td>2.3</td>\n",
       "      <td>Iris-virginica</td>\n",
       "    </tr>\n",
       "    <tr>\n",
       "      <th>149</th>\n",
       "      <td>5.9</td>\n",
       "      <td>3.0</td>\n",
       "      <td>5.1</td>\n",
       "      <td>1.8</td>\n",
       "      <td>Iris-virginica</td>\n",
       "    </tr>\n",
       "  </tbody>\n",
       "</table>\n",
       "<p>150 rows × 5 columns</p>\n",
       "</div>"
      ],
      "text/plain": [
       "     sepal_length  sepal_width  petal_length  petal_width         species\n",
       "0             5.1          3.5           1.4          0.2     Iris-setosa\n",
       "1             4.9          3.0           1.4          0.2     Iris-setosa\n",
       "2             4.7          3.2           1.3          0.2     Iris-setosa\n",
       "3             4.6          3.1           1.5          0.2     Iris-setosa\n",
       "4             5.0          3.6           1.4          0.2     Iris-setosa\n",
       "..            ...          ...           ...          ...             ...\n",
       "145           6.7          3.0           5.2          2.3  Iris-virginica\n",
       "146           6.3          2.5           5.0          1.9  Iris-virginica\n",
       "147           6.5          3.0           5.2          2.0  Iris-virginica\n",
       "148           6.2          3.4           5.4          2.3  Iris-virginica\n",
       "149           5.9          3.0           5.1          1.8  Iris-virginica\n",
       "\n",
       "[150 rows x 5 columns]"
      ]
     },
     "execution_count": 82,
     "metadata": {},
     "output_type": "execute_result"
    }
   ],
   "source": [
    "df"
   ]
  },
  {
   "cell_type": "code",
   "execution_count": 83,
   "id": "26d8d944",
   "metadata": {},
   "outputs": [],
   "source": [
    "X = df.iloc[:,0:4]\n",
    "y = df.iloc[:,4]"
   ]
  },
  {
   "cell_type": "code",
   "execution_count": 84,
   "id": "f2e56511",
   "metadata": {},
   "outputs": [],
   "source": [
    "y = pd.get_dummies(y)"
   ]
  },
  {
   "cell_type": "code",
   "execution_count": 85,
   "id": "46fd5f6a",
   "metadata": {},
   "outputs": [
    {
     "data": {
      "text/html": [
       "<div>\n",
       "<style scoped>\n",
       "    .dataframe tbody tr th:only-of-type {\n",
       "        vertical-align: middle;\n",
       "    }\n",
       "\n",
       "    .dataframe tbody tr th {\n",
       "        vertical-align: top;\n",
       "    }\n",
       "\n",
       "    .dataframe thead th {\n",
       "        text-align: right;\n",
       "    }\n",
       "</style>\n",
       "<table border=\"1\" class=\"dataframe\">\n",
       "  <thead>\n",
       "    <tr style=\"text-align: right;\">\n",
       "      <th></th>\n",
       "      <th>Iris-setosa</th>\n",
       "      <th>Iris-versicolor</th>\n",
       "      <th>Iris-virginica</th>\n",
       "    </tr>\n",
       "  </thead>\n",
       "  <tbody>\n",
       "    <tr>\n",
       "      <th>0</th>\n",
       "      <td>1</td>\n",
       "      <td>0</td>\n",
       "      <td>0</td>\n",
       "    </tr>\n",
       "    <tr>\n",
       "      <th>1</th>\n",
       "      <td>1</td>\n",
       "      <td>0</td>\n",
       "      <td>0</td>\n",
       "    </tr>\n",
       "    <tr>\n",
       "      <th>2</th>\n",
       "      <td>1</td>\n",
       "      <td>0</td>\n",
       "      <td>0</td>\n",
       "    </tr>\n",
       "    <tr>\n",
       "      <th>3</th>\n",
       "      <td>1</td>\n",
       "      <td>0</td>\n",
       "      <td>0</td>\n",
       "    </tr>\n",
       "    <tr>\n",
       "      <th>4</th>\n",
       "      <td>1</td>\n",
       "      <td>0</td>\n",
       "      <td>0</td>\n",
       "    </tr>\n",
       "    <tr>\n",
       "      <th>...</th>\n",
       "      <td>...</td>\n",
       "      <td>...</td>\n",
       "      <td>...</td>\n",
       "    </tr>\n",
       "    <tr>\n",
       "      <th>145</th>\n",
       "      <td>0</td>\n",
       "      <td>0</td>\n",
       "      <td>1</td>\n",
       "    </tr>\n",
       "    <tr>\n",
       "      <th>146</th>\n",
       "      <td>0</td>\n",
       "      <td>0</td>\n",
       "      <td>1</td>\n",
       "    </tr>\n",
       "    <tr>\n",
       "      <th>147</th>\n",
       "      <td>0</td>\n",
       "      <td>0</td>\n",
       "      <td>1</td>\n",
       "    </tr>\n",
       "    <tr>\n",
       "      <th>148</th>\n",
       "      <td>0</td>\n",
       "      <td>0</td>\n",
       "      <td>1</td>\n",
       "    </tr>\n",
       "    <tr>\n",
       "      <th>149</th>\n",
       "      <td>0</td>\n",
       "      <td>0</td>\n",
       "      <td>1</td>\n",
       "    </tr>\n",
       "  </tbody>\n",
       "</table>\n",
       "<p>150 rows × 3 columns</p>\n",
       "</div>"
      ],
      "text/plain": [
       "     Iris-setosa  Iris-versicolor  Iris-virginica\n",
       "0              1                0               0\n",
       "1              1                0               0\n",
       "2              1                0               0\n",
       "3              1                0               0\n",
       "4              1                0               0\n",
       "..           ...              ...             ...\n",
       "145            0                0               1\n",
       "146            0                0               1\n",
       "147            0                0               1\n",
       "148            0                0               1\n",
       "149            0                0               1\n",
       "\n",
       "[150 rows x 3 columns]"
      ]
     },
     "execution_count": 85,
     "metadata": {},
     "output_type": "execute_result"
    }
   ],
   "source": [
    "y"
   ]
  },
  {
   "cell_type": "code",
   "execution_count": 89,
   "id": "f786b881",
   "metadata": {},
   "outputs": [],
   "source": [
    "model = Sequential()"
   ]
  },
  {
   "cell_type": "code",
   "execution_count": 90,
   "id": "6d183ed6",
   "metadata": {},
   "outputs": [],
   "source": [
    "model.add(Dense(16,  input_dim=4, activation='relu'))\n",
    "model.add(Dense(8,  activation='relu'))\n",
    "model.add(Dense(3,  activation='softmax'))"
   ]
  },
  {
   "cell_type": "code",
   "execution_count": 92,
   "id": "f013142b",
   "metadata": {},
   "outputs": [],
   "source": [
    "model.compile(loss='categorical_crossentropy', optimizer='adam', metrics=['accuracy'])"
   ]
  },
  {
   "cell_type": "code",
   "execution_count": 94,
   "id": "fafd1f83",
   "metadata": {
    "scrolled": true
   },
   "outputs": [
    {
     "name": "stdout",
     "output_type": "stream",
     "text": [
      "Epoch 1/40\n",
      "30/30 [==============================] - 1s 1ms/step - loss: 1.0681 - accuracy: 0.5200\n",
      "Epoch 2/40\n",
      "30/30 [==============================] - 0s 1ms/step - loss: 0.8944 - accuracy: 0.6533\n",
      "Epoch 3/40\n",
      "30/30 [==============================] - 0s 1ms/step - loss: 0.8259 - accuracy: 0.9400\n",
      "Epoch 4/40\n",
      "30/30 [==============================] - 0s 1ms/step - loss: 0.7629 - accuracy: 0.8733\n",
      "Epoch 5/40\n",
      "30/30 [==============================] - 0s 1ms/step - loss: 0.6926 - accuracy: 0.8933\n",
      "Epoch 6/40\n",
      "30/30 [==============================] - 0s 1ms/step - loss: 0.6264 - accuracy: 0.8667\n",
      "Epoch 7/40\n",
      "30/30 [==============================] - 0s 1ms/step - loss: 0.5639 - accuracy: 0.9133\n",
      "Epoch 8/40\n",
      "30/30 [==============================] - 0s 1ms/step - loss: 0.4905 - accuracy: 0.9067\n",
      "Epoch 9/40\n",
      "30/30 [==============================] - 0s 1ms/step - loss: 0.4396 - accuracy: 0.9733\n",
      "Epoch 10/40\n",
      "30/30 [==============================] - 0s 1ms/step - loss: 0.4083 - accuracy: 0.9467\n",
      "Epoch 11/40\n",
      "30/30 [==============================] - 0s 1ms/step - loss: 0.3748 - accuracy: 0.9133\n",
      "Epoch 12/40\n",
      "30/30 [==============================] - 0s 1ms/step - loss: 0.3499 - accuracy: 0.9667\n",
      "Epoch 13/40\n",
      "30/30 [==============================] - 0s 1ms/step - loss: 0.3288 - accuracy: 0.9667\n",
      "Epoch 14/40\n",
      "30/30 [==============================] - 0s 1ms/step - loss: 0.2995 - accuracy: 0.9667\n",
      "Epoch 15/40\n",
      "30/30 [==============================] - 0s 1ms/step - loss: 0.2802 - accuracy: 0.9600\n",
      "Epoch 16/40\n",
      "30/30 [==============================] - 0s 1ms/step - loss: 0.2600 - accuracy: 0.9533\n",
      "Epoch 17/40\n",
      "30/30 [==============================] - 0s 1ms/step - loss: 0.2438 - accuracy: 0.9867\n",
      "Epoch 18/40\n",
      "30/30 [==============================] - 0s 1ms/step - loss: 0.2285 - accuracy: 0.9800\n",
      "Epoch 19/40\n",
      "30/30 [==============================] - 0s 1ms/step - loss: 0.2140 - accuracy: 0.9800\n",
      "Epoch 20/40\n",
      "30/30 [==============================] - 0s 1ms/step - loss: 0.2047 - accuracy: 0.9867\n",
      "Epoch 21/40\n",
      "30/30 [==============================] - 0s 1ms/step - loss: 0.1962 - accuracy: 0.9733\n",
      "Epoch 22/40\n",
      "30/30 [==============================] - 0s 1ms/step - loss: 0.1916 - accuracy: 0.9533\n",
      "Epoch 23/40\n",
      "30/30 [==============================] - 0s 1ms/step - loss: 0.1767 - accuracy: 0.9800\n",
      "Epoch 24/40\n",
      "30/30 [==============================] - 0s 1ms/step - loss: 0.1683 - accuracy: 0.9733\n",
      "Epoch 25/40\n",
      "30/30 [==============================] - 0s 1ms/step - loss: 0.1630 - accuracy: 0.9733\n",
      "Epoch 26/40\n",
      "30/30 [==============================] - 0s 1ms/step - loss: 0.1506 - accuracy: 0.9800\n",
      "Epoch 27/40\n",
      "30/30 [==============================] - 0s 1ms/step - loss: 0.1541 - accuracy: 0.9533\n",
      "Epoch 28/40\n",
      "30/30 [==============================] - 0s 1ms/step - loss: 0.1458 - accuracy: 0.9733\n",
      "Epoch 29/40\n",
      "30/30 [==============================] - 0s 1ms/step - loss: 0.1382 - accuracy: 0.9800\n",
      "Epoch 30/40\n",
      "30/30 [==============================] - 0s 1ms/step - loss: 0.1360 - accuracy: 0.9800\n",
      "Epoch 31/40\n",
      "30/30 [==============================] - 0s 1ms/step - loss: 0.1269 - accuracy: 0.9867\n",
      "Epoch 32/40\n",
      "30/30 [==============================] - 0s 1ms/step - loss: 0.1259 - accuracy: 0.9733\n",
      "Epoch 33/40\n",
      "30/30 [==============================] - 0s 1ms/step - loss: 0.1272 - accuracy: 0.9800\n",
      "Epoch 34/40\n",
      "30/30 [==============================] - 0s 1ms/step - loss: 0.1180 - accuracy: 0.9733\n",
      "Epoch 35/40\n",
      "30/30 [==============================] - 0s 1ms/step - loss: 0.1160 - accuracy: 0.9800\n",
      "Epoch 36/40\n",
      "30/30 [==============================] - 0s 1ms/step - loss: 0.1243 - accuracy: 0.9667\n",
      "Epoch 37/40\n",
      "30/30 [==============================] - 0s 1ms/step - loss: 0.1176 - accuracy: 0.9600\n",
      "Epoch 38/40\n",
      "30/30 [==============================] - 0s 1ms/step - loss: 0.1057 - accuracy: 0.9800\n",
      "Epoch 39/40\n",
      "30/30 [==============================] - 0s 1ms/step - loss: 0.1037 - accuracy: 0.9800\n",
      "Epoch 40/40\n",
      "30/30 [==============================] - 0s 1ms/step - loss: 0.1089 - accuracy: 0.9600\n"
     ]
    },
    {
     "data": {
      "text/plain": [
       "<keras.src.callbacks.History at 0x2107cb59890>"
      ]
     },
     "execution_count": 94,
     "metadata": {},
     "output_type": "execute_result"
    }
   ],
   "source": [
    "model.fit(X,y,epochs=40, batch_size=5)"
   ]
  },
  {
   "cell_type": "code",
   "execution_count": null,
   "id": "20701e11",
   "metadata": {},
   "outputs": [],
   "source": []
  },
  {
   "cell_type": "code",
   "execution_count": null,
   "id": "0c4c44e9",
   "metadata": {},
   "outputs": [],
   "source": [
    "5.9\t3.0\t5.1\t1.8\t  Iris-virginica  0\t0\t1"
   ]
  },
  {
   "cell_type": "code",
   "execution_count": 96,
   "id": "88049e63",
   "metadata": {},
   "outputs": [
    {
     "name": "stdout",
     "output_type": "stream",
     "text": [
      "1/1 [==============================] - 0s 48ms/step\n"
     ]
    },
    {
     "data": {
      "text/plain": [
       "array([[3.9010032e-04, 3.1616637e-01, 6.8344355e-01]], dtype=float32)"
      ]
     },
     "execution_count": 96,
     "metadata": {},
     "output_type": "execute_result"
    }
   ],
   "source": [
    "model.predict(np.array([[5.9, 3.0, 5.1, 1.8]]))"
   ]
  },
  {
   "cell_type": "code",
   "execution_count": 97,
   "id": "4ca1e9a2",
   "metadata": {},
   "outputs": [
    {
     "data": {
      "text/plain": [
       "2"
      ]
     },
     "execution_count": 97,
     "metadata": {},
     "output_type": "execute_result"
    }
   ],
   "source": [
    "np.argmax([3.9010032e-04, 3.1616637e-01, 6.8344355e-01])"
   ]
  },
  {
   "cell_type": "code",
   "execution_count": null,
   "id": "62b26606",
   "metadata": {},
   "outputs": [],
   "source": [
    "배경 :\n",
    "전경 : 본인 얼굴(사람), 강아지, 고양이, 다른 사람, 자전거, 컴퓨터...\n",
    "\n"
   ]
  },
  {
   "cell_type": "code",
   "execution_count": null,
   "id": "dfbcc37a",
   "metadata": {},
   "outputs": [],
   "source": []
  },
  {
   "cell_type": "code",
   "execution_count": null,
   "id": "fb7172fb",
   "metadata": {},
   "outputs": [],
   "source": []
  },
  {
   "cell_type": "code",
   "execution_count": null,
   "id": "eaa87eaf",
   "metadata": {},
   "outputs": [],
   "source": []
  },
  {
   "cell_type": "code",
   "execution_count": null,
   "id": "fec058e9",
   "metadata": {},
   "outputs": [],
   "source": []
  },
  {
   "cell_type": "code",
   "execution_count": null,
   "id": "4e3e11b2",
   "metadata": {},
   "outputs": [],
   "source": []
  }
 ],
 "metadata": {
  "kernelspec": {
   "display_name": "Python 3 (ipykernel)",
   "language": "python",
   "name": "python3"
  },
  "language_info": {
   "codemirror_mode": {
    "name": "ipython",
    "version": 3
   },
   "file_extension": ".py",
   "mimetype": "text/x-python",
   "name": "python",
   "nbconvert_exporter": "python",
   "pygments_lexer": "ipython3",
   "version": "3.11.4"
  }
 },
 "nbformat": 4,
 "nbformat_minor": 5
}
